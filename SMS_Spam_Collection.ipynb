{
  "nbformat": 4,
  "nbformat_minor": 0,
  "metadata": {
    "colab": {
      "name": "SMS_Spam_Collection.ipynb",
      "provenance": [],
      "collapsed_sections": [],
      "toc_visible": true,
      "authorship_tag": "ABX9TyNNe5ECpITlkrBTt51Fti8v",
      "include_colab_link": true
    },
    "kernelspec": {
      "name": "python3",
      "display_name": "Python 3"
    }
  },
  "cells": [
    {
      "cell_type": "markdown",
      "metadata": {
        "id": "view-in-github",
        "colab_type": "text"
      },
      "source": [
        "<a href=\"https://colab.research.google.com/github/memetics19/Sms_spam_collection-/blob/master/SMS_Spam_Collection.ipynb\" target=\"_parent\"><img src=\"https://colab.research.google.com/assets/colab-badge.svg\" alt=\"Open In Colab\"/></a>"
      ]
    },
    {
      "cell_type": "markdown",
      "metadata": {
        "id": "i-pLpC9gQvSO",
        "colab_type": "text"
      },
      "source": [
        "# Importing all the libraries "
      ]
    },
    {
      "cell_type": "code",
      "metadata": {
        "id": "j5cTFB4zxyyT",
        "colab_type": "code",
        "outputId": "70ed2f07-deb5-4cb6-fdfc-60acfff723ea",
        "colab": {
          "base_uri": "https://localhost:8080/",
          "height": 101
        }
      },
      "source": [
        "import pandas as pd \n",
        "import string \n",
        "import re\n",
        "import nltk \n",
        "from nltk.stem import PorterStemmer\n",
        "from sklearn.feature_extraction.text import CountVectorizer\n",
        "\n",
        "nltk.download('stopwords')\n",
        "nltk.download('wordnet')"
      ],
      "execution_count": 458,
      "outputs": [
        {
          "output_type": "stream",
          "text": [
            "[nltk_data] Downloading package stopwords to /root/nltk_data...\n",
            "[nltk_data]   Package stopwords is already up-to-date!\n",
            "[nltk_data] Downloading package wordnet to /root/nltk_data...\n",
            "[nltk_data]   Package wordnet is already up-to-date!\n"
          ],
          "name": "stdout"
        },
        {
          "output_type": "execute_result",
          "data": {
            "text/plain": [
              "True"
            ]
          },
          "metadata": {
            "tags": []
          },
          "execution_count": 458
        }
      ]
    },
    {
      "cell_type": "code",
      "metadata": {
        "id": "AkKjW0ZcePOs",
        "colab_type": "code",
        "outputId": "ac24e972-6b42-4c99-991c-1673ca555e5b",
        "colab": {
          "base_uri": "https://localhost:8080/",
          "height": 54
        }
      },
      "source": [
        "doc = open(\"SMSSpamCollection\").read()\n",
        "doc[0:500]"
      ],
      "execution_count": 459,
      "outputs": [
        {
          "output_type": "execute_result",
          "data": {
            "text/plain": [
              "\"ham\\tGo until jurong point, crazy.. Available only in bugis n great world la e buffet... Cine there got amore wat...\\nham\\tOk lar... Joking wif u oni...\\nspam\\tFree entry in 2 a wkly comp to win FA Cup final tkts 21st May 2005. Text FA to 87121 to receive entry question(std txt rate)T&C's apply 08452810075over18's\\nham\\tU dun say so early hor... U c already then say...\\nham\\tNah I don't think he goes to usf, he lives around here though\\nspam\\tFreeMsg Hey there darling it's been 3 week's now and no word bac\""
            ]
          },
          "metadata": {
            "tags": []
          },
          "execution_count": 459
        }
      ]
    },
    {
      "cell_type": "code",
      "metadata": {
        "id": "GKarzIXFpxt_",
        "colab_type": "code",
        "colab": {}
      },
      "source": [
        "parsed_data=doc.replace('\\t','\\n').split('\\n')"
      ],
      "execution_count": 0,
      "outputs": []
    },
    {
      "cell_type": "code",
      "metadata": {
        "id": "duMABu5EqS-y",
        "colab_type": "code",
        "outputId": "a4c2139c-d6f3-4f2d-a13d-30ffeb82ca51",
        "colab": {
          "base_uri": "https://localhost:8080/",
          "height": 70
        }
      },
      "source": [
        "label_list=parsed_data[0::2]\n",
        "msg_list=parsed_data[1::2]\n",
        "print(label_list[0:5])\n",
        "print(msg_list[0:5])"
      ],
      "execution_count": 461,
      "outputs": [
        {
          "output_type": "stream",
          "text": [
            "['ham', 'ham', 'spam', 'ham', 'ham']\n",
            "['Go until jurong point, crazy.. Available only in bugis n great world la e buffet... Cine there got amore wat...', 'Ok lar... Joking wif u oni...', \"Free entry in 2 a wkly comp to win FA Cup final tkts 21st May 2005. Text FA to 87121 to receive entry question(std txt rate)T&C's apply 08452810075over18's\", 'U dun say so early hor... U c already then say...', \"Nah I don't think he goes to usf, he lives around here though\"]\n"
          ],
          "name": "stdout"
        }
      ]
    },
    {
      "cell_type": "markdown",
      "metadata": {
        "id": "C4AmRp8dzLSQ",
        "colab_type": "text"
      },
      "source": [
        "# Read the Dataset "
      ]
    },
    {
      "cell_type": "code",
      "metadata": {
        "id": "1Md1-5Eyudca",
        "colab_type": "code",
        "colab": {}
      },
      "source": [
        "df=pd.DataFrame({\n",
        "    'label':label_list[:-1],\n",
        "    'sms':msg_list\n",
        "    \n",
        "})"
      ],
      "execution_count": 0,
      "outputs": []
    },
    {
      "cell_type": "code",
      "metadata": {
        "id": "8iivTodYuv49",
        "colab_type": "code",
        "outputId": "4843283f-bd16-40fa-af73-1029bf70501e",
        "colab": {
          "base_uri": "https://localhost:8080/",
          "height": 195
        }
      },
      "source": [
        "df.head()"
      ],
      "execution_count": 463,
      "outputs": [
        {
          "output_type": "execute_result",
          "data": {
            "text/html": [
              "<div>\n",
              "<style scoped>\n",
              "    .dataframe tbody tr th:only-of-type {\n",
              "        vertical-align: middle;\n",
              "    }\n",
              "\n",
              "    .dataframe tbody tr th {\n",
              "        vertical-align: top;\n",
              "    }\n",
              "\n",
              "    .dataframe thead th {\n",
              "        text-align: right;\n",
              "    }\n",
              "</style>\n",
              "<table border=\"1\" class=\"dataframe\">\n",
              "  <thead>\n",
              "    <tr style=\"text-align: right;\">\n",
              "      <th></th>\n",
              "      <th>label</th>\n",
              "      <th>sms</th>\n",
              "    </tr>\n",
              "  </thead>\n",
              "  <tbody>\n",
              "    <tr>\n",
              "      <th>0</th>\n",
              "      <td>ham</td>\n",
              "      <td>Go until jurong point, crazy.. Available only ...</td>\n",
              "    </tr>\n",
              "    <tr>\n",
              "      <th>1</th>\n",
              "      <td>ham</td>\n",
              "      <td>Ok lar... Joking wif u oni...</td>\n",
              "    </tr>\n",
              "    <tr>\n",
              "      <th>2</th>\n",
              "      <td>spam</td>\n",
              "      <td>Free entry in 2 a wkly comp to win FA Cup fina...</td>\n",
              "    </tr>\n",
              "    <tr>\n",
              "      <th>3</th>\n",
              "      <td>ham</td>\n",
              "      <td>U dun say so early hor... U c already then say...</td>\n",
              "    </tr>\n",
              "    <tr>\n",
              "      <th>4</th>\n",
              "      <td>ham</td>\n",
              "      <td>Nah I don't think he goes to usf, he lives aro...</td>\n",
              "    </tr>\n",
              "  </tbody>\n",
              "</table>\n",
              "</div>"
            ],
            "text/plain": [
              "  label                                                sms\n",
              "0   ham  Go until jurong point, crazy.. Available only ...\n",
              "1   ham                      Ok lar... Joking wif u oni...\n",
              "2  spam  Free entry in 2 a wkly comp to win FA Cup fina...\n",
              "3   ham  U dun say so early hor... U c already then say...\n",
              "4   ham  Nah I don't think he goes to usf, he lives aro..."
            ]
          },
          "metadata": {
            "tags": []
          },
          "execution_count": 463
        }
      ]
    },
    {
      "cell_type": "code",
      "metadata": {
        "id": "I5Uvii3Av2Fp",
        "colab_type": "code",
        "colab": {}
      },
      "source": [
        "data=pd.read_csv(\"SMSSpamCollection\",sep=\"\\t\",header=None)\n",
        "data.columns=['label','sms']"
      ],
      "execution_count": 0,
      "outputs": []
    },
    {
      "cell_type": "code",
      "metadata": {
        "id": "XZCaj7dc3qA3",
        "colab_type": "code",
        "outputId": "645408ac-8924-4ea0-ea0f-83687398b77e",
        "colab": {
          "base_uri": "https://localhost:8080/",
          "height": 195
        }
      },
      "source": [
        "data.head()"
      ],
      "execution_count": 465,
      "outputs": [
        {
          "output_type": "execute_result",
          "data": {
            "text/html": [
              "<div>\n",
              "<style scoped>\n",
              "    .dataframe tbody tr th:only-of-type {\n",
              "        vertical-align: middle;\n",
              "    }\n",
              "\n",
              "    .dataframe tbody tr th {\n",
              "        vertical-align: top;\n",
              "    }\n",
              "\n",
              "    .dataframe thead th {\n",
              "        text-align: right;\n",
              "    }\n",
              "</style>\n",
              "<table border=\"1\" class=\"dataframe\">\n",
              "  <thead>\n",
              "    <tr style=\"text-align: right;\">\n",
              "      <th></th>\n",
              "      <th>label</th>\n",
              "      <th>sms</th>\n",
              "    </tr>\n",
              "  </thead>\n",
              "  <tbody>\n",
              "    <tr>\n",
              "      <th>0</th>\n",
              "      <td>ham</td>\n",
              "      <td>Go until jurong point, crazy.. Available only ...</td>\n",
              "    </tr>\n",
              "    <tr>\n",
              "      <th>1</th>\n",
              "      <td>ham</td>\n",
              "      <td>Ok lar... Joking wif u oni...</td>\n",
              "    </tr>\n",
              "    <tr>\n",
              "      <th>2</th>\n",
              "      <td>spam</td>\n",
              "      <td>Free entry in 2 a wkly comp to win FA Cup fina...</td>\n",
              "    </tr>\n",
              "    <tr>\n",
              "      <th>3</th>\n",
              "      <td>ham</td>\n",
              "      <td>U dun say so early hor... U c already then say...</td>\n",
              "    </tr>\n",
              "    <tr>\n",
              "      <th>4</th>\n",
              "      <td>ham</td>\n",
              "      <td>Nah I don't think he goes to usf, he lives aro...</td>\n",
              "    </tr>\n",
              "  </tbody>\n",
              "</table>\n",
              "</div>"
            ],
            "text/plain": [
              "  label                                                sms\n",
              "0   ham  Go until jurong point, crazy.. Available only ...\n",
              "1   ham                      Ok lar... Joking wif u oni...\n",
              "2  spam  Free entry in 2 a wkly comp to win FA Cup fina...\n",
              "3   ham  U dun say so early hor... U c already then say...\n",
              "4   ham  Nah I don't think he goes to usf, he lives aro..."
            ]
          },
          "metadata": {
            "tags": []
          },
          "execution_count": 465
        }
      ]
    },
    {
      "cell_type": "markdown",
      "metadata": {
        "id": "qWjw2JlOzXdp",
        "colab_type": "text"
      },
      "source": [
        "# Shape of the Datasets \n"
      ]
    },
    {
      "cell_type": "code",
      "metadata": {
        "id": "jpLpeKUhx3II",
        "colab_type": "code",
        "outputId": "a06d3262-d71a-4bc5-af2f-8ae32ef25bcd",
        "colab": {
          "base_uri": "https://localhost:8080/",
          "height": 34
        }
      },
      "source": [
        "print(f\"input data as {len(data)} rows and {len(data.columns)} columns\")"
      ],
      "execution_count": 466,
      "outputs": [
        {
          "output_type": "stream",
          "text": [
            "input data as 5572 rows and 2 columns\n"
          ],
          "name": "stdout"
        }
      ]
    },
    {
      "cell_type": "markdown",
      "metadata": {
        "id": "1jYxvNvszvTn",
        "colab_type": "text"
      },
      "source": [
        "# Length of the ham and spam "
      ]
    },
    {
      "cell_type": "code",
      "metadata": {
        "id": "H8QD0O9ozuXA",
        "colab_type": "code",
        "outputId": "2abca662-82cc-458a-953c-0e6e8ac31949",
        "colab": {
          "base_uri": "https://localhost:8080/",
          "height": 34
        }
      },
      "source": [
        "print(f'ham= {len(data[data[\"label\"]==\"ham\"])}')"
      ],
      "execution_count": 467,
      "outputs": [
        {
          "output_type": "stream",
          "text": [
            "ham= 4825\n"
          ],
          "name": "stdout"
        }
      ]
    },
    {
      "cell_type": "code",
      "metadata": {
        "id": "k4e7IrVK3yCJ",
        "colab_type": "code",
        "outputId": "73fde305-ef73-4fa1-f53f-68880ca84c5b",
        "colab": {
          "base_uri": "https://localhost:8080/",
          "height": 34
        }
      },
      "source": [
        "print(f'spam= {len(data[data[\"label\"]==\"spam\"])}')"
      ],
      "execution_count": 468,
      "outputs": [
        {
          "output_type": "stream",
          "text": [
            "spam= 747\n"
          ],
          "name": "stdout"
        }
      ]
    },
    {
      "cell_type": "markdown",
      "metadata": {
        "id": "vL_TKiKl4H8q",
        "colab_type": "text"
      },
      "source": [
        "Let's check for missing data"
      ]
    },
    {
      "cell_type": "code",
      "metadata": {
        "id": "jdExRnQd33j7",
        "colab_type": "code",
        "outputId": "36fcf74a-ade1-474d-c861-63697007fcd4",
        "colab": {
          "base_uri": "https://localhost:8080/",
          "height": 50
        }
      },
      "source": [
        "print(f\"number of missing label = {data['label'].isnull().sum()}\")\n",
        "print(f\"number of missing messages  = {data['sms'].isnull().sum()}\")"
      ],
      "execution_count": 469,
      "outputs": [
        {
          "output_type": "stream",
          "text": [
            "number of missing label = 0\n",
            "number of missing messages  = 0\n"
          ],
          "name": "stdout"
        }
      ]
    },
    {
      "cell_type": "markdown",
      "metadata": {
        "id": "NcgC4DpCG_VW",
        "colab_type": "text"
      },
      "source": [
        "# Removing the Punctuation \n",
        "Punctuation is present in the string library. Let's see the punctuations present in it."
      ]
    },
    {
      "cell_type": "code",
      "metadata": {
        "id": "08d0accMHHsZ",
        "colab_type": "code",
        "outputId": "5ccb5444-5a35-47f8-a600-4fdf422aa901",
        "colab": {
          "base_uri": "https://localhost:8080/",
          "height": 34
        }
      },
      "source": [
        "string.punctuation"
      ],
      "execution_count": 470,
      "outputs": [
        {
          "output_type": "execute_result",
          "data": {
            "text/plain": [
              "'!\"#$%&\\'()*+,-./:;<=>?@[\\\\]^_`{|}~'"
            ]
          },
          "metadata": {
            "tags": []
          },
          "execution_count": 470
        }
      ]
    },
    {
      "cell_type": "markdown",
      "metadata": {
        "id": "OpvgL3J9KGxs",
        "colab_type": "text"
      },
      "source": [
        "using list comprehension feature removing the punctuation "
      ]
    },
    {
      "cell_type": "code",
      "metadata": {
        "id": "BLlSbcMRJ4Rf",
        "colab_type": "code",
        "colab": {}
      },
      "source": [
        "def rem_punctate(txt):\n",
        "  txt_nopunt=\"\".join([ c for c in txt if c not in string.punctuation])\n",
        "  return txt_nopunt"
      ],
      "execution_count": 0,
      "outputs": []
    },
    {
      "cell_type": "code",
      "metadata": {
        "id": "lwjKggbeKr67",
        "colab_type": "code",
        "colab": {}
      },
      "source": [
        "data['sms_clean']=data['sms'].apply(lambda x: rem_punctate(x))"
      ],
      "execution_count": 0,
      "outputs": []
    },
    {
      "cell_type": "code",
      "metadata": {
        "id": "ZjC7QXrxLgoL",
        "colab_type": "code",
        "outputId": "dc73d1df-f2de-4b7b-cc7c-b49632ec9090",
        "colab": {
          "base_uri": "https://localhost:8080/",
          "height": 195
        }
      },
      "source": [
        "data.head()"
      ],
      "execution_count": 473,
      "outputs": [
        {
          "output_type": "execute_result",
          "data": {
            "text/html": [
              "<div>\n",
              "<style scoped>\n",
              "    .dataframe tbody tr th:only-of-type {\n",
              "        vertical-align: middle;\n",
              "    }\n",
              "\n",
              "    .dataframe tbody tr th {\n",
              "        vertical-align: top;\n",
              "    }\n",
              "\n",
              "    .dataframe thead th {\n",
              "        text-align: right;\n",
              "    }\n",
              "</style>\n",
              "<table border=\"1\" class=\"dataframe\">\n",
              "  <thead>\n",
              "    <tr style=\"text-align: right;\">\n",
              "      <th></th>\n",
              "      <th>label</th>\n",
              "      <th>sms</th>\n",
              "      <th>sms_clean</th>\n",
              "    </tr>\n",
              "  </thead>\n",
              "  <tbody>\n",
              "    <tr>\n",
              "      <th>0</th>\n",
              "      <td>ham</td>\n",
              "      <td>Go until jurong point, crazy.. Available only ...</td>\n",
              "      <td>Go until jurong point crazy Available only in ...</td>\n",
              "    </tr>\n",
              "    <tr>\n",
              "      <th>1</th>\n",
              "      <td>ham</td>\n",
              "      <td>Ok lar... Joking wif u oni...</td>\n",
              "      <td>Ok lar Joking wif u oni</td>\n",
              "    </tr>\n",
              "    <tr>\n",
              "      <th>2</th>\n",
              "      <td>spam</td>\n",
              "      <td>Free entry in 2 a wkly comp to win FA Cup fina...</td>\n",
              "      <td>Free entry in 2 a wkly comp to win FA Cup fina...</td>\n",
              "    </tr>\n",
              "    <tr>\n",
              "      <th>3</th>\n",
              "      <td>ham</td>\n",
              "      <td>U dun say so early hor... U c already then say...</td>\n",
              "      <td>U dun say so early hor U c already then say</td>\n",
              "    </tr>\n",
              "    <tr>\n",
              "      <th>4</th>\n",
              "      <td>ham</td>\n",
              "      <td>Nah I don't think he goes to usf, he lives aro...</td>\n",
              "      <td>Nah I dont think he goes to usf he lives aroun...</td>\n",
              "    </tr>\n",
              "  </tbody>\n",
              "</table>\n",
              "</div>"
            ],
            "text/plain": [
              "  label  ...                                          sms_clean\n",
              "0   ham  ...  Go until jurong point crazy Available only in ...\n",
              "1   ham  ...                            Ok lar Joking wif u oni\n",
              "2  spam  ...  Free entry in 2 a wkly comp to win FA Cup fina...\n",
              "3   ham  ...        U dun say so early hor U c already then say\n",
              "4   ham  ...  Nah I dont think he goes to usf he lives aroun...\n",
              "\n",
              "[5 rows x 3 columns]"
            ]
          },
          "metadata": {
            "tags": []
          },
          "execution_count": 473
        }
      ]
    },
    {
      "cell_type": "markdown",
      "metadata": {
        "id": "c5v7uAHBNGZP",
        "colab_type": "text"
      },
      "source": [
        "# Tokenization \n",
        "splitting text into list of words \n"
      ]
    },
    {
      "cell_type": "code",
      "metadata": {
        "id": "wR8UAlNjNE2Z",
        "colab_type": "code",
        "colab": {}
      },
      "source": [
        "def tokenize(txt):\n",
        "  tokens=re.split(\"\\W+\",txt)# \"W+\" is represented for non words and \"+\" represents one or more words\n",
        "  return tokens"
      ],
      "execution_count": 0,
      "outputs": []
    },
    {
      "cell_type": "code",
      "metadata": {
        "id": "Cjq7Gm0NOe5k",
        "colab_type": "code",
        "colab": {}
      },
      "source": [
        "data[\"sms_clean_tokenized\"]=data[\"sms_clean\"].apply(lambda x:tokenize(x))"
      ],
      "execution_count": 0,
      "outputs": []
    },
    {
      "cell_type": "code",
      "metadata": {
        "id": "Fy2YemZfO0i-",
        "colab_type": "code",
        "outputId": "f13bc95b-25eb-43b0-995c-2419f5ad5974",
        "colab": {
          "base_uri": "https://localhost:8080/",
          "height": 195
        }
      },
      "source": [
        "data.head()"
      ],
      "execution_count": 476,
      "outputs": [
        {
          "output_type": "execute_result",
          "data": {
            "text/html": [
              "<div>\n",
              "<style scoped>\n",
              "    .dataframe tbody tr th:only-of-type {\n",
              "        vertical-align: middle;\n",
              "    }\n",
              "\n",
              "    .dataframe tbody tr th {\n",
              "        vertical-align: top;\n",
              "    }\n",
              "\n",
              "    .dataframe thead th {\n",
              "        text-align: right;\n",
              "    }\n",
              "</style>\n",
              "<table border=\"1\" class=\"dataframe\">\n",
              "  <thead>\n",
              "    <tr style=\"text-align: right;\">\n",
              "      <th></th>\n",
              "      <th>label</th>\n",
              "      <th>sms</th>\n",
              "      <th>sms_clean</th>\n",
              "      <th>sms_clean_tokenized</th>\n",
              "    </tr>\n",
              "  </thead>\n",
              "  <tbody>\n",
              "    <tr>\n",
              "      <th>0</th>\n",
              "      <td>ham</td>\n",
              "      <td>Go until jurong point, crazy.. Available only ...</td>\n",
              "      <td>Go until jurong point crazy Available only in ...</td>\n",
              "      <td>[Go, until, jurong, point, crazy, Available, o...</td>\n",
              "    </tr>\n",
              "    <tr>\n",
              "      <th>1</th>\n",
              "      <td>ham</td>\n",
              "      <td>Ok lar... Joking wif u oni...</td>\n",
              "      <td>Ok lar Joking wif u oni</td>\n",
              "      <td>[Ok, lar, Joking, wif, u, oni]</td>\n",
              "    </tr>\n",
              "    <tr>\n",
              "      <th>2</th>\n",
              "      <td>spam</td>\n",
              "      <td>Free entry in 2 a wkly comp to win FA Cup fina...</td>\n",
              "      <td>Free entry in 2 a wkly comp to win FA Cup fina...</td>\n",
              "      <td>[Free, entry, in, 2, a, wkly, comp, to, win, F...</td>\n",
              "    </tr>\n",
              "    <tr>\n",
              "      <th>3</th>\n",
              "      <td>ham</td>\n",
              "      <td>U dun say so early hor... U c already then say...</td>\n",
              "      <td>U dun say so early hor U c already then say</td>\n",
              "      <td>[U, dun, say, so, early, hor, U, c, already, t...</td>\n",
              "    </tr>\n",
              "    <tr>\n",
              "      <th>4</th>\n",
              "      <td>ham</td>\n",
              "      <td>Nah I don't think he goes to usf, he lives aro...</td>\n",
              "      <td>Nah I dont think he goes to usf he lives aroun...</td>\n",
              "      <td>[Nah, I, dont, think, he, goes, to, usf, he, l...</td>\n",
              "    </tr>\n",
              "  </tbody>\n",
              "</table>\n",
              "</div>"
            ],
            "text/plain": [
              "  label  ...                                sms_clean_tokenized\n",
              "0   ham  ...  [Go, until, jurong, point, crazy, Available, o...\n",
              "1   ham  ...                     [Ok, lar, Joking, wif, u, oni]\n",
              "2  spam  ...  [Free, entry, in, 2, a, wkly, comp, to, win, F...\n",
              "3   ham  ...  [U, dun, say, so, early, hor, U, c, already, t...\n",
              "4   ham  ...  [Nah, I, dont, think, he, goes, to, usf, he, l...\n",
              "\n",
              "[5 rows x 4 columns]"
            ]
          },
          "metadata": {
            "tags": []
          },
          "execution_count": 476
        }
      ]
    },
    {
      "cell_type": "markdown",
      "metadata": {
        "id": "Ytxb3RWeP9dc",
        "colab_type": "text"
      },
      "source": [
        "# Removing the stop words\n",
        "\n",
        "stop words are the words are \"is\",\"the\",\"am\".. etc...\n",
        "\n",
        "It should be removed because it will make the data less which is feasible for machine learning model \n"
      ]
    },
    {
      "cell_type": "code",
      "metadata": {
        "id": "l4OfYX5YP8d0",
        "colab_type": "code",
        "colab": {}
      },
      "source": [
        "stop_words=nltk.corpus.stopwords.words('english')"
      ],
      "execution_count": 0,
      "outputs": []
    },
    {
      "cell_type": "markdown",
      "metadata": {
        "id": "mMgCZ1pxR7SH",
        "colab_type": "text"
      },
      "source": [
        "let's see 10 stop words "
      ]
    },
    {
      "cell_type": "code",
      "metadata": {
        "id": "YJmft7icRk0S",
        "colab_type": "code",
        "outputId": "2280e003-8346-4f8e-e252-952e03a85a60",
        "colab": {
          "base_uri": "https://localhost:8080/",
          "height": 34
        }
      },
      "source": [
        "stop_words[0:10]"
      ],
      "execution_count": 478,
      "outputs": [
        {
          "output_type": "execute_result",
          "data": {
            "text/plain": [
              "['i', 'me', 'my', 'myself', 'we', 'our', 'ours', 'ourselves', 'you', \"you're\"]"
            ]
          },
          "metadata": {
            "tags": []
          },
          "execution_count": 478
        }
      ]
    },
    {
      "cell_type": "markdown",
      "metadata": {
        "id": "kkhadSP1SFKz",
        "colab_type": "text"
      },
      "source": [
        "let's see all the stopwords "
      ]
    },
    {
      "cell_type": "code",
      "metadata": {
        "id": "XdOHsFomSERD",
        "colab_type": "code",
        "outputId": "b1ed36fa-da90-4473-e0fb-9472e7209366",
        "colab": {
          "base_uri": "https://localhost:8080/",
          "height": 1000
        }
      },
      "source": [
        "stop_words"
      ],
      "execution_count": 479,
      "outputs": [
        {
          "output_type": "execute_result",
          "data": {
            "text/plain": [
              "['i',\n",
              " 'me',\n",
              " 'my',\n",
              " 'myself',\n",
              " 'we',\n",
              " 'our',\n",
              " 'ours',\n",
              " 'ourselves',\n",
              " 'you',\n",
              " \"you're\",\n",
              " \"you've\",\n",
              " \"you'll\",\n",
              " \"you'd\",\n",
              " 'your',\n",
              " 'yours',\n",
              " 'yourself',\n",
              " 'yourselves',\n",
              " 'he',\n",
              " 'him',\n",
              " 'his',\n",
              " 'himself',\n",
              " 'she',\n",
              " \"she's\",\n",
              " 'her',\n",
              " 'hers',\n",
              " 'herself',\n",
              " 'it',\n",
              " \"it's\",\n",
              " 'its',\n",
              " 'itself',\n",
              " 'they',\n",
              " 'them',\n",
              " 'their',\n",
              " 'theirs',\n",
              " 'themselves',\n",
              " 'what',\n",
              " 'which',\n",
              " 'who',\n",
              " 'whom',\n",
              " 'this',\n",
              " 'that',\n",
              " \"that'll\",\n",
              " 'these',\n",
              " 'those',\n",
              " 'am',\n",
              " 'is',\n",
              " 'are',\n",
              " 'was',\n",
              " 'were',\n",
              " 'be',\n",
              " 'been',\n",
              " 'being',\n",
              " 'have',\n",
              " 'has',\n",
              " 'had',\n",
              " 'having',\n",
              " 'do',\n",
              " 'does',\n",
              " 'did',\n",
              " 'doing',\n",
              " 'a',\n",
              " 'an',\n",
              " 'the',\n",
              " 'and',\n",
              " 'but',\n",
              " 'if',\n",
              " 'or',\n",
              " 'because',\n",
              " 'as',\n",
              " 'until',\n",
              " 'while',\n",
              " 'of',\n",
              " 'at',\n",
              " 'by',\n",
              " 'for',\n",
              " 'with',\n",
              " 'about',\n",
              " 'against',\n",
              " 'between',\n",
              " 'into',\n",
              " 'through',\n",
              " 'during',\n",
              " 'before',\n",
              " 'after',\n",
              " 'above',\n",
              " 'below',\n",
              " 'to',\n",
              " 'from',\n",
              " 'up',\n",
              " 'down',\n",
              " 'in',\n",
              " 'out',\n",
              " 'on',\n",
              " 'off',\n",
              " 'over',\n",
              " 'under',\n",
              " 'again',\n",
              " 'further',\n",
              " 'then',\n",
              " 'once',\n",
              " 'here',\n",
              " 'there',\n",
              " 'when',\n",
              " 'where',\n",
              " 'why',\n",
              " 'how',\n",
              " 'all',\n",
              " 'any',\n",
              " 'both',\n",
              " 'each',\n",
              " 'few',\n",
              " 'more',\n",
              " 'most',\n",
              " 'other',\n",
              " 'some',\n",
              " 'such',\n",
              " 'no',\n",
              " 'nor',\n",
              " 'not',\n",
              " 'only',\n",
              " 'own',\n",
              " 'same',\n",
              " 'so',\n",
              " 'than',\n",
              " 'too',\n",
              " 'very',\n",
              " 's',\n",
              " 't',\n",
              " 'can',\n",
              " 'will',\n",
              " 'just',\n",
              " 'don',\n",
              " \"don't\",\n",
              " 'should',\n",
              " \"should've\",\n",
              " 'now',\n",
              " 'd',\n",
              " 'll',\n",
              " 'm',\n",
              " 'o',\n",
              " 're',\n",
              " 've',\n",
              " 'y',\n",
              " 'ain',\n",
              " 'aren',\n",
              " \"aren't\",\n",
              " 'couldn',\n",
              " \"couldn't\",\n",
              " 'didn',\n",
              " \"didn't\",\n",
              " 'doesn',\n",
              " \"doesn't\",\n",
              " 'hadn',\n",
              " \"hadn't\",\n",
              " 'hasn',\n",
              " \"hasn't\",\n",
              " 'haven',\n",
              " \"haven't\",\n",
              " 'isn',\n",
              " \"isn't\",\n",
              " 'ma',\n",
              " 'mightn',\n",
              " \"mightn't\",\n",
              " 'mustn',\n",
              " \"mustn't\",\n",
              " 'needn',\n",
              " \"needn't\",\n",
              " 'shan',\n",
              " \"shan't\",\n",
              " 'shouldn',\n",
              " \"shouldn't\",\n",
              " 'wasn',\n",
              " \"wasn't\",\n",
              " 'weren',\n",
              " \"weren't\",\n",
              " 'won',\n",
              " \"won't\",\n",
              " 'wouldn',\n",
              " \"wouldn't\"]"
            ]
          },
          "metadata": {
            "tags": []
          },
          "execution_count": 479
        }
      ]
    },
    {
      "cell_type": "code",
      "metadata": {
        "id": "huXZ5FnmSO9p",
        "colab_type": "code",
        "colab": {}
      },
      "source": [
        "def rem_stopwords(txt_tokenized):\n",
        "  txt_clean=[word for word in txt_tokenized if word not in stop_words]\n",
        "  return txt_clean\n"
      ],
      "execution_count": 0,
      "outputs": []
    },
    {
      "cell_type": "code",
      "metadata": {
        "id": "xyJ6LLlsWDyS",
        "colab_type": "code",
        "colab": {}
      },
      "source": [
        "data[\"sms_no_sw\"]=data[\"sms_clean_tokenized\"].apply(lambda x: rem_stopwords(x))"
      ],
      "execution_count": 0,
      "outputs": []
    },
    {
      "cell_type": "code",
      "metadata": {
        "id": "oa7T15VzaNym",
        "colab_type": "code",
        "outputId": "206444c5-8ef6-4be5-cc40-c74221d0ba55",
        "colab": {
          "base_uri": "https://localhost:8080/",
          "height": 262
        }
      },
      "source": [
        "data.head()"
      ],
      "execution_count": 482,
      "outputs": [
        {
          "output_type": "execute_result",
          "data": {
            "text/html": [
              "<div>\n",
              "<style scoped>\n",
              "    .dataframe tbody tr th:only-of-type {\n",
              "        vertical-align: middle;\n",
              "    }\n",
              "\n",
              "    .dataframe tbody tr th {\n",
              "        vertical-align: top;\n",
              "    }\n",
              "\n",
              "    .dataframe thead th {\n",
              "        text-align: right;\n",
              "    }\n",
              "</style>\n",
              "<table border=\"1\" class=\"dataframe\">\n",
              "  <thead>\n",
              "    <tr style=\"text-align: right;\">\n",
              "      <th></th>\n",
              "      <th>label</th>\n",
              "      <th>sms</th>\n",
              "      <th>sms_clean</th>\n",
              "      <th>sms_clean_tokenized</th>\n",
              "      <th>sms_no_sw</th>\n",
              "    </tr>\n",
              "  </thead>\n",
              "  <tbody>\n",
              "    <tr>\n",
              "      <th>0</th>\n",
              "      <td>ham</td>\n",
              "      <td>Go until jurong point, crazy.. Available only ...</td>\n",
              "      <td>Go until jurong point crazy Available only in ...</td>\n",
              "      <td>[Go, until, jurong, point, crazy, Available, o...</td>\n",
              "      <td>[Go, jurong, point, crazy, Available, bugis, n...</td>\n",
              "    </tr>\n",
              "    <tr>\n",
              "      <th>1</th>\n",
              "      <td>ham</td>\n",
              "      <td>Ok lar... Joking wif u oni...</td>\n",
              "      <td>Ok lar Joking wif u oni</td>\n",
              "      <td>[Ok, lar, Joking, wif, u, oni]</td>\n",
              "      <td>[Ok, lar, Joking, wif, u, oni]</td>\n",
              "    </tr>\n",
              "    <tr>\n",
              "      <th>2</th>\n",
              "      <td>spam</td>\n",
              "      <td>Free entry in 2 a wkly comp to win FA Cup fina...</td>\n",
              "      <td>Free entry in 2 a wkly comp to win FA Cup fina...</td>\n",
              "      <td>[Free, entry, in, 2, a, wkly, comp, to, win, F...</td>\n",
              "      <td>[Free, entry, 2, wkly, comp, win, FA, Cup, fin...</td>\n",
              "    </tr>\n",
              "    <tr>\n",
              "      <th>3</th>\n",
              "      <td>ham</td>\n",
              "      <td>U dun say so early hor... U c already then say...</td>\n",
              "      <td>U dun say so early hor U c already then say</td>\n",
              "      <td>[U, dun, say, so, early, hor, U, c, already, t...</td>\n",
              "      <td>[U, dun, say, early, hor, U, c, already, say]</td>\n",
              "    </tr>\n",
              "    <tr>\n",
              "      <th>4</th>\n",
              "      <td>ham</td>\n",
              "      <td>Nah I don't think he goes to usf, he lives aro...</td>\n",
              "      <td>Nah I dont think he goes to usf he lives aroun...</td>\n",
              "      <td>[Nah, I, dont, think, he, goes, to, usf, he, l...</td>\n",
              "      <td>[Nah, I, dont, think, goes, usf, lives, around...</td>\n",
              "    </tr>\n",
              "  </tbody>\n",
              "</table>\n",
              "</div>"
            ],
            "text/plain": [
              "  label  ...                                          sms_no_sw\n",
              "0   ham  ...  [Go, jurong, point, crazy, Available, bugis, n...\n",
              "1   ham  ...                     [Ok, lar, Joking, wif, u, oni]\n",
              "2  spam  ...  [Free, entry, 2, wkly, comp, win, FA, Cup, fin...\n",
              "3   ham  ...      [U, dun, say, early, hor, U, c, already, say]\n",
              "4   ham  ...  [Nah, I, dont, think, goes, usf, lives, around...\n",
              "\n",
              "[5 rows x 5 columns]"
            ]
          },
          "metadata": {
            "tags": []
          },
          "execution_count": 482
        }
      ]
    },
    {
      "cell_type": "markdown",
      "metadata": {
        "id": "MSWsEWaoh4Rx",
        "colab_type": "text"
      },
      "source": [
        "#Stemming\n",
        "processing into root word by using porter stemmization algorithm "
      ]
    },
    {
      "cell_type": "code",
      "metadata": {
        "id": "WoQq4D4Watp4",
        "colab_type": "code",
        "colab": {}
      },
      "source": [
        "ps=PorterStemmer()"
      ],
      "execution_count": 0,
      "outputs": []
    },
    {
      "cell_type": "code",
      "metadata": {
        "id": "jFCGhx9Bns5Q",
        "colab_type": "code",
        "colab": {}
      },
      "source": [
        "def stemming(tokenized_text):\n",
        "  text=[ps.stem(word) for word in tokenized_text]\n",
        "  return text"
      ],
      "execution_count": 0,
      "outputs": []
    },
    {
      "cell_type": "code",
      "metadata": {
        "id": "7jrjlYT5sOx5",
        "colab_type": "code",
        "colab": {}
      },
      "source": [
        "data[\"stemmed_data\"]=data[\"sms_no_sw\"].apply(lambda x: stemming(x))"
      ],
      "execution_count": 0,
      "outputs": []
    },
    {
      "cell_type": "code",
      "metadata": {
        "id": "Y8Q9p6qqsmgK",
        "colab_type": "code",
        "outputId": "940ab32b-791b-43c4-9fef-573acae0f5f5",
        "colab": {
          "base_uri": "https://localhost:8080/",
          "height": 262
        }
      },
      "source": [
        "data.head()"
      ],
      "execution_count": 486,
      "outputs": [
        {
          "output_type": "execute_result",
          "data": {
            "text/html": [
              "<div>\n",
              "<style scoped>\n",
              "    .dataframe tbody tr th:only-of-type {\n",
              "        vertical-align: middle;\n",
              "    }\n",
              "\n",
              "    .dataframe tbody tr th {\n",
              "        vertical-align: top;\n",
              "    }\n",
              "\n",
              "    .dataframe thead th {\n",
              "        text-align: right;\n",
              "    }\n",
              "</style>\n",
              "<table border=\"1\" class=\"dataframe\">\n",
              "  <thead>\n",
              "    <tr style=\"text-align: right;\">\n",
              "      <th></th>\n",
              "      <th>label</th>\n",
              "      <th>sms</th>\n",
              "      <th>sms_clean</th>\n",
              "      <th>sms_clean_tokenized</th>\n",
              "      <th>sms_no_sw</th>\n",
              "      <th>stemmed_data</th>\n",
              "    </tr>\n",
              "  </thead>\n",
              "  <tbody>\n",
              "    <tr>\n",
              "      <th>0</th>\n",
              "      <td>ham</td>\n",
              "      <td>Go until jurong point, crazy.. Available only ...</td>\n",
              "      <td>Go until jurong point crazy Available only in ...</td>\n",
              "      <td>[Go, until, jurong, point, crazy, Available, o...</td>\n",
              "      <td>[Go, jurong, point, crazy, Available, bugis, n...</td>\n",
              "      <td>[Go, jurong, point, crazi, avail, bugi, n, gre...</td>\n",
              "    </tr>\n",
              "    <tr>\n",
              "      <th>1</th>\n",
              "      <td>ham</td>\n",
              "      <td>Ok lar... Joking wif u oni...</td>\n",
              "      <td>Ok lar Joking wif u oni</td>\n",
              "      <td>[Ok, lar, Joking, wif, u, oni]</td>\n",
              "      <td>[Ok, lar, Joking, wif, u, oni]</td>\n",
              "      <td>[Ok, lar, joke, wif, u, oni]</td>\n",
              "    </tr>\n",
              "    <tr>\n",
              "      <th>2</th>\n",
              "      <td>spam</td>\n",
              "      <td>Free entry in 2 a wkly comp to win FA Cup fina...</td>\n",
              "      <td>Free entry in 2 a wkly comp to win FA Cup fina...</td>\n",
              "      <td>[Free, entry, in, 2, a, wkly, comp, to, win, F...</td>\n",
              "      <td>[Free, entry, 2, wkly, comp, win, FA, Cup, fin...</td>\n",
              "      <td>[free, entri, 2, wkli, comp, win, FA, cup, fin...</td>\n",
              "    </tr>\n",
              "    <tr>\n",
              "      <th>3</th>\n",
              "      <td>ham</td>\n",
              "      <td>U dun say so early hor... U c already then say...</td>\n",
              "      <td>U dun say so early hor U c already then say</td>\n",
              "      <td>[U, dun, say, so, early, hor, U, c, already, t...</td>\n",
              "      <td>[U, dun, say, early, hor, U, c, already, say]</td>\n",
              "      <td>[U, dun, say, earli, hor, U, c, alreadi, say]</td>\n",
              "    </tr>\n",
              "    <tr>\n",
              "      <th>4</th>\n",
              "      <td>ham</td>\n",
              "      <td>Nah I don't think he goes to usf, he lives aro...</td>\n",
              "      <td>Nah I dont think he goes to usf he lives aroun...</td>\n",
              "      <td>[Nah, I, dont, think, he, goes, to, usf, he, l...</td>\n",
              "      <td>[Nah, I, dont, think, goes, usf, lives, around...</td>\n",
              "      <td>[nah, I, dont, think, goe, usf, live, around, ...</td>\n",
              "    </tr>\n",
              "  </tbody>\n",
              "</table>\n",
              "</div>"
            ],
            "text/plain": [
              "  label  ...                                       stemmed_data\n",
              "0   ham  ...  [Go, jurong, point, crazi, avail, bugi, n, gre...\n",
              "1   ham  ...                       [Ok, lar, joke, wif, u, oni]\n",
              "2  spam  ...  [free, entri, 2, wkli, comp, win, FA, cup, fin...\n",
              "3   ham  ...      [U, dun, say, earli, hor, U, c, alreadi, say]\n",
              "4   ham  ...  [nah, I, dont, think, goe, usf, live, around, ...\n",
              "\n",
              "[5 rows x 6 columns]"
            ]
          },
          "metadata": {
            "tags": []
          },
          "execution_count": 486
        }
      ]
    },
    {
      "cell_type": "markdown",
      "metadata": {
        "id": "KfOnnNmCk2aC",
        "colab_type": "text"
      },
      "source": [
        "# Lemmatization\n",
        " using WordNet Lemmatization algorithm \n",
        " "
      ]
    },
    {
      "cell_type": "code",
      "metadata": {
        "id": "6Vu8b8L9k05v",
        "colab_type": "code",
        "colab": {}
      },
      "source": [
        "wn=nltk.WordNetLemmatizer()"
      ],
      "execution_count": 0,
      "outputs": []
    },
    {
      "cell_type": "code",
      "metadata": {
        "id": "0r53Ue45sLsT",
        "colab_type": "code",
        "colab": {}
      },
      "source": [
        "def lemmatization(token_txt):\n",
        "  text=[wn.lemmatize(word) for word in token_txt]\n",
        "  return text"
      ],
      "execution_count": 0,
      "outputs": []
    },
    {
      "cell_type": "code",
      "metadata": {
        "id": "vO71Q91puXwd",
        "colab_type": "code",
        "colab": {}
      },
      "source": [
        "data['sms_tokenized']=data['sms_no_sw'].apply(lambda x:lemmatization(x))"
      ],
      "execution_count": 0,
      "outputs": []
    },
    {
      "cell_type": "code",
      "metadata": {
        "id": "E8KOwyA7unzx",
        "colab_type": "code",
        "colab": {
          "base_uri": "https://localhost:8080/",
          "height": 296
        },
        "outputId": "7133f84b-b5b3-4b02-d9ff-2145ff6841e5"
      },
      "source": [
        "data.head()"
      ],
      "execution_count": 490,
      "outputs": [
        {
          "output_type": "execute_result",
          "data": {
            "text/html": [
              "<div>\n",
              "<style scoped>\n",
              "    .dataframe tbody tr th:only-of-type {\n",
              "        vertical-align: middle;\n",
              "    }\n",
              "\n",
              "    .dataframe tbody tr th {\n",
              "        vertical-align: top;\n",
              "    }\n",
              "\n",
              "    .dataframe thead th {\n",
              "        text-align: right;\n",
              "    }\n",
              "</style>\n",
              "<table border=\"1\" class=\"dataframe\">\n",
              "  <thead>\n",
              "    <tr style=\"text-align: right;\">\n",
              "      <th></th>\n",
              "      <th>label</th>\n",
              "      <th>sms</th>\n",
              "      <th>sms_clean</th>\n",
              "      <th>sms_clean_tokenized</th>\n",
              "      <th>sms_no_sw</th>\n",
              "      <th>stemmed_data</th>\n",
              "      <th>sms_tokenized</th>\n",
              "    </tr>\n",
              "  </thead>\n",
              "  <tbody>\n",
              "    <tr>\n",
              "      <th>0</th>\n",
              "      <td>ham</td>\n",
              "      <td>Go until jurong point, crazy.. Available only ...</td>\n",
              "      <td>Go until jurong point crazy Available only in ...</td>\n",
              "      <td>[Go, until, jurong, point, crazy, Available, o...</td>\n",
              "      <td>[Go, jurong, point, crazy, Available, bugis, n...</td>\n",
              "      <td>[Go, jurong, point, crazi, avail, bugi, n, gre...</td>\n",
              "      <td>[Go, jurong, point, crazy, Available, bugis, n...</td>\n",
              "    </tr>\n",
              "    <tr>\n",
              "      <th>1</th>\n",
              "      <td>ham</td>\n",
              "      <td>Ok lar... Joking wif u oni...</td>\n",
              "      <td>Ok lar Joking wif u oni</td>\n",
              "      <td>[Ok, lar, Joking, wif, u, oni]</td>\n",
              "      <td>[Ok, lar, Joking, wif, u, oni]</td>\n",
              "      <td>[Ok, lar, joke, wif, u, oni]</td>\n",
              "      <td>[Ok, lar, Joking, wif, u, oni]</td>\n",
              "    </tr>\n",
              "    <tr>\n",
              "      <th>2</th>\n",
              "      <td>spam</td>\n",
              "      <td>Free entry in 2 a wkly comp to win FA Cup fina...</td>\n",
              "      <td>Free entry in 2 a wkly comp to win FA Cup fina...</td>\n",
              "      <td>[Free, entry, in, 2, a, wkly, comp, to, win, F...</td>\n",
              "      <td>[Free, entry, 2, wkly, comp, win, FA, Cup, fin...</td>\n",
              "      <td>[free, entri, 2, wkli, comp, win, FA, cup, fin...</td>\n",
              "      <td>[Free, entry, 2, wkly, comp, win, FA, Cup, fin...</td>\n",
              "    </tr>\n",
              "    <tr>\n",
              "      <th>3</th>\n",
              "      <td>ham</td>\n",
              "      <td>U dun say so early hor... U c already then say...</td>\n",
              "      <td>U dun say so early hor U c already then say</td>\n",
              "      <td>[U, dun, say, so, early, hor, U, c, already, t...</td>\n",
              "      <td>[U, dun, say, early, hor, U, c, already, say]</td>\n",
              "      <td>[U, dun, say, earli, hor, U, c, alreadi, say]</td>\n",
              "      <td>[U, dun, say, early, hor, U, c, already, say]</td>\n",
              "    </tr>\n",
              "    <tr>\n",
              "      <th>4</th>\n",
              "      <td>ham</td>\n",
              "      <td>Nah I don't think he goes to usf, he lives aro...</td>\n",
              "      <td>Nah I dont think he goes to usf he lives aroun...</td>\n",
              "      <td>[Nah, I, dont, think, he, goes, to, usf, he, l...</td>\n",
              "      <td>[Nah, I, dont, think, goes, usf, lives, around...</td>\n",
              "      <td>[nah, I, dont, think, goe, usf, live, around, ...</td>\n",
              "      <td>[Nah, I, dont, think, go, usf, life, around, t...</td>\n",
              "    </tr>\n",
              "  </tbody>\n",
              "</table>\n",
              "</div>"
            ],
            "text/plain": [
              "  label  ...                                      sms_tokenized\n",
              "0   ham  ...  [Go, jurong, point, crazy, Available, bugis, n...\n",
              "1   ham  ...                     [Ok, lar, Joking, wif, u, oni]\n",
              "2  spam  ...  [Free, entry, 2, wkly, comp, win, FA, Cup, fin...\n",
              "3   ham  ...      [U, dun, say, early, hor, U, c, already, say]\n",
              "4   ham  ...  [Nah, I, dont, think, go, usf, life, around, t...\n",
              "\n",
              "[5 rows x 7 columns]"
            ]
          },
          "metadata": {
            "tags": []
          },
          "execution_count": 490
        }
      ]
    },
    {
      "cell_type": "markdown",
      "metadata": {
        "id": "xdt4_VG7v678",
        "colab_type": "text"
      },
      "source": [
        "#Vectorization\n",
        "using CountVectorization"
      ]
    },
    {
      "cell_type": "code",
      "metadata": {
        "id": "PVjhLYvRv6H1",
        "colab_type": "code",
        "colab": {}
      },
      "source": [
        "cv=CountVectorizer(analyzer=lemmatization)"
      ],
      "execution_count": 0,
      "outputs": []
    },
    {
      "cell_type": "code",
      "metadata": {
        "id": "eLUMzMriEDOz",
        "colab_type": "code",
        "colab": {
          "base_uri": "https://localhost:8080/",
          "height": 34
        },
        "outputId": "fc23337d-3a63-4ee9-add6-8794d15d1fa8"
      },
      "source": [
        "X = cv.fit_transform(data[\"sms_tokenized\"])\n",
        "print(X.shape)"
      ],
      "execution_count": 492,
      "outputs": [
        {
          "output_type": "stream",
          "text": [
            "(5572, 11043)\n"
          ],
          "name": "stdout"
        }
      ]
    },
    {
      "cell_type": "code",
      "metadata": {
        "id": "Qv4DjbC7Jj_r",
        "colab_type": "code",
        "colab": {
          "base_uri": "https://localhost:8080/",
          "height": 54
        },
        "outputId": "2783f153-5ec5-4c5e-d11b-935fdd47e4ca"
      },
      "source": [
        "print(cv.get_feature_names())"
      ],
      "execution_count": 493,
      "outputs": [
        {
          "output_type": "stream",
          "text": [
            "['', '0', '008704050406', '0089my', '0121', '01223585236', '01223585334', '0125698789', '02', '020603', '0207', '02070836089', '02072069400', '02073162414', '02085076972', '020903', '021', '050703', '0578', '06', '060505', '061104', '07008009200', '07046744435', '07090201529', '07090298926', '07099833605', '071104', '07123456789', '0721072', '07732584351', '07734396839', '07742676969', '07753741225', '0776xxxxxxx', '07786200117', '077xxx', '078', '07801543489', '07808', '07808247860', '07808726822', '07815296484', '07821230901', '0784987', '0789xxxxxxx', '0794674629107880867867', '0796XXXXXX', '07973788240', '07XXXXXXXXX', '07xxxxxxxxx', '0800', '08000407165', '08000776320', '08000839402', '08000930705', '08000938767', '08001950382', '08002888812', '08002986030', '08002986906', '08002988890', '08006344447', '0808', '08081263000', '08081560665', '0825', '0844', '08448350055', '08448714184', '0845', '08450542832', '08452810071', '08452810073', '08452810075over18s', '0870', '08700621170150p', '08701213186', '08701237397', '08701417012', '08701417012150p', '0870141701216', '087016248', '08701752560', '087018728737', '0870241182716', '08702490080', '08702840625', '08702840625COMUK', '08704439680', '08704439680TsCs', '08706091795', '0870737910216yrs', '08707500020', '08707509020', '0870753331018', '08707808226', '08708034412', '08708800282', '08709222922', '08709501522', '0870k', '087104711148', '08712101358', '08712103738', '0871212025016', '08712300220', '087123002209am7pm', '08712317606', '08712400200', '08712400603', '08712402050', '08712402578', '08712402779', '08712402902', '08712402972', '08712404000', '08712405020', '08712405022', '08712460324', '08712460324nat', '08712466669', '0871277810710pmin', '0871277810810', '0871277810910pmin', '087143423992stop', '087147123779am7pm', '08714712379', '08714712388', '08714712394', '08714712412', '08714714011', '08714719523', '08715203028', '08715203649', '08715203652', '08715203656', '08715203677', '08715203685', '08715203694', '08715205273', '08715500022', '08715705022', '08717111821', '08717168528', '08717205546', '08717507382', '08717507711', '08717509990', '08717890890', '08717895698', '08717898035', '08718711108', '08718720201', '08718723815', '08718725756', '08718726270', '08718726270150gbpmtmsg18', '08718726970', '08718726971', '08718726978', '087187272008', '08718727868', '08718727870', '08718729755', '08718729758', '08718730555', '08718730666', '08718738001', '08718738002', '08718738034', '08719180219', '08719180248', '08719181259', '08719181503', '08719181513', '08719839835', '08719899217', '08719899229', '08719899230', '09041940223', '09050000301', '09050000332', '09050000460', '09050000555', '09050000878', '09050000928', '09050001295', '09050001808', '09050002311', '09050003091', '09050005321', '09050090044', '09050280520', '09053750005', '09056242159', '09057039994', '09058091854', '09058091870', '09058094454', '09058094455', '09058094507', '09058094565', '09058094583', '09058094594', '09058094597', '09058094599', '09058095107', '09058095201', '09058097189', '09058097218', '09058098002', '09058099801', '09061104276', '09061104283', '09061209465', '09061213237', '09061221061', '09061221066', '09061701444', '09061701461', '09061701851', '09061701939', '09061702893', '09061743386', '09061743806', '09061743810', '09061743811', '09061744553', '09061749602', '09061790121', '09061790125', '09061790126', '09063440451', '09063442151', '09063458130', '0906346330', '09064011000', '09064012103', '09064012160', '09064015307', '09064017295', '09064017305', '09064018838', '09064019014', '09064019788', '09065069120', '09065069154', '09065171142stopsms08', '09065171142stopsms08718727870150ppm', '09065174042', '09065394514', '09065394973', '09065989180', '09065989182', '09066350750', '09066358152', '09066358361', '09066361921', '09066362206', '09066362220', '09066362231', '09066364311', '09066364349', '09066364589', '09066368327', '09066368470', '09066368753', '09066380611', '09066382422', '09066612661', '09066649731from', '09066660100', '09071512432', '09071512433', '09071517866', '09077818151', '09090204448', '09090900040', '09094100151', '09094646631', '09094646899', '09095350301', '09096102316', '09099725823', '09099726395', '09099726429', '09099726481', '09099726553', '09111030116', '09111032124', '09701213186', '0ANETWORKS', '1', '10', '100', '1000', '10000', '100000', '1000CALL', '100603', '100pSMS', '1010', '1013', '101mega', '1030', '10803', '10K', '10am', '10am7pm', '10am9pm', '10k', '10p', '10pmin', '10ppm', '10th', '11', '1120', '113', '1131', '11414', '1146', '1148', '116', '1172', '118pmsg', '11mths', '12', '120', '12000pes', '1205', '121', '1225', '123', '1230', '125', '1250', '125gift', '128', '12Mths', '12hours', '12hrs', '12mths', '12price', '13', '130', '131004', '1327', '13404', '139', '140', '1405', '140ppm', '145', '1450', '146tf150p', '14thMarch', '150', '1500', '150Mtmsgrcvd18', '150P', '150PPM', '150ea', '150moreFrmMob', '150msg', '150p', '150pMSGRCVD', '150pMTmsg', '150pMsg', '150pMsgrcvdHGSuite3422LandsRowW1J6HL', '150pMt', '150pMtmsgrcvd18', '150pSMS', '150pday', '150perWKsub', '150perweeksub', '150pm', '150pmeg', '150pmin', '150pmmorefrommobile2BremovedMobyPOBox734LS27YF', '150pmsg', '150ppermessSubscription', '150ppm', '150ppmPOBox10183BhamB64XE', '150ppmsg', '150prcvd', '150ptext', '150ptone', '150pw', '150pwk', '150rcvd', '150week', '150wk', '151', '1526', '153', '15541', '15pmin', '16', '1680', '169', '16only', '177', '18', '180', '181104', '1843', '186', '18only', '18ptxt', '18yrs', '195', '1956669', '1AppleDayNo', '1Cup', '1DA', '1ER', '1Hanuman', '1His', '1IM', '1LemonDayNo', '1McFlyAll', '1Tulsi', '1U', '1Unbreakable', '1Winaweek', '1Winawk', '1YF', '1childish', '1hr', '1million', '1minMobsmore', '1minMobsmoreLKPOBOX177HP51FL', '1minmoremobsEMSPOBox45PO139WA', '1month', '1pm', '1st', '1st4Terms', '1stchoicecouk', '1stone', '1u', '1x150pwk', '2', '20', '200', '2000', '20000', '2003', '2004', '2005', '2006', '2007', '2025050', '20F', '20M12AQ', '20p', '20pmin', '21', '211104', '215', '21870000Hi', '21m', '21st', '22', '220CM2', '23', '2309', '230ish', '24', '241', '241004', '247MP', '24Hrs', '24M', '24hrs', '24th', '25', '250', '250k', '255', '25F', '25p', '260305', '261004', '261104', '2667', '26th', '2703', '27603', '28', '2814032', '285', '28days', '28th', '28thFebTCs', '290305', '29100', '29M', '2B', '2Bajarangabali', '2C', '2DOCDPLEASE', '2EZ', '2End', '2GETHA', '2GEVA', '2Hook', '2I', '2IM', '2KBSubject', '2MORO', '2MOROW', '2MORRO', '2MRW', '2MWEN', '2NITE', '2NITETELL', '2PX', '2Police', '2StopTx', '2StopTxt', '2U', '2Untamed', '2WATERSHD', '2WT', '2WU', '2When', '2bold', '2channel', '2day', '2daylove', '2exit', '2geva', '2go', '2godid', '2gthr', '2hrs', '2marrow', '2moro', '2morow', '2morro', '2morrow', '2morrowxxxx', '2mro', '2mrw', '2naughty', '2nd', '2nhite', '2nights', '2nite', '2optout', '2optoutD3WV', '2p', '2rcv', '2stop', '2stoptxt', '2u', '2u2', '2waxsto', '2wks', '2years', '2yr', '2yrs', '3', '30', '300', '3000', '300603', '300603tcsBCM4235WC1N3XXcallcost150ppmmobilesvary', '300p', '3030', '30Apr', '30pptxt', '30th', '31', '3100', '310303', '311004', '31pmsg150p', '32000', '3230', '32323', '326', '32F', '330', '3350', '3365', '350', '3510i', '35p', '3650', '36504', '3680', '3680Offer', '373', '3750', '375max', '38', '391784', '399', '3AJ', '3Cover', '3DB', '3G', '3GBP', '3Lions', '3MOBILE', '3Maruti', '3POUND', '3SS', '3Sentiment', '3U', '3UZ', '3Unkempt', '3Wife', '3XX', '3d', '3days', '3g', '3hrs', '3lp', '3miles', '3mins', '3optical', '3qxj9', '3rd', '3u', '3wk', '3wks', '3x', '4', '40', '400', '400minsCall', '402', '4041', '40411', '40533', '40GB', '40mph', '415', '41685', '41782', '420', '42049', '4217', '42478', '42810', '430', '434', '44', '4403LDNW1A7RW18', '447797706009', '447801259231', '447per', '448712404000Please', '449050000301', '449071512431', '449month', '45', '450', '450Ppw', '450p', '450pw', '45239', '46', '47', '4712', '4742', '48', '4882', '48922', '49557', '4BREKKIE', '4Cook', '4EVA', '4GET', '4JX', '4Lux', '4MY', '4Pavanaputra', '4Press', '4TCtxt', '4U', '4WARD', '4a', '4d', '4eva', '4few', '4fil', '4get', '4give', '4got', '4goten', '4info', '4mths', '4o', '4rowdy', '4some1', '4th', '4thNOVBEHIND', '4the', '4txt120p', '4txtú120', '4u', '4uTxt', '4ui', '4w', '4wrd', '4years', '5', '50', '500', '5000', '500000', '505060', '50award', '50p', '515', '515pm', '5226', '5249', '526', '528', '530', '532', '54', '542', '545', '5903', '5Gardener', '5Gently', '5I', '5K', '5Sankatmochan', '5Terror', '5WB', '5WE', '5WQ', '5digital', '5free', '5ful', '5ish', '5min', '5mls', '5month', '5p', '5pm', '5th', '5we', '5wkg', '5years', '6', '600', '6031', '60400thousadi', '60P', '60pmin', '61200', '61610', '62220Cncl', '6230', '62468', '62735', '630', '63miles', '645', '645pm', '650', '6669', '67441233', '68866', '69101', '69200', '69669', '69696', '69698', '69855', '6986618', '69876', '69888', '69888Nyt', '69911', '69969', '69988', '6Cruel', '6HL', '6HouseMaid', '6Ramaduth', '6WU', '6ZF', '6days', '6hrs', '6ish', '6missed', '6months', '6pm', '6romantic', '6th', '6times', '7', '700', '71', '725', '7250', '7250i', '730', '730ish', '730pm', '731', '74355', '750', '75000', '7548', '7634', '7684', '7732584351', '78', '786', '7876150ppm', '78pmin', '79', '7Children', '7Mahaveer', '7Romantic', '7WS', '7ZS', '7am', '7cfca1a', '7ish', '7oz', '7pm', '7shy', '7th', '8', '80', '800', '8000930705', '80062', '8007', '80082', '80086', '80122300pwk', '80155', '80160', '80182', '8027', '80488', '80488biz', '80608', '8077', '80878', '81010', '81151', '81303', '81618', '816183', '82242', '82277', '82277unsub', '82324', '82468', '830', '83021', '83039', '83049', '83110', '83118', '83222', '83332Please', '83338', '83355', '83370', '83383', '83435', '83600', '83738', '84', '84025', '84122', '84128', '84128custcare', '84199', '84484', '85', '850', '85023', '85069', '85222', '85233', '8552', '85555', '86021', '861', '863', '864233', '86688', '86888', '87021', '87066', '87070', '87077', '87121', '87131', '8714714', '87239', '87575', '8800', '88039', '88039SkilGmeTsCs087147403231WinawkAge16', '88066', '88088', '88222', '8830', '88600', '88800', '8883', '88877', '88877FREE', '88888', '89034', '89070', '89080', '89105', '89123', '89545', '89555', '89693', '89938', '8Attractive', '8Ball', '8Lovable', '8Neighbour', '8WP', '8am', '8hr', '8lb', '8o', '8pm', '8th', '9', '900', '9061100010', '9153', '924', '92H', '930', '945', '946', '95pax', '96', '97N7QP', '98321561', '9996', '9AE', '9YT', '9am', '9am11pm', '9decent', '9funny', '9ja', '9pm', '9t', '9th', 'A', 'A21', 'ABOUT', 'ABOUTAS', 'ABTA', 'ACCEPT', 'ACL03530150PM', 'ACTION', 'ACTUALLY', 'AD', 'ADAM', 'ADDAMSFA', 'ADP', 'ADRINK', 'AFEW', 'AFTER', 'AFTERNOON', 'AG', 'AGAIN', 'AGAINST', 'AGAINcall', 'AGE', 'AGESRING', 'AGO', 'AGOCUSOON', 'AGreen', 'AH', 'AIG', 'AINT', 'AL', 'ALERT', 'ALETTER', 'ALEX', 'ALL', 'ALRITE', 'ALSO', 'ALWAYS', 'AM', 'AMY', 'AN', 'ANAL', 'AND', 'ANNIE', 'ANS', 'ANSWER', 'ANTELOPE', 'ANYTHING', 'AOM', 'APPY', 'APRIL', 'ARE', 'AREA', 'ARIES', 'AROUND', 'ARR', 'AS', 'ASAP', 'ASKED', 'ASLEEP', 'ASTHERE', 'ASUSUAL1', 'AT', 'AUCTION', 'AUGUST', 'AV', 'AVA', 'AVE', 'AVENT', 'AWAITING', 'AWARD', 'AXIS', 'Aah', 'Aaniye', 'Aaooooright', 'Ab', 'Abbey', 'Abeg', 'Aberdeen', 'Abiola', 'About', 'Abt', 'Accept', 'Accident', 'AccommodationVouchers', 'Account', 'Accounts', 'Ache', 'Acnt', 'AcoEntry41', 'Activate', 'Active', 'Actually', 'Address', 'Admirer', 'Adrian', 'Adult', 'Aeronautics', 'Affectionate', 'Affectionsamp', 'Aft', 'After', 'AfterNoon', 'Afternoon', 'Afternoons', 'Aftr', 'Again', 'Agalla', 'Age', 'Ages', 'Ah', 'Ahhh', 'Ahhhhjust', 'Ahmad', 'Aight', 'Air', 'Airtel', 'Aiya', 'Aiyah', 'Aiyar', 'Aiyo', 'Aka', 'AkonLonely', 'Al', 'AlaikkumPride', 'Alaipayuthe', 'Aldrine', 'AlertFrom', 'Alex', 'Alfie', 'Algarve', 'All', 'AllahRakhesh', 'Allahmeet', 'Allo', 'Almost', 'Already', 'Alright', 'Alrite', 'Also', 'Although', 'Always', 'Alwys', 'Am', 'Amanda', 'Amazing', 'Ambrithmaduraimet', 'American', 'Ami', 'Amrca', 'Amrita', 'Amy', 'An', 'And', 'Annoying', 'Another', 'Any', 'Anyone', 'Anything', 'Anytime', 'Anyway', 'Anyways', 'Apart', 'Apnt', 'Apo', 'Apparently', 'Apply', 'Apps', 'Appt', 'ArPraveesh', 'Arabian', 'Arcade', 'Ard', 'Are', 'Argh', 'Argument', 'Armand', 'Arms', 'Arngd', 'Arrow', 'Arsenal', 'Arul', 'Arun', 'As', 'Ashley', 'Asian', 'Ask', 'Asking', 'Aslamalaikkuminsha', 'Astronomer', 'At', 'Athletic', 'Atlanta', 'Atlast', 'Atleast', 'Auction', 'Audrey', 'Audrie', 'August', 'Auntie', 'Australia', 'Available', 'Ave', 'Avenge', 'Awarded', 'Awesome', 'Aww', 'Awww', 'Ay', 'B', 'B4', 'B4U', 'BA128NNFWFLY150ppm', 'BABE', 'BABEPROBPOP', 'BABES', 'BABESOZI', 'BABY', 'BABYHOPE', 'BACK', 'BACKWARDS', 'BAHAMAS', 'BAILIFF', 'BAK', 'BANG', 'BANK', 'BANNEDUK', 'BARMED', 'BATH', 'BBC', 'BBDELUXE', 'BBDpooja', 'BBDthts', 'BBlue', 'BCK', 'BCM1896WC1N3XX', 'BCM4284', 'BCMSFWC1N3XX', 'BCozI', 'BE', 'BEAUTIFUL', 'BED', 'BEDROOMLOVE', 'BEEN', 'BEER', 'BEFORE', 'BEGIN', 'BELIEVE', 'BEST', 'BETTER', 'BETTERSN', 'BIDS', 'BIG', 'BILL', 'BILLING', 'BIRD', 'BIRTHDAY', 'BIT', 'BK', 'BLOKE', 'BLOKES', 'BLOODSend', 'BMW', 'BOATIN', 'BONUS', 'BOO', 'BOOKS', 'BORED', 'BORING', 'BORNPLEASE', 'BOUT', 'BOUTxx', 'BOX', 'BOX139', 'BOX334SK38ch', 'BOX385', 'BOX420', 'BOX42WR29C', 'BOX95QU', 'BOX97N7QP', 'BOYF', 'BOYFRIEND', 'BRAND', 'BREAK', 'BREAKIN', 'BREATHE1', 'BRISTOL', 'BROKE', 'BROTHER', 'BSLVYL', 'BT', 'BTHERE', 'BTW', 'BTnational', 'BTnationalrate', 'BTooth', 'BUDDY', 'BUS', 'BUT', 'BUTTHERES', 'BUZ', 'BY', 'BYATCH', 'Baaaaaaaabe', 'Baaaaabe', 'Babe', 'Babes', 'Baby', 'BabyGoodbye', 'Back', 'Bad', 'Badrith', 'Bahamas', 'Ball', 'Balls', 'Bam', 'BangBabes', 'Bani', 'Bank', 'Barbie', 'Barkleys', 'Barry', 'Bbq', 'Bc', 'Bcm', 'Bcoz', 'Bday', 'Be', 'Bears', 'Beautiful', 'Beauty', 'Bec', 'Becaus', 'Because', 'Become', 'Becomes', 'Becoz', 'Been', 'Beer', 'BeerRs', 'Beerage', 'Before', 'Behind', 'Being', 'Belovd', 'Ben', 'Bennys', 'Bergkamp', 'Best', 'Best1', 'Beth', 'Better', 'Beware', 'Big', 'Bill', 'Bin', 'Biola', 'Biro', 'Birthday', 'Bishan', 'Bit', 'Bite', 'Bits', 'Black', 'Blackim', 'Blacko', 'Blank', 'Bless', 'Blind', 'Block', 'Bloody', 'Bloomberg', 'Blu', 'Bluetooth', 'BluetoothHdset', 'Blueu', 'Bob', 'Body', 'Bognor', 'Boltblue', 'Bone', 'Bonus', 'Boo', 'Book', 'Booked', 'Bookmark', 'Boooo', 'Boost', 'Bored', 'Boss', 'Both', 'Bought', 'Box', 'Box1146', 'Box177', 'Box326', 'Box334', 'Box39822', 'Box434SK38WP150PPM18', 'Box61M60', 'Boy', 'Boys', 'Brainless', 'Brandy', 'Bray', 'Brb', 'Brdget', 'Break', 'Breaker', 'Brief', 'Bright', 'Brilliant', 'Bring', 'Bristol', 'British', 'Britney', 'Broadband', 'Brother', 'Brought', 'Browni', 'Bstfrnd', 'Bt', 'Btooth', 'Btw', 'Buffy', 'Bugis', 'Building', 'Bull', 'Burger', 'Burns', 'Busy', 'But', 'Buy', 'Buzz', 'Buzzzz', 'Bx', 'Bx526', 'By', 'Bye', 'C', 'C52', 'CAKE', 'CAL', 'CALL', 'CALLED', 'CALLIN', 'CALM', 'CAME', 'CAMERA', 'CAN', 'CANCEL', 'CANT', 'CARD', 'CARE', 'CAREFUL', 'CARLIE', 'CASH', 'CAT', 'CATCH', 'CAUSE', 'CC', 'CD', 'CDGT', 'CDs', 'CER', 'CERI', 'CHA', 'CHANCE', 'CHARGE', 'CHARITY', 'CHAT', 'CHATLINES', 'CHECKIN', 'CHEER', 'CHEERED', 'CHEERS', 'CHILLIN', 'CHITCHAT', 'CHOSEN', 'CIN', 'CL', 'CLAIM', 'CLAIRE', 'CLUB', 'CLoSE', 'CM', 'CNN', 'COLLECT', 'COLLEGE', 'COME', 'COMIN', 'COMMON', 'COMPETITION', 'COMPLETELY', 'CONCERNED', 'CONTENTION', 'CONTRACT', 'CONVINCED', 'COOL', 'COS', 'COUNTINLOTS', 'CR01327BT', 'CR9', 'CRAZYIN', 'CREDIT', 'CRISISSPK', 'CRO1327', 'CRed', 'CSH11', 'CU', 'CULDNT', 'CUM', 'CUP', 'CUST', 'CUTE', 'CW25WX', 'CaRE', 'Cab', 'Cable', 'Cali', 'Call', 'Call2OptOut674', 'CallFREEFONE', 'Caller', 'Callers', 'Callertune', 'Calling', 'Calls', 'Calls150ppm', 'Camcorder', 'Camera', 'CameraVideo', 'Can', 'Canada', 'Canary', 'Cancel', 'Cancer', 'Cannot', 'Cant', 'Captain', 'Cardiff', 'Care', 'Career', 'Careful', 'Carlos', 'Carlosll', 'Carry', 'Case', 'Cash', 'Cashbincouk', 'Catching', 'Caught', 'Cause', 'Cbe', 'Celebrated', 'Celebrations', 'Centre', 'Cha', 'Chachi', 'Chance', 'Change', 'Channel', 'Charles', 'Chart', 'Chasing', 'Chat', 'Chat80155', 'Cheap', 'Check', 'Checkmate', 'Cheer', 'Cheers', 'Chef', 'Chikku', 'Children', 'Chinatown', 'Chinese', 'Chk', 'Chloe', 'Choose', 'Christians', 'Christmas', 'ChristmasMerry', 'Ciao', 'Cine', 'City', 'Claim', 'Classic', 'Click', 'Clos1', 'Close', 'Club', 'Club4', 'Co', 'CocaCola', 'Code', 'Code4xx26', 'Coffee', 'Cold', 'Colin', 'Colleagues', 'Collect', 'Colour', 'Com', 'Come', 'Comfort', 'Common', 'Companion', 'Company', 'Compass', 'Complete', 'Compliments', 'Concentrate', 'Confidence', 'Congrats', 'Congratulations', 'Consider', 'Contact', 'Content', 'Convey', 'Cool', 'CoolMob', 'Cornwall', 'Correct', 'Cos', 'Cost', 'Costa', 'Costs', 'CougarPen', 'Could', 'Courageous', 'Coz', 'Cozsomtimes', 'Cps', 'Crab', 'Crack', 'Craigslist', 'Cramps', 'Crazy', 'Credit', 'Cribbs', 'Croydon', 'Crucify', 'Crying', 'Cs', 'Ctagg', 'Ctargg', 'Cttargg', 'Ctter', 'Cttergg', 'Cud', 'Cup', 'Cust', 'CustCare08718720201', 'Customer', 'CustomerCare', 'Cut', 'Cute', 'Cutefrnd', 'Cutter', 'Cuz', 'D', 'DA', 'DABOOKS', 'DADS', 'DAMMIT', 'DAN', 'DARLIN', 'DAS', 'DATE', 'DATEBox1282EssexCM61XN', 'DAY', 'DAY2', 'DAYS', 'DAYU', 'DD', 'DE', 'DEAD', 'DECIDED', 'DEF', 'DEFO', 'DEL', 'DENA', 'DETAILS', 'DID', 'DIDN', 'DIDNT', 'DIGITAL', 'DIRTY', 'DIS', 'DISCOUNT', 'DLF', 'DO', 'DOCKS', 'DOES', 'DOESDISCOUNTSHITINNIT', 'DOESNT', 'DOGBREATH', 'DOIN', 'DON', 'DONATE', 'DONE', 'DONT', 'DONTIGNORE', 'DONTPLEASE', 'DOT', 'DOUBLE', 'DOWN', 'DOWNON', 'DPS', 'DRACULA', 'DRAW', 'DREAMS', 'DREAMZ', 'DRINK', 'DRIVE', 'DRUNK', 'DUE', 'DUMB', 'DVD', 'Da', 'Dad', 'Daddy', 'Dai', 'Damn', 'Dan', 'Dare', 'Darling', 'Darren', 'Dasara', 'Dat', 'Date', 'Dates', 'Dating', 'Datz', 'Dave', 'Day', 'De', 'Deal', 'Dear', 'Dear1', 'DearMe', 'Dearregret', 'Dearshall', 'December', 'Declare', 'Deeraj', 'Def', 'Del', 'Delhi', 'Deliver', 'Delivered', 'DeliveredTomorrow', 'Delivery', 'Den', 'Dependable', 'Depends', 'Derp', 'Designation', 'Desires', 'Determined', 'Detroit', 'Devils', 'Dey', 'Dhoni', 'Dial', 'Dick', 'Dictionary', 'Did', 'Didnt', 'Die', 'Digital', 'Dileepthank', 'Din', 'Ding', 'Dino', 'Dint', 'Dips', 'Direct', 'Dirty', 'Dis', 'Disconnect', 'Discussed', 'Diseases', 'Ditto', 'Divorce', 'Diwali', 'Dizzamn', 'Dizzee', 'Dload', 'Dnt', 'Do', 'Doc', 'Doctor', 'Does', 'Doesnt', 'Dogging', 'Doggy', 'Doing', 'DollD', 'Dolls', 'Dom', 'Don', 'Done', 'Dont', 'Dont4get2text', 'DontCha', 'Dormitory', 'Dorothykiefercom', 'Double', 'DoubleMins', 'DoubleTxt', 'Download', 'Dozens', 'Dr', 'Draw', 'Dream', 'Drink', 'Drinks', 'Driver', 'Drop', 'Duchess', 'Dude', 'Dun', 'Dunno', 'Dvd', 'E', 'E14', 'EACHOTHER', 'EASTENDERS', 'EAT', 'EG23F', 'EH74RR', 'ELLO', 'ENC', 'END', 'ENG', 'ENGLAND', 'ENJOY', 'ENJOYIN', 'ENTER', 'ENTRY', 'ENUFCREDEIT', 'ER', 'ESPECIALLY', 'EURO', 'EURO2004', 'EVE', 'EVEN', 'EVENING', 'EVER', 'EVERY', 'EVERY1', 'EVERYTHIN', 'EVONE', 'EXACT', 'EXAMS', 'EXETER', 'EXORCIST', 'EXP', 'EXPLAIN', 'EXPLOSIVE', 'EXTREME', 'EY', 'Each', 'Early', 'Earth', 'East', 'Easter', 'Easy', 'Eat', 'Eatin', 'Echo', 'Eckankar', 'Edison', 'Ee', 'Eek', 'Eerie', 'Egbon', 'Eh', 'Eire', 'Either', 'Ela', 'Election', 'Eleven', 'Elvis', 'Em', 'Email', 'Emily', 'Emotion', 'En', 'Enamous', 'End', 'Energy', 'England', 'English', 'Enjoy', 'Enna', 'Er', 'Erm', 'Err', 'Erutupalam', 'Ese', 'Especially', 'Esplanade', 'Eta', 'Eternal', 'Euro', 'Euro2004', 'EuroDisinc', 'Europe', 'Eve', 'Even', 'Evening', 'Evenings', 'Ever', 'Every', 'Everybody', 'Everyday', 'Everyone', 'Everything', 'Everytime', 'Evn', 'Evr', 'Evrey', 'Evry', 'Ew', 'Exactly', 'Exam', 'Excellent', 'Except', 'Executive', 'Exorcism', 'Expected', 'Expecting', 'Expires', 'Explain', 'Express', 'Expression', 'Extra', 'EyedDont', 'Eyes', 'F', 'FA', 'FANCY', 'FANTASIES', 'FANTASTIC', 'FANTASY', 'FAR', 'FEEL', 'FEELINGOOD', 'FFFFUUUUUUU', 'FIELDOF', 'FIFA', 'FIFTEEN', 'FIGHTS', 'FILTH', 'FINAL', 'FIND', 'FINE', 'FINEST', 'FINISH', 'FIRST', 'FIT', 'FIZZ', 'FLAG', 'FLOWER', 'FML', 'FMyou', 'FONE', 'FONIN', 'FOR', 'FOREVER', 'FOUNDURSELF', 'FRAN', 'FRANYxxxxx', 'FREE', 'FREE2DAY', 'FREEFONE', 'FREEMSG', 'FREENokia', 'FREEPHONE', 'FREERingtone', 'FREERingtoneReply', 'FREINDS', 'FRESHERS', 'FRIEND', 'FRIENDS', 'FRIENDSHIP', 'FRMCLOUD', 'FRND', 'FRNDS', 'FRNDSHIP', 'FROM', 'FROMWRK', 'FUCK', 'FUCKED', 'FUCKIN', 'FUCKING', 'FUCKINNICESELFISHDEVIOUSBITCHANYWAYI', 'FUDGE', 'FUNNY', 'Face', 'Facebook', 'Fails', 'Fair', 'Faith', 'Fancy', 'Fantasy', 'Farrell', 'Fat', 'Fear', 'Feb', 'Feel', 'Feeling', 'Feels', 'Fffff', 'Ffffffffff', 'Fifty', 'Fighting', 'Filling', 'Fills', 'Filthy', 'Final', 'Finally', 'Find', 'Fine', 'Fingers', 'Finish', 'Finished', 'First', 'Flag', 'Flight', 'Flirt', 'Flung', 'Fml', 'Foley', 'Follow', 'Foned', 'Food', 'Fools', 'Football', 'For', 'Force', 'Forever', 'Forevr', 'Forgets', 'Forgot', 'Forwarded', 'Found', 'Fr', 'Frankie', 'Franxx', 'Fredericksburg', 'Free', 'FreeMSG', 'FreeMsg', 'FreeMsgFAV', 'FreeMsgFeelin', 'Freeentry', 'Freemessage', 'Freemsg', 'Fresh', 'Fri', 'Friday', 'Friends', 'Friendship', 'FriendshipMotherFatherTeachersChildrens', 'Frnd', 'FrogAXEL', 'From', 'Fuck', 'Full', 'Fun', 'Funny', 'Future', 'Fuuuuck', 'Fwiw', 'Fyi', 'G', 'G2', 'GAIL', 'GAILxx', 'GAME', 'GANG', 'GAS', 'GB', 'GBP', 'GBP150week', 'GBP450week', 'GBP5month', 'GBPweek', 'GENDER', 'GENT', 'GET', 'GETTIN', 'GHOST', 'GIFTS', 'GIMMI', 'GIRL', 'GIRLS', 'GIV', 'GIVE', 'GIVEN', 'GMGNGEGN', 'GMGNGEGNT', 'GMW', 'GO', 'GOD', 'GODI', 'GOIN', 'GOING', 'GONEU', 'GONNA', 'GONNAMISSU', 'GOOD', 'GOODEVENING', 'GOODFRIEND', 'GOODMORNING', 'GOODNIGHT', 'GOODNITE', 'GOODNOON', 'GOODTIMEOLI', 'GORGEOUS', 'GOSSIP', 'GOSSx', 'GOT', 'GOTMARRIED', 'GOTTA', 'GOWER', 'GR8FUN', 'GRAN', 'GRAVEL', 'GREAT', 'GROWRANDOM', 'GSOH', 'GUARANTEED', 'GUD', 'GURL', 'GWR', 'Gain', 'Gal', 'Gam', 'Game', 'Games', 'Gamestar', 'Ganesh', 'Garbage', 'Gary', 'Gay', 'Gaze', 'Gd', 'Ge', 'Gee', 'Geeee', 'Geeeee', 'Geelater', 'Genius', 'Geoenvironmental', 'Georges', 'Germany', 'Get', 'Gettin', 'Getting', 'Gibbs', 'Gift', 'Gimme', 'Gin', 'Girl', 'Girls', 'Give', 'Glad', 'Gn', 'Gnarls', 'Go', 'GoTo', 'Goal', 'God', 'Gods', 'Goin', 'Going', 'Gokila', 'GoldDigger', 'Golf', 'Good', 'Goodmorning', 'Goodmorningmy', 'Goodnight', 'Goodnoon', 'Goodo', 'Google', 'Gopalettan', 'Gosh', 'Gossip', 'Got', 'Goto', 'Gotta', 'Gr8', 'Grahmbell', 'Granite', 'Gravity', 'Grazed', 'Great', 'Greeni', 'Greetings', 'Grl', 'Grumpy', 'Gsex', 'Guai', 'Guaranteed', 'Gud', 'Gudni8', 'Gudnite', 'Gudnitetcpractice', 'Gudnyt', 'Guess', 'Guessin', 'Guide', 'Guild', 'Gumbys', 'Guy', 'Guys', 'Gyno', 'H', 'HAD', 'HALF', 'HAPPY', 'HARD', 'HARDCORE', 'HARDEST', 'HARRY', 'HAS', 'HATES', 'HAUGHAIGHGTUJHYGUJ', 'HAV', 'HAVBEEN', 'HAVE', 'HAVEBEEN', 'HAVENT', 'HAVENTCN', 'HAVIN', 'HAVING', 'HCL', 'HEART', 'HELL', 'HELLO', 'HELLOGORGEOUS', 'HELLOYou', 'HELP', 'HER', 'HEY', 'HGSuite3422Lands', 'HGSuite3422LandsRowW1J6HL', 'HGSuite3422lands', 'HI', 'HIDE', 'HIM', 'HIS', 'HIT', 'HIYA', 'HL', 'HM', 'HMM', 'HMV', 'HMV1', 'HOLIDAY', 'HOME', 'HON', 'HONEYDID', 'HONI', 'HOPE', 'HOPEU', 'HORO', 'HOSPITAL', 'HOT', 'HOTMIX', 'HOUSE', 'HOW', 'HOWDY', 'HOWS', 'HOWU', 'HP20', 'HRS', 'HTTPWWWURAWINNERCOM', 'HU', 'HUN', 'HUNLOVE', 'HUNNY', 'HUNNYHOPE', 'HUNNYWOT', 'Ha', 'Habit', 'Hack', 'Had', 'Haf', 'Haha', 'Hahahause', 'Hahatake', 'Hai', 'Haiyoh', 'Haiz', 'Half', 'Hallaq', 'Halloween', 'Hands', 'Handset', 'Hang', 'Hanging', 'Hanumanji', 'Happy', 'Hard', 'Hardcore', 'Hari', 'Harishs', 'Harry', 'Has', 'Hasbroin', 'Hasnt', 'Hav', 'Have', 'Havent', 'Having', 'Havnt', 'He', 'Head', 'Headin', 'Headset', 'Healer', 'Hear', 'Heart', 'Hearts', 'Hee', 'Heehee', 'HehE', 'Height', 'Helen', 'Hell', 'Hello', 'HelloHow', 'Hellodrivby0quit', 'Helloooo', 'Help', 'Help08700621170150p', 'Help08714742804', 'Help08718728876', 'Helpline', 'Henry', 'Her', 'Here', 'Heroes', 'Heroi', 'Hes', 'Hey', 'HeyGreat', 'Hhahhaahahah', 'Hi', 'Hicts', 'Hidid', 'High', 'Hii', 'Him', 'Hint', 'His', 'History', 'Hitechnical', 'Hitler', 'Hiwhat', 'Hiya', 'Hlp', 'Hm', 'Hmm', 'HmmBad', 'Hmmm', 'Hmmmbut', 'Hmmmhow', 'Hmmmkbut', 'Hmmmm', 'Hmmmstill', 'Hmmmy', 'Hmph', 'Ho', 'Hockey', 'Hogli', 'Hogolo', 'Hol', 'Holby', 'Holder', 'Holding', 'Holiday', 'Holla', 'Hols', 'Holy', 'Home', 'Homeowners', 'Honestly', 'Honey', 'Honeybee', 'Hoody', 'Hope', 'Hopefully', 'Hoping', 'Horrible', 'Hospital', 'Hospitals', 'Hostbased', 'Hot', 'Hotel', 'Hottest', 'HouseMaid', 'How', 'Howda', 'However', 'Hows', 'Howz', 'Hrishi', 'Hubby', 'Hugs', 'Huh', 'Hui', 'Hungry', 'Hurry', 'Hurt', 'Hurts', 'Hyde', 'I', 'IAS', 'IBH', 'IBHltd', 'IBN', 'ID', 'IDIOT', 'IDPS', 'IF', 'IFINK', 'IG11', 'IJUST', 'IKEA', 'IKNO', 'IKNOW', 'IL', 'ILEAVE', 'ILL', 'ILLSPEAK', 'IM', 'IMAT', 'IMF', 'IMIN', 'IMPORTANT', 'IN', 'INC', 'INCLU', 'INCONVENIENCE', 'INDIA', 'INDIANS', 'INDYAROCKSCOM', 'INFORM', 'INFORMATION', 'INK', 'INR', 'INSTEAD', 'INTELLIGENT', 'INTERFLORA', 'INTERVIW', 'INTO', 'INVITED', 'IP4', 'IQ', 'IS', 'ISH', 'ISNT', 'ISVIMPORTANT', 'IT', 'ITBOTH', 'ITNOW', 'ITS', 'ITTB', 'ITXT', 'IThis', 'ITxx', 'IVE', 'IWANA', 'Iam', 'Ibiza', 'Ic', 'Ice', 'Icic', 'Id', 'Idea', 'Identifier', 'Idk', 'If', 'Ill', 'Ilol', 'Im', 'Ima', 'Imagine', 'Immediately', 'Important', 'Imprtant', 'In', 'Including', 'Inclusive', 'Incorrect', 'Incredible', 'Indeed', 'Independence', 'India', 'Indian', 'IndianPls', 'Indians', 'Indyarockscom', 'Inever', 'Infact', 'Inform', 'Information', 'Innocent', 'Insha', 'Instant', 'Intelligent', 'Interflora', 'Intimate', 'Invaders', 'Invest', 'Iraq', 'Iriver', 'Irritates', 'Is', 'IsaiahD', 'Islands', 'Isnt', 'It', 'Italian', 'Itll', 'Itna', 'Its', 'Itsnot', 'Itz', 'Ive', 'Iwasmarinethat', 'Izzit', 'J', 'J89', 'JADE', 'JAN', 'JANE', 'JANINExx', 'JANX', 'JAZ', 'JD', 'JEN', 'JESS', 'JJC', 'JOBYET', 'JSCO', 'JSco', 'JULY', 'JUS', 'JUST', 'JUSWOKE', 'Jackpot', 'Jada', 'James', 'Jamster', 'JamsterGet', 'Jamz', 'Jane', 'January', 'Japanese', 'Jason', 'Jay', 'Jays', 'Jealous', 'Jen', 'Jenny', 'Jenxxx', 'Jeremiah', 'Jeri', 'Jerk', 'Jerry', 'Jersey', 'Jesus', 'Jez', 'Jia', 'Joanna', 'John', 'Join', 'Joke', 'Jokes', 'Jokin', 'Joking', 'Jolly', 'Jon', 'Jones', 'Jordan', 'JordanTxt', 'JorgeShock', 'Jos', 'Joys', 'Jst', 'Jstfrnd', 'Jsut', 'July', 'June', 'Junna', 'Jus', 'Just', 'Juz', 'K', 'K52', 'K61', 'K718', 'KATE', 'KAVALAN', 'KEEP', 'KING', 'KISS', 'KL341', 'KNACKERED', 'KNOW', 'KNOWNEWAY', 'KNOWS', 'KR', 'KUDIyarasu', 'Kaiez', 'Kall', 'Kallis', 'Kanagu', 'Karaoke', 'Kate', 'Katexxx', 'Kath', 'Kay', 'Kdo', 'Keep', 'Keepintouch', 'Keng', 'Kens', 'Kent', 'Kerala', 'KeralaCircle', 'Keris', 'Kgive', 'Ki', 'Kicchu', 'Kick', 'Kids', 'Kidz', 'Kind', 'Kinda', 'Kindly', 'King', 'Kingdom', 'Kit', 'Kkadvance', 'Kkany', 'Kkapo', 'Kkare', 'Kkcongratulation', 'Kkfrom', 'Kkgoodstudy', 'Kkhow', 'Kkim', 'Kkits', 'Kkthis', 'Kkwhat', 'Kkwhen', 'Kkwhere', 'Kkwhy', 'Kkyesterday', 'Knock', 'Know', 'Kothi', 'Kthen', 'Ku', 'Kusruthi', 'Kyou', 'L', 'L8ER', 'L8R', 'L8TR', 'L8r', 'LA1', 'LA3', 'LA32WU', 'LADIES', 'LAPTOP', 'LAST', 'LATE', 'LATER', 'LAY', 'LCCLTD', 'LDN', 'LE', 'LEKDOG', 'LES', 'LET', 'LETS', 'LIFE', 'LIFT', 'LIKE', 'LIKELY', 'LIKEYOUR', 'LIKINGBE', 'LILY', 'LISTEN', 'LISTENING', 'LITTLE', 'LIVE', 'LKPOBOX177HP51FL', 'LLSPEAK', 'LMAO', 'LOCAL', 'LOCAXX', 'LOG', 'LOL', 'LONG', 'LONGER', 'LOOK', 'LOOKIN', 'LORD', 'LOST', 'LOT', 'LOTR', 'LOTS', 'LOU', 'LOVE', 'LOVEJEN', 'LOVEME', 'LRG', 'LS1', 'LS15HB', 'LS278BB', 'LST', 'LUCKY', 'LUCY', 'LUCYxx', 'LUSH', 'LUTON', 'LUV', 'Lacsthere', 'Ladies', 'Lancaster', 'Landline', 'Lands', 'Langport', 'Lara', 'Large', 'Last', 'Later', 'Latest', 'Laugh', 'Laughed', 'Laughing', 'Ldn', 'LdnW15H', 'LeafDayNo', 'Leannewhat', 'Leave', 'Leaving', 'Left', 'Lemme', 'Lessons', 'Let', 'Lets', 'Libertines', 'Lies', 'Life', 'Lifpartnr', 'Like', 'Lil', 'Limited', 'Lindsay', 'Line', 'Linerental', 'Lion', 'Lions', 'Litres', 'Live', 'Liverpool', 'Living', 'Lk', 'Lmao', 'Lmaonice', 'Loads', 'Loan', 'Loans', 'Log', 'Logon', 'Lol', 'Lolnice', 'Lololo', 'London', 'Long', 'LookAtMe', 'Looking', 'Looks', 'Lool', 'Loooooool', 'Loosu', 'Lots', 'Lovable', 'Love', 'Loveable', 'Loved', 'Lovely', 'Lover', 'Loverboy', 'Loves', 'Loving', 'Lowcost', 'Loyalty', 'Ltd', 'LtdHelpDesk', 'Luck', 'Luckily', 'Lucky', 'Lucozade', 'Lucy', 'Lul', 'Luv', 'Lux', 'Luxury', 'Lvblefrnd', 'M', 'M221BP', 'M227XY', 'M26', 'M263UZ', 'M39M51', 'M6', 'M95', 'MAD1', 'MAD2', 'MADE', 'MAHAL', 'MAKE', 'MALL', 'MAN', 'MANEESHA', 'MARCH', 'MARRIED', 'MARSMS', 'MAT', 'MATCH', 'MATCHED', 'MATE', 'MAYBE', 'ME', 'MECAUSE', 'MEET', 'MEETIN', 'MEGA', 'MELNITE', 'MEMBERS', 'MEREMEMBERIN', 'MESSAGE', 'MESSAGEThanks', 'MESSED', 'MF', 'MFL', 'MIDNIGHT', 'MILLIONS', 'MIN', 'MINE', 'MINI', 'MINS', 'MINUTES', 'MISS', 'MISSED', 'MISSIN', 'MISSY', 'MISTAKEU', 'MITE', 'MIX', 'MK17', 'MK45', 'MMM', 'MMSto', 'MO', 'MOAN', 'MOB', 'MOBNO', 'MOMENT', 'MONKEESPEOPLE', 'MONKEYAROUND', 'MONL8RSx', 'MONO', 'MONOC', 'MOON', 'MORAL', 'MORE', 'MORNING', 'MORROW', 'MOST', 'MOVIE', 'MOyeP', 'MP3', 'MQUIZ', 'MR', 'MRNG', 'MRur', 'MSG', 'MSGS', 'MSGWe', 'MTALK', 'MUCH', 'MUCHI', 'MUCHXXLOVE', 'MUM', 'MUMS', 'MUNSTERS', 'MUSIC', 'MUST', 'MY', 'MYCALLSU', 'MYSELF', 'Ma', 'Maangalyam', 'Maat', 'Macedonia', 'Macha', 'Machan', 'Madamregret', 'Made', 'Mah', 'Mailbox', 'Maintain', 'Make', 'Makes', 'Making', 'Male', 'Mallika', 'Man', 'Manchester', 'Mandan', 'Mandy', 'Many', 'Map', 'March', 'Maretare', 'Margaret', 'Mark', 'Marley', 'Married', 'Marvel', 'Match', 'Mathe', 'Mathews', 'Matrix3', 'Matthew', 'Max10mins', 'May', 'Mayb', 'Maybe', 'Me', 'Means', 'Meanwhile', 'Meat', 'Meds', 'Meet', 'MeetGreet', 'Meeting', 'Melle', 'Men', 'Merry', 'Message', 'Messages', 'Messagesome', 'Messaging', 'Met', 'Michael', 'Midnight', 'Might', 'Mila', 'Mileage', 'Miles', 'MilkdayNo', 'Min', 'Mind', 'Mine', 'Minimum', 'Minnaminunginte', 'Mins', 'Miserable', 'Misplaced', 'Miss', 'Missed', 'Missing', 'Mite', 'Mittelschmertz', 'Mm', 'Mmm', 'Mmmm', 'Mmmmm', 'Mmmmmm', 'Mmmmmmm', 'Mnths', 'Mob', 'MobStoreQuiz10ppm', 'MobcudB', 'Mobile', 'MobileUpd8', 'Mobiles', 'MobilesDirect', 'Mobileupd8', 'Moby', 'Mode', 'Moji', 'MojiBiola', 'Mom', 'Moment', 'Moms', 'Mon', 'Monday', 'Money', 'Monthly', 'MonthlySubscription50pmsg', 'Moon', 'Moons', 'Moral', 'MoralDont', 'MoralOne', 'More', 'Morning', 'Mornings', 'Most', 'Mostly', 'Mother', 'Motherinlaw', 'Motivate', 'Motorola', 'Mountains', 'Movie', 'Mr', 'MsSuman', 'Msg', 'Msg150p', 'Msgs', 'Much', 'Muhommad', 'Multiply', 'Mum', 'Mumtaz', 'Mumtazs', 'Murdered', 'Music', 'Must', 'Musta', 'Muz', 'Mwahs', 'My', 'MySpace', 'Mystery', 'N', 'NAKED', 'NAME', 'NAME1', 'NAME2', 'NBME', 'NEED', 'NEEDS', 'NEFT', 'NEO69', 'NETHING', 'NEVA', 'NEVER', 'NEW', 'NEWQUAYSEND', 'NGage', 'NHS', 'NIC', 'NICE', 'NICHOLS', 'NIGHT', 'NITE', 'NITE2', 'NITW', 'NO', 'NO1', 'NO165', 'NO434', 'NO440', 'NO762', 'NO910', 'NOK', 'NOKIA', 'NOKIA6600', 'NONENOWHERE', 'NOT', 'NOTHING', 'NOW', 'NOW1', 'NOWREPLY', 'NR31', 'NRI', 'NTT', 'NUMBER', 'NUMBERSO', 'NVQ', 'NYTHO', 'NYUSA', 'NYs', 'Nah', 'Name', 'Nan', 'Nasdaq', 'Natalie', 'Natalja', 'National', 'Nationwide', 'Natural', 'Nature', 'Near', 'Need', 'Neither', 'Neshanthtel', 'Netcollex', 'Network', 'Networking', 'Neva', 'Never', 'Neville', 'New', 'Neway', 'Newport', 'News', 'Next', 'Ni8', 'Nic', 'Nice', 'Nicenicehow', 'Nick', 'Nickey', 'Nigeria', 'Nigh', 'Night', 'Nights', 'Nikiyu4net', 'Nimbomsons', 'Nimya', 'Nimyapls', 'Nite', 'No', 'No1', 'No81151', 'No83355', 'NoWorriesLoanscom', 'Noble', 'Nobody', 'Nobut', 'Nofew', 'Nohe', 'Noi', 'Noice', 'Noits', 'Nojst', 'Nokia', 'Nokia150p', 'Nokia6650', 'Nokias', 'None', 'Nookii', 'Nooooooo', 'Noooooooo', 'Nope', 'Norcorp', 'Normal', 'Normally', 'Not', 'Nothin', 'Nothing', 'Nottel', 'Nottingham', 'November', 'Now', 'Now4T', 'Nowadays', 'Nt', 'Number', 'NumberRespectful', 'Nurungu', 'Nutter', 'Nver', 'Nvm', 'Nw', 'Nyt', 'NytEC2A3LPmsg150p', 'O', 'O2', 'O2FWD', 'OF', 'OFF', 'OFFICE', 'OFSI', 'OFTEN', 'OH', 'OJA', 'OK', 'OKDEN', 'OKTAKE', 'OLD', 'ON', 'ONCALL', 'ONE', 'ONLY', 'ONLYFOUND', 'ONTO', 'OPT', 'OR', 'ORANGE', 'OREOS', 'OTBox', 'OTHERWISE', 'OUR', 'OURBACKS', 'OUT', 'OUTL8RJUST', 'OUTSOMEWHERE', 'OVER', 'OVERDOSE', 'Obviously', 'OceanD', 'Of', 'Ofcourse', 'Off', 'Offer', 'OfferThe', 'Oh', 'Ohas', 'Ohi', 'Oi', 'Oic', 'Ok', 'Okay', 'Okey', 'Okie', 'Okies', 'Okok', 'Okors', 'Ola', 'Old', 'Olol', 'Omg', 'Omw', 'On', 'Onam', 'Once', 'One', 'OnionRs', 'Only', 'Only1more', 'Onum', 'Ooh', 'Oooh', 'Oooooh', 'Ooooooh', 'Oops', 'Open', 'Opinion', 'Opt', 'OptOut', 'Optout', 'Or', 'Orange', 'Orangei', 'Oranges', 'Orchard', 'Order', 'Organizer', 'Orh', 'Oru', 'Other', 'Others', 'Otherwise', 'Our', 'Out', 'Over', 'Oyea', 'Oz', 'P', 'PA', 'PARENTS', 'PARIS', 'PARISFREE', 'PARK', 'PARTNERS', 'PARTY', 'PASS', 'PAUL', 'PAY', 'PAYED2DAY', 'PC', 'PEACH', 'PERIL', 'PERSON', 'PETE', 'PETEXXX', 'PETROL', 'PHONE', 'PHP', 'PIC', 'PICK', 'PICS', 'PICSFREE1', 'PIN', 'PISS', 'PIX', 'PLAY', 'PLEASE', 'PLEASSSSSSSEEEEEE', 'PLS', 'PLUS', 'PO', 'PO19', 'POBOX', 'POBOX11414TCRW1', 'POBOX84', 'POBOXox36504W45WQ', 'POBox', 'POBox334', 'POBox36504W45WQ', 'POBox365O4W45WQ', 'POBox84', 'POD', 'POINT', 'POKKIRI', 'POLY', 'POLY3', 'POLYC', 'POLYPHONIC', 'POLYS', 'POOR', 'PORN', 'PORTIONS', 'POST', 'POSTCARD', 'POWER', 'PPL', 'PREMIER', 'PRESCHOOLCOORDINATOR', 'PRICE', 'PRIVACY', 'PRIVATE', 'PRIZEAWAITING', 'PROBLEM', 'PROBTHAT', 'PROPERLY', 'PS', 'PSP', 'PSXTRA', 'PT2', 'PUB', 'PUTTIN', 'PX3748', 'Pa', 'Package', 'Pain', 'Painful', 'Panasonic', 'Pandy', 'Pansy', 'Panther', 'Parents', 'Paris', 'Park', 'Part', 'Partys', 'Pass', 'PasswordsATMSMS', 'Pathaya', 'Patrick', 'Payee', 'Peace', 'Peaceful', 'Penny', 'People', 'Per', 'Perhaps', 'Peripherals', 'Persian', 'Person', 'Personality', 'Pest', 'Pete', 'Peteis', 'Petey', 'Peteynoi', 'PetrolRs', 'Pg', 'Ph08704050406', 'Pharmacy', 'Phil', 'Phoenix', 'Phone', 'Phony', 'Pic', 'Pick', 'Pics', 'Pie', 'Piggy', 'Pilates', 'Pin', 'Pink', 'Pinku', 'Pity', 'Pl', 'PlanetTalkInstantcom', 'Platt', 'Play', 'Player', 'Playin', 'Please', 'Pleasure', 'Pls', 'Plsi', 'Plus', 'Plyr', 'Plz', 'Po', 'PoBox1', 'PoBox12n146tf15', 'PoBox12n146tf150p', 'PoBox202', 'PoBox45W2TG150P', 'PoBox75LDNS7', 'PoBox84', 'PocketBabecouk', 'Points', 'Police', 'Polo', 'Poly', 'Poly200p', 'Polyphonic', 'Polys', 'Poop', 'Poor', 'PopcornJust', 'Pose', 'Potter', 'Pound', 'Poyyarikaturkolathupalayamunjalur', 'Prabhaim', 'Prabu', 'Prakesh', 'Prasanth', 'Prashanthettans', 'Pray', 'Prayrs', 'Predicte', 'Prem', 'Premaricakindly', 'Prepare', 'President', 'Presleys', 'Press', 'Prey', 'Price', 'Princess', 'Printer', 'Prize', 'Pro', 'Probably', 'Problms', 'Prof', 'Promo', 'Promotion', 'Props', 'Proverb', 'Provided', 'Pshewmissing', 'Psychiatrist', 'Psychic', 'Psychologist', 'Ptbo', 'Pub', 'Purity', 'Purpleu', 'PushButton', 'Put', 'Putting', 'Q', 'QUITE', 'QUITEAMUZING', 'Qatar', 'QatarRakhesh', 'QlynnBV', 'Que', 'Queen', 'Queries', 'Ques', 'Question', 'Questions', 'Quick', 'Quite', 'Quiz', 'QuizWin', 'Quote', 'R', 'R836', 'RALLY', 'RANDOM', 'RANG', 'RCT', 'READ', 'REAL', 'REAL1', 'REALISE', 'REALITY', 'REALLY', 'REALLYNEED', 'REALY', 'REBEL', 'RECD', 'RECEIVE', 'RECPT', 'RED', 'REGRET', 'REMEMBER', 'REMINDER', 'REPLY', 'REPLYS150', 'REPORT', 'REVEAL', 'REVISION', 'REWARD', 'RG21', 'RGENT', 'RIGHT', 'RING', 'RINGSRETURN', 'RINGTONE', 'RISE', 'RITE', 'ROMCAPspam', 'ROOM', 'ROSES', 'RP176781', 'RSTM', 'RTKIng', 'RTM', 'RTO', 'RUDI', 'RV', 'Racal', 'Rain', 'Raining', 'Raj', 'Rajipls', 'Rajitha', 'Rajnikant', 'Rally', 'Randy', 'Ranjith', 'Ranju', 'Rate', 'Rats', 'Raviyog', 'Rayman', 'Re', 'Reach', 'Reaction', 'Read', 'Reading', 'Ready', 'Real', 'Really', 'Realy', 'Reason', 'Received', 'Reckon', 'Records', 'Red', 'Redim', 'Ref9280114', 'Ref9307622', 'Reference', 'Reflection', 'Refused', 'Regards', 'Registered', 'Remember', 'RememberI', 'Remembered', 'Remembr', 'Remembrs', 'Remind', 'Reminder', 'Reminding', 'Remove', 'Rent', 'Rental', 'Reply', 'Requests', 'Resend', 'Response', 'Reverse', 'Rgds', 'Ride', 'Right', 'Rightio', 'Ring', 'Ringtone', 'RingtoneFrom', 'Ringtones', 'Rock', 'Rodds1', 'Rodger', 'Rofl', 'Roger', 'Romantic', 'Ron', 'Rose', 'RowW1J6HL', 'RowW1JHL', 'RowW1j6HL', 'Rreveal', 'Rs', 'Rs5', 'Rum', 'Ryder', 'S', 'S3XY', 'S8', 'S89', 'SAD', 'SAE', 'SAID', 'SAM', 'SAME', 'SARY', 'SATJUST', 'SATLOVE', 'SATSOUND', 'SATTHEN', 'SAUSAGELOVE', 'SAW', 'SAY', 'SCARY', 'SCOOL', 'SCOTLAND', 'SD', 'SED', 'SEE', 'SEEING', 'SEEMED', 'SEEN', 'SEENO', 'SELFINDEPENDENCE', 'SEND', 'SENDS', 'SENT', 'SERIOUSLY', 'SERVICES', 'SERVs', 'SEX', 'SEXYCHAT', 'SF', 'SHAME', 'SHE', 'SHEFFIELD', 'SHESIL', 'SHIT', 'SHITIN', 'SHITJUSTFOUND', 'SHOP', 'SHOULD', 'SHOW', 'SHOWR', 'SHUDVETOLD', 'SI', 'SIB', 'SIM', 'SIMPLE', 'SING', 'SIR', 'SITUATION', 'SIX', 'SK3', 'SK38XH', 'SK38xh', 'SLAP', 'SLEEPING', 'SLEEPINGWITH', 'SLEEPSWEET', 'SLEPT', 'SLO4msgs', 'SMILEY', 'SMS', 'SMSSERVICES', 'SN', 'SNAP', 'SNORINGTHEY', 'SO', 'SOFA', 'SOIREE', 'SOMEONE', 'SOMETHIN', 'SOMETHING', 'SONY', 'SOO', 'SOON', 'SOONC', 'SOONLOTS', 'SORRY', 'SORTEDBUT', 'SOUNDING', 'SOZ', 'SP', 'SPAM', 'SPECIAL', 'SPECIALE', 'SPEEDCHAT', 'SPIDER', 'SPINOUT', 'SPJanuary', 'SPK', 'SPOOK', 'SPORT', 'SPORTSx', 'SPRWM', 'SPTV', 'SPTyrone', 'SPUNOUT', 'ST', 'STAPATI', 'STAR', 'STARS', 'START', 'STATION', 'STIL', 'STILL', 'STOP', 'STOP2stop', 'STOPBCM', 'STOPCS', 'STORE', 'STORES', 'STRIKE', 'STU', 'STUDENT', 'STUDENTFINANCIAL', 'STUDY', 'STUPID', 'STaY', 'SUBPOLY', 'SUE', 'SUM', 'SUMMER', 'SUMTHINxx', 'SUNDAY', 'SUPER', 'SURE', 'SURPRISE', 'SUZY', 'SW7', 'SW73SS', 'SWAN', 'SWAP', 'SWAT', 'SWEET', 'SWITCH', 'SYMPTOMS', 'SaLL', 'Sac', 'Sad', 'Saeed', 'Safe', 'Sagamu', 'Said', 'Salad', 'Salam', 'Sale', 'Sam', 'Same', 'Sankranti', 'Santa', 'Santha', 'Sar', 'Sara', 'Sarcasm', 'Saristar', 'Sary', 'Sat', 'Saturday', 'SavaMob', 'Save', 'Saw', 'Say', 'Says', 'Sbut', 'Scared', 'School', 'Schools', 'Science', 'Scoring', 'Scotch', 'Scotsman', 'Sday', 'Search', 'Second', 'Secret', 'Secured', 'See', 'Seem', 'Select', 'Sen', 'Send', 'Sender', 'SenderName', 'Sending', 'Sends', 'Sent', 'SentDate', 'Senthil', 'Sept', 'Serena', 'Serious', 'Service', 'Services', 'Set', 'Seventeen', 'Sex', 'Sexy', 'Sez', 'Sfine', 'Sfrom', 'Shah', 'Shahjahan', 'Shahjahans', 'Shakespeare', 'Shall', 'Shampain', 'ShanilRakhesh', 'Shant', 'Shb', 'She', 'Shell', 'Sherawat', 'Shes', 'Shesil', 'Shhhhh', 'Shifad', 'Shijas', 'Shijutta', 'Shinco', 'Shiny', 'Shit', 'Shivratri', 'Shjas', 'Shola', 'Shop', 'ShopWe', 'Shopping', 'Shoranur', 'Short', 'Shoul', 'Should', 'Show', 'ShrAcomOrSglSuplt10', 'Shuhui', 'Si', 'SiPix', 'Sian', 'Sicomo', 'Sif', 'Silent', 'Sim', 'Simple', 'Simply', 'Simpsons', 'Since', 'Sinco', 'Sindu', 'Single', 'Singles', 'Sir', 'SirI', 'SirSalam', 'SirjiI', 'Sister', 'Sitting', 'Siva', 'Skallis', 'SkilGme', 'SkillGame', 'SkillGame1Winaweek', 'Skip', 'Sky', 'Slaaaaave', 'Sleep', 'Sleeping', 'SleepwellampTake', 'Slept', 'Slide', 'Slow', 'Slowly', 'Small', 'SmartCall', 'Smile', 'SmileD', 'Smiling', 'Smith', 'SmithSwitch', 'Sms', 'Snd', 'Sno', 'So', 'Soany', 'Sol', 'Sold', 'Solve', 'Some', 'Somebody', 'Someone', 'Someonone', 'Something', 'Sometimes', 'Somewhr', 'Sonetimes', 'Sony', 'SonyEricsson', 'Soon', 'Sorry', 'Sorryin', 'Sort', 'Sos', 'Soul', 'Sounds', 'Soup', 'South', 'Space', 'Spain', 'Spanish', 'Speak', 'Speaking', 'Special', 'Spending', 'Spiderman', 'Spiral', 'Spl', 'SplashMobile', 'Splat', 'Spoke', 'Spook', 'Spoons', 'Spose', 'Sppok', 'Spring', 'Sprint', 'Sptv', 'Squeeeeeze', 'Squishy', 'Sry', 'Ssi', 'Ssindia', 'Ssnervous', 'St', 'Staff', 'StarWars3', 'Start', 'Started', 'Starting', 'Starts', 'Statement', 'Stay', 'Staying', 'StdTxtRate', 'Stereophonics', 'StewartSize', 'Sthis', 'Still', 'Stockport', 'Stop', 'Stop2', 'Stoptxt', 'Storming', 'Stream', 'Street', 'Strip', 'Strokes', 'StrongBuy', 'Student', 'Studying', 'Stuff', 'Stupid', 'Stupidits', 'Stylish', 'Stylist', 'Sub', 'Subs', 'Subscribe6GBPmnth', 'Subscriber', 'Subscription', 'Subscriptn3gbpwk', 'Such', 'Sugababes', 'Suganya', 'Sugar', 'Suite', 'Sullivan', 'Summer', 'Summers', 'Sun', 'Sunday', 'Sunscreen', 'Sunshine', 'Sup', 'Super', 'Superb', 'Suprman', 'Sure', 'Surely', 'Surly', 'Sux', 'Swayze', 'Sweet', 'Sweetest', 'Sweetheart', 'Swtheart', 'Symbol', 'Sympathetic', 'Syria', 'T', 'T91', 'TA', 'TAJ', 'TAKE', 'TALK', 'TALKBUT', 'TALKED', 'TALKIN', 'TALKING', 'TAMPA', 'TAROT', 'TASTS', 'TBSPERSOLVO', 'TC', 'TCLLC', 'TCRW1', 'TCs', 'TCsBCM4235WC1N3XX', 'TCsC', 'TCsstop', 'TEL', 'TELL', 'TELLMISS', 'TERMINATEDWE', 'TEX', 'TEXD', 'TEXT', 'TEXTBUDDY', 'TEXTCOMP', 'TEXTPOD', 'TEXTS', 'TH', 'THAN', 'THANKS', 'THANX', 'THANX4', 'THASA', 'THAT', 'THATMUM', 'THE', 'THEACUSATIONS', 'THECD', 'THEMOB', 'THEN', 'THERE', 'THERES', 'THESEyours', 'THEWEND', 'THING', 'THINK', 'THIS', 'THNQ', 'THO', 'THOSE', 'TIME', 'TISSCOTayseer', 'TITLE', 'TMobile', 'TO', 'TOBED', 'TOCALLSHALL', 'TODAY', 'TOME', 'TOMORROW', 'TOMORW', 'TONE', 'TONES2U', 'TONESReply', 'TONEXS', 'TONIGHT', 'TONITE', 'TOOL', 'TOP', 'TOPLAY', 'TOTAL', 'TOTALLY', 'TOWN', 'TOWNCUD', 'TOWNDONTMATTER', 'TROUBLE', 'TRUBLE', 'TRUE', 'TRY', 'TSCs', 'TULIP', 'TV', 'TWILIGHT', 'TX', 'TXT', 'TXTAUCTION', 'TXTAUCTIONTxt', 'Ta', 'TaDaaaaa', 'TaKe', 'Taka', 'Take', 'Takecare', 'Takin', 'Talk', 'Tas', 'Tata', 'TayseerTISSCO', 'Tb', 'Tea', 'Teach', 'Teacher', 'Team', 'Tear', 'Tears', 'Tease', 'Tee', 'Tel', 'Telephonic', 'Teletext', 'Tell', 'Ten', 'Tenants', 'Tenerife', 'Tension', 'Teresa', 'Terms', 'Termsapply', 'Terry', 'Tessypls', 'Test', 'Text', 'Text82228', 'TextOperator', 'Texting', 'Thank', 'Thanks', 'Thanku', 'Thankyou', 'Thanx', 'That', 'Thatll', 'Thats', 'The', 'TheDailyDraw', 'TheMob', 'TheMobHit', 'TheMobYo', 'Them', 'Then', 'Theoretically', 'Theory', 'There', 'Therell', 'Therere', 'Theres', 'These', 'They', 'Theyre', 'Thgt', 'Thing', 'Things', 'Think', 'Thinkin', 'Thinking', 'Thinks', 'This', 'Thk', 'Thnx', 'Tho', 'Those', 'Though', 'Thought', 'Thout', 'Thts', 'Thurs', 'Thursday', 'Thx', 'Thy', 'Tick', 'Tickets', 'Tiger', 'Till', 'Tim', 'Time', 'TimeGud', 'Tired', 'Tis', 'Titles', 'Tiwary', 'Tmorrowpls', 'Tmr', 'Tmrw', 'TnC', 'TnCs', 'To', 'Toa', 'Today', 'Todays', 'Todaysundaysunday', 'Toledo', 'Toll', 'Tom', 'Tomarrow', 'Tomorrow', 'Tone', 'Tones', 'Tonight', 'Too', 'Took', 'Top', 'Total', 'Touch', 'Tour', 'Toxic', 'Trackmarque', 'Traditions', 'Traffic', 'Transaction', 'Trav', 'Travel', 'Treat', 'Triple', 'True', 'Truro', 'Trust', 'Truth', 'Truthful', 'Try', 'TryWALES', 'Trying', 'Ts', 'TsCs', 'TsCs08714740323', 'TsCs087147403231WinawkAge16', 'TsandCs', 'Tsunami', 'Tsunamis', 'Ttyl', 'Tues', 'Tuesday', 'Tunde', 'Tunji', 'Turns', 'Twelve', 'Twiggs', 'Twinks', 'Twittering', 'Two', 'Txt', 'Txt250com', 'TxtNO', 'Txting', 'Txts', 'Tyler', 'U', 'U2MORO', 'U4', 'UAWAKEFEELLIKW', 'UCALL', 'UIN', 'UK', 'UKP2000', 'UKmobiledate', 'UKs', 'UNBELIEVABLE', 'UNDERSTaND', 'UNI', 'UNICEFs', 'UNLIMITED', 'UP', 'UP4', 'UPDAT', 'UPNOT', 'UPYEH', 'UR', 'URE', 'URFEELING', 'URGENT', 'URGOIN', 'URGRAN', 'URN', 'URSELF', 'US', 'USED', 'USER', 'UU', 'Ubi', 'Ufind', 'Ugadi', 'Ugh', 'Uh', 'Uhhhhrmm', 'Ujhhhhhhh', 'Uks', 'Ull', 'Ultimate', 'Ultimately', 'Umma', 'Ummmawill', 'Ummmmmaah', 'UnSub', 'Uncle', 'Under', 'Understand', 'Unfortunately', 'Uni', 'United', 'University', 'Unless', 'Unlike', 'Unlimited', 'Unni', 'Unsecured', 'Unsub', 'Unsubscribe', 'Until', 'Up', 'Upd8', 'Update', 'UpdateNow', 'UpgrdCentre', 'Ups', 'Uptown', 'Ur', 'Ure', 'Urgent', 'Urgh', 'Us', 'Use', 'Usf', 'Usher', 'Usmle', 'Usually', 'Uve', 'V', 'VALENTINES', 'VALUED', 'VAT', 'VCo', 'VE', 'VIA', 'VIDEO', 'VILLA', 'VIOLENCE', 'VIOLET', 'VIP', 'VIVEKANAND', 'VPOD', 'VU', 'Valentine', 'Valentines', 'Valid', 'Valid12hrs', 'Valuable', 'Values', 'Vatian', 'Vegas', 'Velly', 'Velusamy', 'Verify', 'Very', 'Vettam', 'ViVa', 'Video', 'Videophones', 'Videos', 'Vijay', 'Vikky', 'Village', 'Virgin', 'Voda', 'Vodafone', 'Vodka', 'Voila', 'Vote', 'Voucher', 'Vouchers', 'Vry', 'W111WX', 'W14RG', 'W1A', 'W1J', 'W4', 'W45WQ', 'WA14', 'WAIT', 'WAITING', 'WALES', 'WANNA', 'WANNATELL', 'WANT', 'WAP', 'WAS', 'WAY', 'WAY2SMSCOM', 'WC1N', 'WC1N3XX', 'WE', 'WEDLUNCH', 'WEEK', 'WELL', 'WELLDA', 'WEN', 'WENT', 'WENWECAN', 'WERE', 'WEREBORED', 'WERETHE', 'WHASSUP', 'WHAT', 'WHEN', 'WHERE', 'WHICH', 'WHILE', 'WHITE', 'WHO', 'WHORE', 'WHY', 'WID', 'WIFE', 'WILD', 'WILL', 'WIN', 'WINNER', 'WISH', 'WISHING', 'WITH', 'WITHOUT', 'WIV', 'WK', 'WKEND', 'WKENT150P16', 'WOKE', 'WOMAN', 'WOMEN', 'WON', 'WONT', 'WORDS', 'WORK', 'WORLD', 'WORRIEDx', 'WORRY', 'WORRYC', 'WOT', 'WOTU', 'WOULD', 'WOULDNT', 'WOW', 'WRC', 'WRK', 'WRKI', 'WRKIN', 'WRLD', 'WRONGTAKE', 'WTF', 'WWWASJESUSCOM', 'Wa', 'Waaaat', 'Wah', 'Wahleykkumsharing', 'Wait', 'WaitU', 'Waiti', 'Waiting', 'Waitshould', 'Wake', 'Walk', 'Wan', 'Wan2', 'Wana', 'Wanna', 'Want', 'Wanting', 'Waqt', 'Warm', 'Warner', 'Was', 'Wasnt', 'Waste', 'Wasted', 'Wat', 'Watch', 'Watching', 'Water', 'Wating', 'WatrDayNo', 'Wats', 'Waves', 'We', 'WeBeBurnin', 'WeLL', 'Webpage', 'Wed', 'WeddingFriend', 'Wednesday', 'Weekly', 'Weightloss', 'Weiyi', 'Welcome', 'Well', 'Welp', 'Wen', 'Wendy', 'Went', 'Were', 'Westlife', 'Wet', 'Weve', 'Wewa', 'What', 'Whatever', 'Whats', 'Whatsup', 'When', 'Whenevr', 'Whenre', 'Whens', 'Whenwhere', 'Where', 'Wheres', 'Wherevr', 'Wherres', 'Which', 'Who', 'Whom', 'Whos', 'Why', 'Wicklow', 'Wif', 'Wife', 'Wifehow', 'Wil', 'Will', 'Win', 'Wine', 'Wings', 'Winner', 'WinnersClub', 'Winning', 'Wins', 'Wipe', 'Wire3net', 'Wish', 'Wishing', 'With', 'Wk', 'Wkly', 'Wld', 'Wn', 'Wnevr', 'Woke', 'Woman', 'Won', 'Wondering', 'Wont', 'Woo', 'Woodland', 'Woods', 'Woohoo', 'WordsEvry', 'Work', 'Working', 'World', 'Worth', 'Wot', 'Wotz', 'Would', 'Wow', 'Wright', 'Wrong', 'Wtf', 'Wuld', 'Wun', 'Wylie', 'X', 'X2', 'X29', 'X49', 'X49Your', 'XCHAT', 'XCLUSIVECLUBSAISAI', 'XMAS', 'XX', 'XXUK', 'XXX', 'XXXMobileMovieClub', 'XXXX', 'XXXXX', 'XXXXXX', 'Xavier', 'Xmas', 'XoXo', 'Xuhui', 'Xx', 'XxX', 'Xy', 'Y', 'Y87', 'YA', 'YEAH', 'YEAHAND', 'YEAR', 'YEARS', 'YEH', 'YES', 'YES165', 'YES434', 'YES440', 'YES762', 'YES910', 'YEST', 'YESTERDAY', 'YET', 'YM', 'YMCA', 'YO', 'YOR', 'YOU', 'YOUCLEAN', 'YOUR', 'YOURE', 'YOURJOB', 'YOUVE', 'YRS', 'YWHERE', 'Ya', 'Yagoing', 'Yahoo', 'Yalru', 'Yar', 'Yavnt', 'Yaxx', 'Yaxxx', 'Yay', 'Yeah', 'Year', 'Years', 'Yeesh', 'Yeh', 'Yellow', 'Yelowi', 'Yen', 'Yep', 'Yes', 'Yesbut', 'Yesfrom', 'Yesgauti', 'Yeshe', 'Yeshere', 'Yesim', 'Yesmum', 'Yessura', 'Yest', 'Yesterday', 'Yet', 'Yetunde', 'Yo', 'Yogasana', 'You', 'Youd', 'Youi', 'Youll', 'Your', 'Youre', 'Yours', 'Yourself', 'Youve', 'Yoyyooo', 'Yummmm', 'Yummy', 'Yun', 'Yunny', 'Yup', 'Yupz', 'Z', 'ZOE', 'ZOUK', 'Zahers', 'Zebra', 'Zindgi', 'Zogtorius', 'a', 'a30', 'aa', 'aathilove', 'aathiwhere', 'abdomen', 'abelu', 'abi', 'ability', 'abj', 'able', 'abnormally', 'abroad', 'absence', 'absolutely', 'abstract', 'abt', 'aburo', 'abuse', 'abuser', 'ac', 'acWicmb3cktz8r74', 'academic', 'acc', 'accent', 'accenture', 'accept', 'access', 'accessible', 'accidant', 'accident', 'accidentally', 'accommodation', 'accomodate', 'accomodations', 'accordin', 'accordingly', 'accordinglyor', 'account', 'accounting', 'accumulation', 'achanammaRakheshQatar', 'ache', 'achieve', 'acid', 'acknowledgement', 'across', 'acsmsrewards', 'act', 'acted', 'actin', 'acting', 'action', 'activ8', 'activate', 'activity', 'actor', 'actual', 'actually', 'ad', 'add', 'added', 'addicted', 'addie', 'adding', 'address', 'addressull', 'adewale', 'adi', 'adjustable', 'admin', 'administrator', 'admirer', 'admission', 'admit', 'admiti', 'adore', 'adoring', 'adress', 'adsense', 'adult', 'advance', 'adventure', 'adventuring', 'advice', 'advise', 'advising', 'advisor', 'aeroplane', 'affair', 'affection', 'affectionate', 'affidavit', 'afford', 'afghanistan', 'afraid', 'africa', 'african', 'aft', 'afternon', 'afternoon', 'afterwards', 'aftr', 'againloving', 'agalla', 'age', 'age16', 'age16150ppermessSubscription', 'age23', 'agency', 'agent', 'agidhane', 'aging', 'ago', 'agree', 'ah', 'aha', 'ahead', 'ahgee', 'ahnow', 'ahold', 'ahsen', 'ahthe', 'ahwhat', 'aid', 'aight', 'aint', 'air', 'air1', 'airport', 'airtel', 'ajith', 'ak', 'aka', 'al', 'albi', 'album', 'albumquite', 'alcohol', 'alert', 'alex', 'alexs', 'alfie', 'algebra', 'algorithm', 'ali', 'alian', 'alibi', 'alive', 'alivebetter', 'allah', 'allalo', 'allday', 'alle', 'allow', 'allowed', 'allows', 'alls', 'almost', 'alone', 'along', 'alot', 'already', 'alreadysabarish', 'alright', 'alrightOkay', 'alrite', 'alritehave', 'also', 'alsoor', 'alter', 'alternativehope', 'although', 'alwa', 'always', 'alwys', 'am', 'amazing', 'ambitious', 'american', 'amigo', 'amk', 'ammaelife', 'ammo', 'amnow', 'among', 'amongst', 'amore', 'amount', 'amp', 'amplikater', 'amt', 'amused', 'amx', 'an', 'ana', 'analysis', 'anand', 'anderson', 'andor', 'andre', 'andres', 'andrewsboy', 'andros', 'angel', 'angry', 'animal', 'animation', 'anjie', 'anjolas', 'anna', 'annie', 'anniversary', 'annoncement', 'announced', 'announcement', 'annoyin', 'annoying', 'anonymous', 'anot', 'another', 'ansr', 'answer', 'answered', 'answerin', 'answering', 'answr', 'anthony', 'anti', 'antibiotic', 'anybody', 'anybodys', 'anyhow', 'anymore', 'anyone', 'anyones', 'anyplaces', 'anythiing', 'anythin', 'anything', 'anythings', 'anythingtomorrow', 'anytime', 'anyway', 'anyways', 'anywhere', 'apart', 'apartment', 'ape', 'apeshit', 'aphex', 'apologetic', 'apologise', 'apologize', 'apology', 'app', 'apparently', 'appeal', 'appear', 'appendix', 'applebees', 'applespairsall', 'application', 'apply', 'apply2', 'applyed', 'applying', 'appointment', 'appreciate', 'appreciated', 'approach', 'approaching', 'appropriate', 'approve', 'approved', 'approx', 'apps', 'appt', 'april', 'aproach', 'apt', 'aptitude', 'aquarius', 'ar', 'arab', 'archive', 'ard', 'ardÉ', 'area', 'arent', 'arestaurant', 'aretaking', 'argentina', 'argh', 'argue', 'arguing', 'argument', 'arise', 'arises', 'arithmetic', 'arm', 'armand', 'armands', 'armenia', 'arng', 'arnt', 'around', 'aroundn', 'arrange', 'arranging', 'arrested', 'arrival', 'arrive', 'arrived', 'arsenal', 'art', 'artist', 'arty', 'arun', 'asa', 'asap', 'asapok', 'asda', 'ash', 'ashleys', 'ashwini', 'asia', 'ask', 'askd', 'asked', 'askin', 'asking', 'asks', 'asleep', 'aspect', 'assessment', 'asshole', 'assistance', 'associate', 'assume', 'assumed', 'asthma', 'astne', 'astoundingly', 'astrology', 'asus', 'atHome', 'ate', 'atlanta', 'atlast', 'atm', 'atrocious', 'attach', 'attached', 'attack', 'attempt', 'atten', 'attend', 'attended', 'attending', 'attention', 'attitude', 'attractioni', 'attracts', 'attributed', 'atyour', 'auction', 'auctionpunj', 'audiitions', 'audition', 'audreys', 'aunt', 'aunty', 'aust', 'authorise', 'auto', 'autocorrect', 'av', 'availa', 'available', 'availablei', 'availablethey', 'avalarr', 'avatar', 'avble', 'ave', 'avent', 'avenue', 'avin', 'avo', 'avoid', 'avoiding', 'avoids', 'await', 'awaiting', 'awake', 'award', 'awarded', 'away', 'awesome', 'awkward', 'ax', 'ayn', 'ayo', 'b', 'b4', 'b4190604', 'b4280703', 'ba', 'babe', 'baby', 'babyjontet', 'babysit', 'babysitting', 'bac', 'back', 'backa', 'backdoor', 'bad', 'badass', 'badly', 'bag', 'bagi', 'baig', 'bak', 'bakra', 'bakrid', 'balance', 'baller', 'balloon', 'bambling', 'band', 'bandage', 'bang', 'bangb', 'bank', 'banned', 'banter', 'bao', 'bar', 'barcelona', 'bare', 'barely', 'bari', 'barolla', 'barred', 'barrel', 'barring', 'base', 'bash', 'basic', 'basically', 'basket', 'basketball', 'basqihave', 'bat', 'batch', 'batchlor', 'bath', 'bathe', 'bathing', 'bathroom', 'batsman', 'batt', 'battery', 'battle', 'bawling', 'bay', 'bb', 'bc', 'bcaz', 'bck', 'bcoz', 'bcum', 'bcums', 'bcz', 'bday', 'beach', 'bead', 'bear', 'beating', 'beautiful', 'beautifulMay', 'beauty', 'bec', 'becausethey', 'become', 'becoz', 'becz', 'bed', 'bedbut', 'bedreal', 'bedrm', 'bedrm900', 'bedroom', 'beeen', 'beehoon', 'beendropping', 'beer', 'befor', 'beforehand', 'beforewent', 'beg', 'beggar', 'begging', 'begin', 'begun', 'behalf', 'behave', 'behind', 'bein', 'believe', 'belive', 'bell', 'bellearlier', 'belligerent', 'belly', 'belong', 'belongs', 'belovd', 'beloved', 'belt', 'ben', 'bend', 'beneath', 'beneficiary', 'benefit', 'beside', 'best', 'bestcongrats', 'bestrply', 'bet', 'beta', 'betta', 'better', 'beverage', 'bevieswaz', 'beyond', 'bf', 'bffs', 'bfore', 'bhaskar', 'bhayandar', 'bian', 'biatch', 'bid', 'big', 'bigger', 'biggest', 'bike', 'bill', 'billed', 'billion', 'billy', 'bilo', 'bimbo', 'bin', 'biolas', 'bird', 'birla', 'birth', 'birthdate', 'birthday', 'bishan', 'bit', 'bitch', 'bitching', 'bite', 'bk', 'black', 'blackand', 'blackberry', 'blah', 'blake', 'blame', 'blank', 'blanked', 'blanket', 'blastin', 'bleak', 'bleh', 'bless', 'blessed', 'blessget', 'blessing', 'blimey', 'block', 'blocked', 'blog', 'blogging', 'bloke', 'blonde', 'bloo', 'blood', 'bloodblood', 'bloody', 'bloombergcom', 'blow', 'blowing', 'blown', 'blue', 'bluff', 'blur', 'bluray', 'board', 'boat', 'body', 'boggy', 'bold', 'bold2', 'bollox', 'bomb', 'bone', 'bong', 'bonus', 'boo', 'boob', 'book', 'booked', 'bookedthe', 'booking', 'bookshelf', 'boost', 'booty', 'bootydelious', 'borderline', 'bored', 'borin', 'boring', 'born', 'borrow', 'bos', 'boston', 'bot', 'bother', 'bothering', 'bottle', 'bottom', 'bought', 'boundary', 'bout', 'bowa', 'bowl', 'box', 'box245c2150pm', 'box334sk38ch', 'box403', 'boy', 'boye', 'boyfriend', 'boytoy', 'boyy', 'bpo', 'bra', 'brah', 'brain', 'braindance', 'brainy', 'brand', 'brat', 'braved', 'bread', 'breadstick', 'break', 'breakfast', 'breaking', 'breath', 'breathe', 'breather', 'breathing', 'breeze', 'breezy', 'bribe', 'bridge', 'bridgwater', 'brief', 'bright', 'brighten', 'brilliant', 'brilliant1thingi', 'brilliantly', 'brin', 'bring', 'bringing', 'brings', 'brisk', 'brison', 'bro', 'broad', 'broke', 'broken', 'brolly', 'bros', 'broth', 'brothas', 'brother', 'brought', 'brownie', 'browse', 'browser', 'browsin', 'bruce', 'brum', 'bruv', 'bsn', 'bsnl', 'bt', 'bthmm', 'btw', 'btwn', 'buck', 'bud', 'buddy', 'budget', 'buen', 'buff', 'buffet', 'bugis', 'build', 'building', 'built', 'bulb', 'bullshit', 'bun', 'bunch', 'bundle', 'bunker', 'burden', 'burger', 'burgundy', 'burial', 'burn', 'burning', 'burnt', 'burrito', 'bus', 'bus822656166382', 'busetop', 'business', 'busty', 'busy', 'busyi', 'butt', 'butting', 'button', 'buy', 'buyer', 'buying', 'buzy', 'buzz', 'bw', 'bx420', 'bx420ip45we', 'bye', 'c', 'cThen', 'cabin', 'cafe', 'cage', 'cake', 'caken', 'cal', 'calculated', 'calculation', 'cali', 'calicut', 'california', 'call', 'call09050000327', 'call2optout4QF2', 'call2optoutF4Q', 'call2optoutHF8', 'call2optoutJ', 'call2optoutJ5Q', 'call2optoutLF56', 'call2optoutN9DX', 'call2optoutYHL', 'callback', 'callcost', 'callcoz', 'calld', 'calldrove', 'called', 'caller', 'callertune', 'callin', 'calling', 'callingForgot', 'callon', 'callsmessagesmissed', 'callurgent', 'calm', 'cam', 'camcorder', 'came', 'camera', 'cameravideo', 'camp', 'campus', 'camry', 'canada', 'canal', 'cancel', 'canceled', 'cancelled', 'cancer', 'candont', 'canlove', 'canname', 'cannot', 'cannt', 'cant', 'cantdo', 'canteen', 'cap', 'capacity', 'capital', 'cappuccino', 'captain', 'captaining', 'car', 'card', 'cardiff', 'cardin', 'care', 'careabout', 'cared', 'career', 'careful', 'carefully', 'careinsha', 'careless', 'carente', 'careswt', 'careumma', 'carewhoever', 'caring', 'carlin', 'carlos', 'carly', 'carolina', 'caroline', 'carpark', 'carry', 'carryin', 'carso', 'carton', 'cartoon', 'case', 'cash', 'cashbalance', 'cashed', 'cashin', 'cashto', 'casing', 'cast', 'casting', 'castor', 'casualty', 'cat', 'catch', 'catching', 'category', 'caught', 'cause', 'causing', 'cave', 'caveboy', 'cbe', 'cc100pmin', 'ccna', 'cd', 'cedar', 'ceiling', 'celeb', 'celeb4', 'celebrate', 'celebration', 'cell', 'census', 'center', 'centre', 'century', 'cereal', 'certainly', 'certificate', 'cha', 'chad', 'chain', 'challenge', 'challenging', 'champ', 'champlaxigating', 'champneys', 'chance', 'change', 'changed', 'changing', 'channel', 'chap', 'chapel', 'chapter', 'character', 'charge', 'charged', 'charged150pmsg2', 'charity', 'charles', 'charlie', 'charming', 'chart', 'chase', 'chasing', 'chastity', 'chat', 'chatIm', 'chatter', 'chatting', 'cheap', 'cheaper', 'cheat', 'cheating', 'chechi', 'check', 'checkboxes', 'checked', 'checking', 'checkup', 'cheek', 'cheer', 'cheery', 'cheese', 'cheesy', 'cheetos', 'chennai', 'chennaibecause', 'chennaii', 'cheque', 'cherish', 'cherthalain', 'chess', 'chest', 'chex', 'cheyyamoand', 'chez', 'chg', 'chgs', 'chic', 'chick', 'chicken', 'chickened', 'chief', 'chik', 'chikku', 'chikkuB', 'chikkuDB', 'chikkuali', 'chikkugoing', 'chikkuil', 'chikkuk', 'chikkusimple', 'chikkuwat', 'child', 'childish', 'childporn', 'chile', 'chill', 'chillaxin', 'chillin', 'china', 'chinchilla', 'chinese', 'chinky', 'chiong', 'chip', 'chocolate', 'choice', 'choose', 'choosing', 'chop', 'chord', 'chore', 'chosen', 'chrgd50p', 'christ', 'christmas', 'christmassy', 'chuck', 'chuckin', 'church', 'cine', 'cinema', 'citizen', 'city', 'citylink', 'claim', 'claimcode', 'claire', 'clarification', 'clarify', 'clas', 'clash', 'class', 'classmate', 'claypot', 'cld', 'clean', 'cleaning', 'clear', 'cleared', 'clearer', 'clearing', 'clearly', 'clever', 'click', 'cliff', 'clip', 'clock', 'close', 'closeby', 'closed', 'closedincluding', 'closer', 'closingdate040902', 'cloth', 'clothes', 'cloud', 'clover', 'club', 'club4mobilescom', 'clue', 'cm', 'cme', 'cmon', 'cn', 'cnl', 'co', 'coach', 'coast', 'coat', 'coaxing', 'coccooning', 'cochin', 'cock', 'cocksucker', 'coco', 'code', 'coffee', 'coherently', 'coimbatore', 'coin', 'coincidence', 'colany', 'cold', 'coldheard', 'collage', 'collapsed', 'collect', 'collected', 'collecting', 'collection', 'colleg', 'college', 'collegexx', 'color', 'colour', 'colourful', 'colourredtextcolourTXTstar', 'comb', 'combination', 'combine', 'come', 'comedy', 'comedycant', 'comei', 'cometil', 'comfey', 'comfort', 'comin', 'coming', 'comingdown', 'comingtmorow', 'command', 'comment', 'commercial', 'commit', 'common', 'community', 'comp', 'company', 'compare', 'compensation', 'competition', 'complacent', 'complain', 'complaining', 'complaint', 'complementary', 'complete', 'completed', 'completely', 'completes', 'completing', 'complexity', 'complimentary', 'compofstuff', 'comprehensive', 'compromised', 'compulsory', 'computational', 'computer', 'computerless', 'comuk220cm2', 'con', 'conacted', 'concentrate', 'concentrating', 'concentration', 'concern', 'concert', 'conclusion', 'condition', 'conditionand', 'conduct', 'conected', 'conference', 'confidence', 'configure', 'confirm', 'confirmd', 'confirmdeny', 'confirmed', 'conform', 'confused', 'confuses', 'congrats', 'connect', 'connected', 'connection', 'consensus', 'consent', 'conserve', 'consider', 'considering', 'consistently', 'console', 'constant', 'constantly', 'contact', 'contacted', 'contains', 'content', 'contented', 'continent', 'continue', 'continued', 'contract', 'contribute', 'control', 'convenience', 'conversation', 'converted', 'converter', 'convey', 'conveying', 'convince', 'convincing', 'convincingjust', 'cook', 'cooked', 'cooking', 'cooky', 'cool', 'cooped', 'cooperative', 'cop', 'copied', 'coping', 'copy', 'corect', 'cornwall', 'corporation', 'corrct', 'correct', 'correction', 'correctionor', 'correctly', 'corrupt', 'corvette', 'cosign', 'cost', 'costing', 'costume', 'couch', 'cough', 'coughing', 'could', 'coulda', 'couldnt', 'count', 'countin', 'country', 'coupla', 'couple', 'courage', 'course', 'court', 'courtroom', 'cousin', 'cover', 'coveragd', 'coz', 'cozy', 'cr', 'crab', 'crammed', 'cramp', 'crap', 'crash', 'crashed', 'crashing', 'crave', 'craving', 'craziest', 'crazy', 'cream', 'created', 'creative', 'creativity', 'credit', 'credited', 'creep', 'creepy', 'cresubi', 'cricket', 'cricketer', 'crickiting', 'cried', 'crisis', 'crore', 'cross', 'crossing', 'crowd', 'crucial', 'cruise', 'cruisin', 'crush', 'cry', 'cst', 'cstore', 'ctla', 'cuck', 'cud', 'cuddle', 'cuddled', 'cuddling', 'cudnt', 'culture', 'cum', 'cumin', 'cumming', 'cup', 'cupboard', 'cuppa', 'curfew', 'curious', 'current', 'currently', 'curry', 'curtsey', 'cust', 'custcare', 'custom', 'customer', 'customersqueriesnetvisionukcom', 'cut', 'cute', 'cutest', 'cutie', 'cutting', 'cuz', 'cya', 'cyclist', 'cyst', 'da', 'daal', 'daalways', 'dabbles', 'dad', 'daddy', 'dado', 'dagood', 'dahe', 'dahow', 'dai', 'daily', 'dajst', 'damn', 'danalla', 'dancce', 'dance', 'dancin', 'dancing', 'dane', 'dang', 'danger', 'dangerous', 'dao', 'daplease', 'dare', 'dark', 'darker', 'darkest', 'darkness', 'darlin', 'darling', 'darlinim', 'darren', 'dartboard', 'dat', 'data', 'date', 'dating', 'datingi', 'datoday', 'daurgent', 'dawhats', 'dawhere', 'dawn', 'day', 'day2find', 'dayexcept', 'dayhas', 'dayshe', 'daysso', 'dayswill', 'daysèn', 'daytime', 'daywith', 'de', 'dead', 'deadWell', 'deal', 'dealFarm', 'dealer', 'dealing', 'deam', 'dear', 'dearRakhesh', 'dearer', 'deari', 'dearloving', 'dearly', 'dearslp', 'deartake', 'deary', 'death', 'debating', 'dec', 'decade', 'decide', 'decided', 'deciding', 'decimal', 'decision', 'deck', 'decking', 'decorating', 'dedicate', 'dedicated', 'deduct', 'deep', 'deepak', 'deepest', 'deer', 'def', 'defeat', 'defer', 'definite', 'definitely', 'definitly', 'degree', 'dehydrated', 'dehydration', 'del', 'delTOMORROW', 'delay', 'delayed', 'delete', 'deleted', 'delicious', 'deliver', 'delivered', 'delivery', 'deluxe', 'dem', 'demand', 'den', 'dengra', 'denis', 'dent', 'dental', 'dentist', 'denying', 'department', 'dependent', 'depends', 'deposit', 'deposited', 'depressed', 'depression', 'dept', 'der', 'derek', 'dereks', 'describe', 'description', 'desert', 'deserve', 'desk', 'desparate', 'desparately', 'desperate', 'despite', 'dessert', 'destination', 'destiny', 'detail', 'detailed', 'detailsi', 'determine', 'deus', 'develop', 'developed', 'developer', 'device', 'devouring', 'dey', 'deyhope', 'deyi', 'dha', 'dhina', 'dhorte', 'di', 'dial', 'dialling', 'dialogue', 'diamond', 'diaper', 'dice', 'dick', 'dict', 'dictionary', 'diddy', 'didnt', 'didntgive', 'didt', 'die', 'died', 'diesel', 'diet', 'dieting', 'diff', 'differ', 'differbe', 'difference', 'different', 'difficult', 'difficulty', 'dificult', 'digi', 'digit', 'digital', 'dignity', 'dime', 'dimension', 'din', 'dine', 'dined', 'dinero', 'ding', 'dining', 'dinner', 'dinnermsg', 'dint', 'dippeditinaDEW', 'direct', 'directly', 'director', 'dirt', 'dirtiest', 'dirty', 'dis', 'disagreeable', 'disappeared', 'disappointment', 'disaster', 'disastrous', 'disc', 'disclose', 'disconnected', 'discount', 'discreet', 'discus', 'discussed', 'diskyou', 'dislike', 'dismay', 'dismissial', 'display', 'distance', 'distract', 'disturb', 'disturbancemight', 'disturbing', 'divert', 'division', 'divorce', 'diwali', 'dl', 'dled', 'dnt', 'doInterested', 'dob', 'dobby', 'dobbys', 'doc', 'dock', 'doctor', 'document', 'dodda', 'dodgey', 'doesnt', 'dog', 'dogg', 'doggin', 'dogging', 'doggy', 'dogwood', 'doin', 'doinat', 'doingWhat', 'doinghow', 'doinnearly', 'doke', 'dokey', 'dollar', 'domain', 'donate', 'done', 'donewant', 'donno', 'dont', 'donyt', 'doom', 'door', 'dorm', 'dose', 'dosomething', 'dot', 'double', 'doublefaggot', 'doubt', 'doug', 'dough', 'down', 'download', 'downloaded', 'downloads', 'downstem', 'dr', 'drama', 'dramastorms', 'dramatic', 'drastic', 'draw', 'drawPlease', 'dreading', 'dream', 'dreamlove', 'dreamsMuah', 'dreamstake', 'dreamsu', 'dress', 'dressed', 'dresser', 'drink', 'drinkin', 'drinking', 'drinkpa', 'drive', 'driver', 'drivin', 'driving', 'drizzling', 'drms', 'drmstake', 'drop', 'dropped', 'drove', 'drpd', 'drug', 'drugdealer', 'drum', 'drunk', 'drunkard', 'drunken', 'drvgsTo', 'dry', 'dryer', 'dsnt', 'dt', 'dual', 'dub', 'dubsack', 'ducking', 'dude', 'dudette', 'due', 'duffer', 'dull', 'dumb', 'dump', 'dun', 'dungerees', 'dunno', 'duo', 'durban', 'durham', 'dusk', 'dust', 'duvet', 'dvg', 'dwn', 'dying', 'dysentry', 'e', 'ear', 'earlier', 'earlierwe', 'earliest', 'early', 'earn', 'earning', 'earth', 'earthsofa', 'easier', 'easiest', 'easily', 'east', 'easter', 'easy', 'eat', 'eaten', 'eatin', 'eating', 'ebay', 'ec2a', 'ecstacy', 'ecstasy', 'edge', 'edhae', 'edition', 'edrunk', 'education', 'educational', 'edukkukayee', 'edward', 'ee', 'eerie', 'eerulli', 'effect', 'efficient', 'efreefone', 'eg', 'eg23G', 'egg', 'eggpotato', 'eggspert', 'ego', 'eh', 'eight', 'eighth', 'eightish', 'either', 'el', 'ela', 'elaborate', 'elaborating', 'elaine', 'elama', 'elaya', 'eldest', 'election', 'electricity', 'elephant', 'elliot', 'else', 'elsewhere', 'em', 'email', 'emailed', 'embarassed', 'embarassing', 'embarrassed', 'embassy', 'emergency', 'emerging', 'emigrated', 'employee', 'employer', 'empty', 'en', 'end', 'ended', 'ending', 'endless', 'endof', 'endowed', 'enemy', 'energy', 'engaged', 'engagement', 'engalnd', 'engin', 'england', 'english', 'enjoy', 'enjoyed', 'enjoying', 'enketa', 'ennal', 'enough', 'enter', 'entered', 'enters', 'entertain', 'entertaining', 'entey', 'entire', 'entirely', 'entitled', 'entrepreneur', 'entropication', 'entry', 'enuff', 'envelope', 'envy', 'epi', 'epsilon', 'equally', 'ericson', 'ericsson', 'erotic', 'error', 'ertini', 'eruku', 'erupt', 'erything', 'esaplanade', 'escalator', 'escape', 'ese', 'eshxxxxxxxxxxx', 'especially', 'espell', 'esplanade', 'essay', 'essential', 'establish', 'eta', 'etc', 'ethnicity', 'ethreats', 'ettans', 'europe', 'evaluation', 'evaporated', 'eve', 'eveB', 'evei', 'even', 'evening', 'event', 'eventually', 'ever', 'every', 'everybody', 'everybodys', 'everyboy', 'everyday', 'everyone', 'everyones', 'everyso', 'everything', 'everywhere', 'evey', 'eviction', 'evil', 'evn', 'evng', 'evo', 'evry1', 'evrydy', 'ex', 'exact', 'exactly', 'exam', 'excellent', 'except', 'exchanged', 'excited', 'exciting', 'excuse', 'excused', 'exe', 'executive', 'exercise', 'exeter', 'exhaust', 'exhausted', 'exhibition', 'exist', 'exmpel', 'expect', 'expecting', 'expects', 'expensive', 'experience', 'experiencehttpwwwvouch4mecometlpdiningasp', 'experiment', 'expert', 'expired', 'expiredso', 'expiry', 'explain', 'explicit', 'explicitly', 'expose', 'exposed', 'express', 'expression', 'ext', 'exterminator', 'extra', 'extract', 'exwife', 'ey', 'eye', 'f', 'fab', 'faber', 'face', 'faceasssssholeeee', 'facebook', 'facility', 'fact', 'factory', 'faded', 'faggy', 'faglord', 'failed', 'failing', 'failure', 'fainting', 'fair', 'faithEvening', 'fake', 'fakemy', 'fakeyes', 'fal', 'falconerf', 'fall', 'fallen', 'falling', 'fals', 'famamus', 'familiar', 'family', 'familymay', 'famous', 'fan', 'fancied', 'fancy', 'fantastic', 'fantasy', 'far', 'farm', 'farting', 'fassyole', 'fast', 'faster', 'fastest', 'fastpls', 'fat', 'fated', 'father', 'fathima', 'fatty', 'fault', 'faultal', 'faultfed', 'fav', 'fave', 'favor', 'favorite', 'favour', 'favourite', 'fb', 'fear', 'feathery', 'feature', 'feb', 'febapril', 'february', 'fedex', 'fee', 'feed', 'feel', 'feelin', 'feeling', 'feelingwavering', 'fell', 'fellow', 'felt', 'female', 'feng', 'festival', 'fetch', 'fetching', 'fever', 'fgkslpo', 'fgkslpoPW', 'fidalfication', 'field', 'fiendmake', 'fifteen', 'fifth', 'fight', 'fighting', 'fightng', 'figure', 'figuring', 'file', 'fill', 'filled', 'filling', 'film', 'filthy', 'filthyguys', 'final', 'finalise', 'finally', 'finance', 'financial', 'find', 'finding', 'fine', 'fineInshah', 'fineabsolutly', 'finewhen', 'finger', 'finish', 'finishd', 'finished', 'finishing', 'fink', 'finn', 'fire', 'fired', 'firefox', 'fireplace', 'firesAre', 'firmware', 'firsg', 'first', 'fish', 'fishhead', 'fishrman', 'fit', 'fiting', 'five', 'fix', 'fixd', 'fixed', 'fixedline', 'flag', 'flaked', 'flaky', 'flame', 'flash', 'flat', 'flatter', 'flavour', 'flea', 'fletcher', 'flew', 'flight', 'flim', 'flip', 'flippin', 'flirt', 'flirting', 'floating', 'flood', 'floor', 'floppy', 'florida', 'flow', 'flower', 'flowing', 'fluid', 'flurry', 'flute', 'fly', 'flyim', 'flying', 'flyng', 'fml', 'fne', 'fo', 'fold', 'folk', 'follow', 'followed', 'followin', 'following', 'follows', 'fond', 'fondly', 'fone', 'fones', 'food', 'fool', 'fooled', 'foot', 'football', 'footblcrckt', 'footie', 'footprint', 'footy', 'force', 'forced', 'foregate', 'foreign', 'forever', 'forevr', 'forfeit', 'forget', 'forgets', 'forgive', 'forgiven', 'forgiveness', 'forgot', 'forgotten', 'forgt', 'form', 'formal', 'formallyPls', 'format', 'formatting', 'formclark', 'formsdon', 'forth', 'fortune', 'forum', 'forward', 'forwarded', 'forwarding', 'found', 'four', 'fourth', 'foward', 'fowler', 'fox', 'fps', 'fr', 'fraction', 'frankgood', 'fraud', 'freak', 'freaked', 'freaking', 'freaky', 'free', 'freedom', 'freefone', 'freek', 'freely', 'freesend', 'freezing', 'fren', 'french', 'frens', 'frequently', 'fret', 'fri', 'friday', 'fridayhope', 'fridge', 'fried', 'friend', 'friendofafriend', 'friendsare', 'friendship', 'fring', 'fringe', 'frm', 'frnd', 'frndZ', 'frnds', 'frndship', 'frndshp', 'frndsship', 'frnt', 'fro', 'frog', 'fromm', 'front', 'frontierville', 'frosty', 'fruit', 'frwd', 'frying', 'ft', 'fuck', 'fucked', 'fuckin', 'fucking', 'fuelled', 'fujitsu', 'ful', 'fulfil', 'full', 'fullonsmscom', 'fumbling', 'fun', 'function', 'fund', 'fundamental', 'funeral', 'funk', 'funky', 'funny', 'furniture', 'fusion', 'future', 'fyi', 'g', 'g696ga', 'gET', 'gOoD', 'ga', 'gain', 'gained', 'gal', 'galcan', 'galileo', 'galno', 'galsU', 'game', 'gandhipuram', 'ganesh', 'gang', 'gap', 'garage', 'garbage', 'garden', 'gari', 'garment', 'gas', 'gastroenteritis', 'gate', 'gauge', 'gautham', 'gave', 'gay', 'gayD', 'gayle', 'gaytextbuddycom', 'gbpsms', 'gd', 'gdeve', 'gdnow', 'gdthe', 'ge', 'gei', 'gek1510', 'gene', 'general', 'generally', 'genius', 'gentle', 'gentleman', 'gently', 'genuine', 'genus', 'gep', 'ger', 'get', 'get4an18th', 'getiing', 'geting', 'getsleep', 'getstop', 'gettin', 'getting', 'getzedcouk', 'gf', 'ghodbandar', 'gibbs', 'gibe', 'gift', 'gifted', 'giggle', 'gigolo', 'gimme', 'girl', 'girld', 'girlfrnd', 'girlie', 'gist', 'giv', 'give', 'given', 'giving', 'givits', 'glad', 'gland', 'glasgow', 'glass', 'glo', 'global', 'glorious', 'glory', 'gloucesterroad', 'go', 'go2', 'go2sri', 'goa', 'goal', 'goalsteam', 'gobi', 'god', 'godYou', 'godnot', 'godtaken', 'goggles', 'goigng', 'goin', 'goin2bed', 'going', 'gold', 'golden', 'goldviking', 'gon', 'gona', 'gone', 'gong', 'gonna', 'gooD', 'good', 'gooddhanush', 'goodenvironment', 'goodfine', 'goodmate', 'goodnight', 'goodnite', 'goodno', 'goodwhen', 'goody', 'google', 'gorgeous', 'gossip', 'got', 'gota', 'gotany', 'goto', 'gotta', 'gotten', 'gotto', 'goverment', 'govtinstituitions', 'gowait', 'gprs', 'gpu', 'gr8', 'gr8prizes', 'grab', 'grace', 'graduated', 'gram', 'grand', 'grandfather', 'grandma', 'granted', 'graphic', 'grasp', 'grateful', 'grave', 'gravy', 'gray', 'gre', 'great', 'greatbhaji', 'greatbye', 'greatest', 'greatly', 'greatness', 'greece', 'green', 'greet', 'greeting', 'grief', 'grin', 'grinder', 'grinule', 'grocer', 'grooved', 'groovy', 'groovying', 'ground', 'groundamla', 'group', 'grow', 'growing', 'grown', 'grownup', 'grr', 'grumble', 'gt', 'gua', 'guarantee', 'guaranteed', 'gucci', 'gud', 'gudk', 'guess', 'guessed', 'guessing', 'guidance', 'guide', 'guilty', 'guitar', 'guoyang', 'gut', 'guy', 'gv', 'gving', 'gym', 'gymnastics', 'gynae', 'h', 'ha', 'habbahw', 'habit', 'hadnt', 'hadya', 'haf', 'haha', 'hai', 'hail', 'hair', 'haircut', 'hairdresser', 'half', 'half8th', 'hall', 'halla', 'ham', 'hamper', 'hamster', 'hand', 'handed', 'handing', 'handle', 'handset', 'handsome', 'handsomes', 'hang', 'hanger', 'hangin', 'hanging', 'hank', 'hannaford', 'happen', 'happend', 'happened', 'happenin', 'happening', 'happens', 'happier', 'happiest', 'happily', 'happiness', 'happy', 'hard', 'hardcore', 'harder', 'hardly', 'harlem', 'harri', 'hasnt', 'hassling', 'hat', 'hate', 'haul', 'haunt', 'hav', 'hav2hear', 'hava', 'havent', 'havin', 'havnt', 'hdd', 'he', 'head', 'headache', 'headin', 'heading', 'headstart', 'heal', 'healthy', 'heap', 'hear', 'heard', 'hearin', 'hearing', 'heart', 'hearted', 'heartgn', 'heartheart', 'heartsnot', 'heat', 'heater', 'heaven', 'heavily', 'heavy', 'hectic', 'hee', 'held', 'helen', 'hell', 'hella', 'hello', 'helloed', 'help', 'help08700469649', 'help08712400602450p', 'helpful', 'helping', 'heltiniIyo', 'hen', 'hence', 'hep', 'herI', 'herepls', 'hereremember', 'herethanksi', 'herlove', 'hermy', 'heron', 'hershe', 'herwho', 'herwill', 'hesitant', 'hesitate', 'hesitation', 'hex', 'hey', 'hi', 'hidden', 'hide', 'hiding', 'high', 'highest', 'hilariousalso', 'hill', 'hillsborough', 'himso', 'himthen', 'hint', 'hip', 'hiphop', 'hire', 'hisher', 'history', 'hit', 'hitman', 'hitteranyway', 'hittng', 'hiya', 'hlday', 'hme', 'hmm', 'hmmm', 'ho', 'hockey', 'hogidhechinnu', 'hol', 'hold', 'holder', 'holding', 'hole', 'holiday', 'holidayso', 'holla', 'hollalater', 'hols', 'holy', 'home', 'homeBut', 'homecheck', 'homeleft', 'homelove', 'homewot', 'hon', 'honest', 'honesty', 'honey', 'honeymoon', 'hont', 'hoo', 'hooch', 'hook', 'hooked', 'hoop', 'hop', 'hope', 'hopeSo', 'hopeafternoon', 'hoped', 'hopeful', 'hopefully', 'hopeing', 'hoping', 'hor', 'horniest', 'horny', 'horrible', 'horse', 'hospital', 'hostel', 'hostile', 'hot', 'hotel', 'hour', 'hourish', 'house', 'houseful', 'housewife', 'housework', 'housing', 'howard', 'however', 'howre', 'hows', 'howve', 'hp', 'hppnss', 'hr', 'hsbc', 'html', 'httpalto18coukwavewaveaspo44345', 'httpcareers', 'httpdoit', 'httpgotbabescouk', 'httpimg', 'httptms', 'httpwap', 'httpwwwbubbletextcom', 'httpwwwetlpcoukexpressoffer', 'httpwwwetlpcoukreward', 'httpwwwgr8prizescom', 'httpwwwurawinnercom', 'httpwwwwtlpcouktext', 'huai', 'hubby', 'hudgi', 'hug', 'huge', 'hugging', 'hugh', 'huh', 'huiming', 'hum', 'human', 'humanity', 'hun', 'hundred', 'hundredhe', 'hungover', 'hungry', 'hunk', 'hunny', 'hunnyjust', 'hunonbus', 'hunt', 'hunting', 'hurricane', 'hurried', 'hurry', 'hurt', 'hurting', 'husband', 'hussey', 'hustle', 'hut', 'hv', 'hvae', 'hw', 'hwd', 'hwkeep', 'hyde', 'hypertension', 'hypotheticalhuagauahahuagahyuhagga', 'iPOD', 'iPod', 'iZ', 'iam', 'ibm', 'ibored', 'ibuprofen', 'ic', 'iccha', 'ice', 'icicibankcom', 'icky', 'icon', 'id', 'idc', 'idconvey', 'idea', 'ideal', 'identification', 'idiot', 'idk', 'idu', 'ie', 'iff', 'ifwhenhow', 'ignorant', 'ignore', 'ignoring', 'ikea', 'il', 'ill', 'illness', 'im', 'image', 'imaginationMy', 'imagine', 'imma', 'immed', 'immediately', 'immunisation', 'imp', 'impatient', 'implication', 'important', 'importantly', 'imposed', 'impossible', 'imposter', 'impress', 'impressed', 'impression', 'impressively', 'improve', 'improved', 'in2', 'inc', 'inch', 'incident', 'include', 'includes', 'inclusive', 'incomm', 'inconsiderate', 'inconvenient', 'increase', 'increment', 'inde', 'indeed', 'independently', 'india', 'indian', 'indicate', 'individual', 'individualtime', 'infection', 'infernal', 'influx', 'info', 'inforingtonekingcouk', 'inform', 'information', 'informed', 'informedRgdsRakheshKerala', 'infotxt82228couk', 'infovipclub4u', 'infowww100percentrealcom', 'infra', 'infront', 'ing', 'ingredient', 'initiate', 'inlude', 'inmind', 'inner', 'inning', 'innocent', 'innu', 'inour', 'inperialmusic', 'inpersonation', 'insect', 'inshah', 'inside', 'inspection', 'inst', 'install', 'installation', 'installing', 'instantly', 'instead', 'instruction', 'insurance', 'intelligent', 'intend', 'intention', 'interest', 'interested', 'interesting', 'interfued', 'internal', 'internet', 'internetservice', 'interview', 'intha', 'intrepid', 'intro', 'intrude', 'invention', 'invest', 'investigate', 'invitation', 'invite', 'invited', 'inviting', 'invnted', 'invoice', 'involve', 'involved', 'iouri', 'ip', 'ip4', 'ipad', 'ipaditan', 'ipads', 'iphone', 'ipod', 'ireneere', 'iron', 'ironing', 'irritated', 'irritating', 'irritation', 'irulinae', 'isComing', 'isLOVE', 'isare', 'iscoming', 'ish', 'ishtamayoohappy', 'island', 'isnt', 'issue', 'itLEAVE', 'itU', 'italian', 'itc', 'itcould', 'item', 'iter', 'ithink', 'iti', 'itjust', 'itlet', 'itmail', 'itmay', 'itor', 'itplspls', 'itried2tell', 'itwhichturnedinto', 'ivatte', 'ive', 'iz', 'izzit', 'j', 'jabo', 'jack', 'jacket', 'jackson', 'jacuzzi', 'jaklin', 'jam', 'james', 'jamster', 'jamstercouk', 'jan', 'janarige', 'jane', 'january', 'jap', 'jason', 'java', 'jay', 'jaya', 'jaykwon', 'jazz', 'jb', 'je', 'jealous', 'jean', 'jeetey', 'jeevithathile', 'jelly', 'jenne', 'jenny', 'jess', 'jesus', 'jet', 'jetton', 'jewelry', 'ji', 'jiayin', 'jide', 'jiu', 'jo', 'job', 'jock', 'jod', 'jog', 'jogging', 'john', 'join', 'joined', 'joinedHope', 'joinedso', 'joining', 'joke', 'joker', 'jokethet', 'jokin', 'joking', 'jolly', 'jolt', 'jontin', 'jot', 'journey', 'joy', 'jp', 'jst', 'juan', 'judgementali', 'juicy', 'jules', 'juliana', 'julianaland', 'jump', 'jumper', 'june', 'jungle', 'jurong', 'jus', 'justbeen', 'justify', 'justthought', 'juz', 'k', 'kaaj', 'kadeem', 'kafter', 'kaila', 'kaitlyn', 'kalaachutaarama', 'kalainar', 'kalisidare', 'kallis', 'kalstiyathen', 'kama', 'kane', 'kanji', 'kano', 'kanoanyway', 'kanoil', 'kanowhr', 'kappa', 'karaoke', 'karnan', 'karo', 'kaypoh', 'kb', 'kbut', 'ke', 'keen', 'keep', 'keeping', 'kegger', 'keluviri', 'kent', 'kept', 'kerala', 'kettoda', 'key', 'keypad', 'keyword', 'kfc', 'kg', 'kgood', 'khelate', 'ki', 'kick', 'kickboxing', 'kickoff', 'kid', 'kidding', 'kill', 'killed', 'killing', 'kilo', 'kim', 'kind', 'kinda', 'kindly', 'king', 'kintu', 'kiosk', 'kip', 'kisi', 'kiss', 'kissing', 'kit', 'kittum', 'kitty', 'kkwhere', 'knackered', 'knee', 'knew', 'knickers', 'knocking', 'know', 'knowhe', 'knowing', 'known', 'knowthis', 'knowwait', 'knowyetunde', 'knw', 'ko', 'kochi', 'kodstini', 'kodthini', 'konw', 'korche', 'korean', 'korli', 'korte', 'kotees', 'kothi', 'ksry', 'ktv', 'kuch', 'kvb', 'kwish', 'kz', 'l8', 'l8r', 'l8tr', 'la', 'lab', 'labor', 'lac', 'lacking', 'lacsthats', 'laden', 'ladiesU', 'lady', 'lag', 'lage', 'lager', 'laid', 'laidwant', 'lakh', 'lambda', 'lambu', 'lamp', 'land', 'landing', 'landline', 'landlineonly', 'landmark', 'lane', 'langport', 'language', 'lanka', 'lanre', 'lap', 'lapdancer', 'laptop', 'lar', 'laready', 'largest', 'lark', 'lasagna', 'last', 'lastest', 'lasting', 'late', 'latebut', 'latei', 'lately', 'latelyxxx', 'later', 'lateso', 'latest', 'latr', 'laugh', 'laughing', 'laundry', 'laurie', 'lautech', 'lavender', 'law', 'laxinorficated', 'lay', 'layin', 'laying', 'lazy', 'le', 'lead', 'leadership', 'leading', 'leaf', 'leafcutter', 'league', 'learn', 'learned', 'least', 'least5times', 'leastWhich', 'leave', 'leaving', 'lect', 'lecture', 'lecturer', 'left', 'leftover', 'leg', 'legal', 'legitimat', 'leh', 'lehHaha', 'lei', 'lemme', 'length', 'lennon', 'leo', 'leona', 'leonardo', 'leonas', 'lesser', 'lesson', 'let', 'letter', 'leu', 'level', 'li', 'liao', 'liaoSo', 'liaoToo', 'lib', 'library', 'lick', 'lido', 'lie', 'life', 'lifeThis', 'lifeand', 'lifebook', 'lifeis', 'lifetime', 'lifeyou', 'lift', 'lifted', 'lifting', 'light', 'lighter', 'lightly', 'lik', 'like', 'liked', 'likely', 'lil', 'lim', 'limit', 'limiting', 'limping', 'line', 'linear', 'lined', 'linerental', 'lineyou', 'lingerie', 'lingo', 'link', 'linux', 'lion', 'lionm', 'lionp', 'lip', 'lipo', 'liquor', 'list', 'listed', 'listen', 'listener', 'listening', 'listening2the', 'listn', 'lit', 'literally', 'little', 'live', 'lived', 'liver', 'living', 'lk', 'lm', 'lmao', 'lnly', 'lo', 'load', 'loan', 'lobby', 'local', 'location', 'lock', 'lodge', 'lodging', 'log', 'logged', 'logging', 'login', 'logo', 'logoff', 'logopic', 'logosmusicnews', 'loko', 'lol', 'londn', 'london', 'loneliness', 'lonely', 'long', 'longer', 'lonlines', 'loo', 'look', 'looked', 'lookin', 'looking', 'looovvve', 'loose', 'loosing', 'lor', 'lorWe', 'lorgoin', 'lose', 'loser', 'loses', 'losing', 'loss', 'lost', 'lot', 'loti', 'lotr', 'lotsly', 'lotsof', 'lotta', 'lotto', 'lotwill', 'lotz', 'lou', 'loud', 'lounge', 'lousy', 'lov', 'lovable', 'love', 'loveJen', 'loved', 'lovely', 'lover', 'loverakhesh', 'loverboy', 'lovin', 'loving', 'lovingly', 'lovly', 'low', 'lower', 'lowes', 'loxahatchee', 'loyal', 'loyalty', 'lst', 'lt', 'lt3', 'ltDECIMALgt', 'ltEMAILgt', 'ltTIMEgt', 'ltURLgt', 'ltgt', 'lttrs', 'lubly', 'luck', 'luck2', 'lucky', 'lucozadecoukwrc', 'luks', 'lunch', 'lunchtime', 'lunchyou', 'lunsford', 'lush', 'luv', 'luvNight', 'luvd', 'luvs', 'luxury', 'lv', 'lyf', 'lyfu', 'lying', 'lyk', 'lyric', 'lyricalladie21F', 'm', 'm100', 'm8', 'm8s', 'ma', 'maaaan', 'mac', 'machan', 'machiany', 'machine', 'macho', 'mack', 'macleran', 'mad', 'madam', 'made', 'madodu', 'madoke', 'madstini', 'madthen', 'mag', 'maga', 'magazine', 'maggi', 'magic', 'magical', 'magicalsongsblogspotcom', 'mah', 'mahal', 'mahfuuzmeaning', 'mail', 'mailed', 'maili', 'main', 'maintaining', 'major', 'make', 'makiing', 'makin', 'making', 'malaria', 'malarky', 'male', 'mall', 'man', 'manage', 'manageable', 'managed', 'management', 'manda', 'mandara', 'manege', 'mango', 'maniac', 'manky', 'manual', 'many', 'map', 'mapquest', 'maraikara', 'marandratha', 'march', 'margin', 'mark', 'market', 'marketing', 'marking', 'marrgeremembr', 'marriage', 'marriageprogram', 'married', 'marry', 'mary', 'masked', 'massage', 'massagetiepos', 'massive', 'master', 'masteriastering', 'match', 'mate', 'math', 'mathematics', 'matra', 'matric', 'matter', 'mattermsg', 'matured', 'maturity', 'max', 'max6month', 'maximize', 'maximum', 'may', 'mayb', 'maybe', 'mb', 'mc', 'mca', 'mcat', 'mcr', 'meAre', 'meDont', 'meI', 'meRemove', 'meal', 'mean', 'meaning', 'meaningful', 'meaningless', 'meant', 'measure', 'meatball', 'med', 'medical', 'medicine', 'mee', 'meet', 'meetin', 'meeting', 'meetins', 'meetitz', 'mega', 'meh', 'mei', 'meim', 'meive', 'mel', 'melike', 'melody', 'melt', 'member', 'membership', 'membershiptake', 'memorable', 'memory', 'men', 'meneed', 'mental', 'mention', 'mentionedtomorrow', 'mentionned', 'mentor', 'menu', 'meok', 'meow', 'meowD', 'merely', 'merry', 'mesages', 'meshe', 'meso', 'mess', 'message', 'messageIts', 'messaged', 'messageit', 'messageno', 'messagepandy', 'messagesText', 'messagesim', 'messenger', 'messy', 'met', 'method', 'meummifyingbye', 'mg', 'mi', 'mia', 'mid', 'middle', 'midnight', 'mids', 'might', 'miiiiiiissssssssss', 'mile', 'milk', 'miller', 'million', 'miltaZindgi', 'min', 'minAPN', 'mina', 'mind', 'minded', 'mindi', 'mindsetbelieve', 'mine', 'mineall', 'minecraft', 'mini', 'minimum', 'minor', 'mins100txtmth', 'minstand', 'minstexts', 'mint', 'minus', 'minute', 'minuts', 'miracle', 'mirror', 'misbehaved', 'miserable', 'misfit', 'mising', 'miss', 'misscall', 'missed', 'missin', 'missing', 'mission', 'missionary', 'misstake', 'missunderstding', 'mist', 'mistake', 'misundrstud', 'mite', 'mitsake', 'miwa', 'mj', 'mjzgroup', 'ml', 'mn', 'mnth', 'mo', 'moan', 'mob', 'mobile', 'mobilesvary', 'mobsicom', 'moby', 'mode', 'model', 'modelsony', 'modl', 'module', 'mofo', 'moji', 'mokka', 'molestedsomeone', 'mom', 'moment', 'mon', 'monday', 'mondaynxt', 'moneYas', 'moneeppolum', 'money', 'moneyi', 'monkey', 'mono', 'monster', 'month', 'monthly', 'monthnot', 'mood', 'moon', 'morn', 'mornin', 'morning', 'morningtake', 'morphine', 'moseley', 'mostly', 'mother', 'motherfucker', 'motivating', 'motive', 'motor', 'motorola', 'mountain', 'mouse', 'mouth', 'move', 'moved', 'movie', 'moviewat', 'moving', 'mp3', 'mr', 'mre', 'mrng', 'mrt', 'msg', 'msging', 'msgrcvd18', 'msgs150p', 'msgsD', 'msgsometext', 'msgsubscription', 'msgticketkioskValid', 'msn', 'mt', 'mth', 'mths', 'mtnl', 'mu', 'much', 'muchand', 'muchi', 'muchimpede', 'mudyadhu', 'mufti', 'muht', 'multimedia', 'multis', 'mum', 'mumHas', 'mumbai', 'mummy', 'mundhe', 'murali', 'murder', 'murdered', 'murderer', 'mush', 'mushy', 'music', 'musical', 'must', 'musthu', 'mustprovide', 'mutai', 'mutation', 'muz', 'mw', 'mylife', 'mymoby', 'myparents', 'mys', 'mytonecomenjoy', 'n', 'n8', 'na', 'naal', 'nacho', 'nag', 'nagar', 'nahi', 'nail', 'naked', 'nalla', 'nalli', 'name', 'named', 'namemy', 'nammanna', 'nan', 'nange', 'nanny', 'nap', 'narcotic', 'naseeb', 'nasty', 'nat', 'national', 'nattil', 'natuition', 'natural', 'nature', 'natwest', 'naughty', 'nauseous', 'nav', 'navigate', 'nb', 'nd', 'ne', 'near', 'nearby', 'nearer', 'nearly', 'necesity', 'necessarily', 'necessary', 'necessity', 'neck', 'necklace', 'ned', 'need', 'needa', 'needed', 'neededSalary', 'needing', 'needle', 'needy', 'neekunna', 'negative', 'neglect', 'neglet', 'neighbor', 'neither', 'nelson', 'nervous', 'net', 'netflix', 'netno', 'network', 'neva', 'nevamindWe', 'never', 'nevering', 'nevr', 'new', 'newest', 'news', 'newsBy', 'newsHype', 'newscaster', 'newspaper', 'next', 'ni8', 'ni8swt', 'nice', 'nichols', 'nicky', 'nig', 'nigeria', 'night', 'nighters', 'nightnight', 'nightnobody', 'nightsExcellent', 'nightsWe', 'nightswt', 'nigpun', 'nigro', 'nike', 'ninish', 'nino', 'nipost', 'nit', 'nite', 'nitro', 'nitros', 'nitz', 'njan', 'nmde', 'no', 'nobbing', 'nobody', 'noe', 'noise', 'noisy', 'nokia', 'nokias', 'noline', 'nolistened2the', 'non', 'noncomittal', 'none', 'nonetheless', 'noon', 'nora', 'nordstrom', 'norm', 'norm150ptone', 'normal', 'normally', 'north', 'northampton', 'nose', 'nosh', 'nosy', 'note', 'notebook', 'nothin', 'nothing', 'nothis', 'notice', 'notification', 'notified', 'notixiquating', 'notxtcouk', 'noun', 'novelty', 'nowSKY', 'nowSavaMobmember', 'nowSend', 'nowTCs', 'nowUse', 'nowadayslot', 'nowcan', 'nowi', 'nownyt', 'nowonion', 'nowstill', 'nt', 'nte', 'ntswt', 'ntwk', 'nu', 'nuclear', 'nudist', 'nuerologist', 'num', 'number', 'numberpls', 'nurse', 'nursery', 'nusstu', 'nuther', 'nvm', 'nw', 'nxt', 'nyc', 'nydc', 'nyt', 'nz', 'nìte', 'o', 'o2coukgames', 'oath', 'obedient', 'obese', 'obey', 'objection', 'oblisingately', 'oblivious', 'obviously', 'occasion', 'occupied', 'occupy', 'occur', 'occurs', 'oclock', 'october', 'odalebeku', 'odi', 'offc', 'offcampus', 'offdam', 'offense', 'offer', 'offered', 'offering', 'office', 'officer', 'officestill', 'officethenampet', 'officeunderstand', 'officewhats', 'official', 'officially', 'offline', 'ofice', 'oficegot', 'often', 'oga', 'ogunrinde', 'oh', 'oil', 'ok', 'okay', 'okcome', 'okday', 'okie', 'okmail', 'oktake', 'okthenwhats', 'okvarunnathu', 'ola', 'olage', 'olave', 'olayiwolas', 'old', 'ollubut', 'olowoyey', 'olympics', 'omw', 'ondu', 'one', 'onedge', 'oneta', 'oni', 'onit', 'online', 'onlinewhy', 'onluy', 'onlybettr', 'onlydon', 'onto', 'onwards', 'onwords', 'open', 'opened', 'opener', 'openin', 'opening', 'operate', 'operator', 'opinion', 'opponenter', 'opportunity', 'opportunityall', 'opportunitypls', 'opposed', 'opposite', 'opps', 'opt', 'opted', 'optimistic', 'optin', 'option', 'optout', 'or', 'or2optoutHV9D', 'or2stoptxt', 'oral', 'orange', 'orc', 'orchard', 'order', 'ordered', 'ore', 'oredi', 'oreo', 'organise', 'orig', 'original', 'orno', 'ortxt', 'oru', 'oscar', 'oso', 'others', 'otherwise', 'othrs', 'otside', 'ou', 'ouch', 'oursso', 'out', 'outage', 'outbid', 'outdoors', 'outfit', 'outfor', 'outgoing', 'outhave', 'outif', 'outrageous', 'outreach', 'outside', 'outsider', 'outstanding', 'outta', 'ovarian', 'overa', 'overdid', 'overemphasiseor', 'overheating', 'overtime', 'ovr', 'ovulatewhen', 'ovulation', 'ow', 'owe', 'owed', 'owl', 'owned', 'owns', 'ownyouve', 'owo', 'oxygen', 'oyster', 'oz', 'p', 'pa', 'pace', 'pack', 'package', 'packalso', 'packing', 'padhegm', 'page', 'pai', 'paid', 'pain', 'painful', 'painhope', 'paining', 'painit', 'painting', 'pale', 'palm', 'pan', 'panalambut', 'panic', 'panicks', 'panren', 'pant', 'panty', 'pap', 'papa', 'paper', 'paperwork', 'paracetamol', 'parachute', 'parade', 'paragon', 'paragraph', 'paranoid', 'parantella', 'parchi', 'parco', 'parent', 'parentnot', 'parentsi', 'parish', 'park', 'park6ph', 'parked', 'parkin', 'parking', 'part', 'participate', 'particular', 'particularly', 'partner', 'partnership', 'party', 'paru', 'pas', 'passThey', 'passable', 'passed', 'passion', 'passionate', 'passport', 'password', 'past', 'pataistha', 'patent', 'path', 'patient', 'pattern', 'patty', 'pause', 'pay', 'payasam', 'payback', 'payed', 'paying', 'payment', 'payoh', 'paypal', 'pc', 'pdateNow', 'peace', 'peaceful', 'peak', 'pear', 'pee', 'peep', 'pehle', 'pei', 'pen', 'pendent', 'pending', 'pendingi', 'penis', 'penny', 'people', 'per', 'percent', 'percentage', 'perf', 'perfect', 'perform', 'performance', 'performed', 'perfume', 'perhaps', 'period', 'permanent', 'permission', 'perpetual', 'persevered', 'person', 'person2die', 'personMeet', 'personal', 'personally', 'perspective', 'perumbavoor', 'pesky', 'petrol', 'pg', 'ph', 'ph08700435505150p', 'phasing', 'phd', 'phews', 'philosophical', 'philosophy', 'phne', 'phone', 'phone750', 'phonebook', 'phoned', 'photo', 'photoshop', 'phrase', 'physic', 'piah', 'pic', 'picTxt', 'pick', 'picked', 'picking', 'pickle', 'picture', 'pie', 'piece', 'pierre', 'pig', 'pilate', 'pile', 'pillow', 'pimple', 'pimpleseven', 'pin', 'pink', 'pint', 'pisces', 'piss', 'pissed', 'pix', 'pixel', 'pizza', 'place', 'placeNo', 'placed', 'placement', 'plaid', 'plan', 'plane', 'planet', 'planetI', 'planned', 'planning', 'plate', 'play', 'played', 'player', 'playerwhy', 'playi', 'playing', 'playng', 'plaza', 'pleasant', 'please', 'pleased', 'pleasure', 'pleasured', 'plenty', 'plm', 'ploughing', 'pls', 'plum', 'plumber', 'plumbingremixed', 'plural', 'plus', 'plz', 'pm', 'pmt', 'po', 'pocay', 'pocked', 'pocket', 'pocy', 'poem', 'poet', 'point', 'poker', 'poking', 'pole', 'police', 'politician', 'poly', 'polyH', 'polyPH', 'polypH', 'polyphonic', 'polys', 'polytruePixRingtonesGames', 'pongal', 'pongaldo', 'ponnungale', 'poo', 'pookie', 'pool', 'poop', 'poor', 'poorly', 'poortiyagi', 'pop', 'popcorn', 'popped', 'popping', 'porn', 'porridge', 'port', 'portal', 'portege', 'posh', 'posible', 'position', 'positive', 'possession', 'possessive', 'possessiveness', 'possibility', 'possible', 'possibleHope', 'possibly', 'post', 'postal', 'postcode', 'posted', 'posterode', 'posting', 'postponed', 'potato', 'potential', 'pouch', 'pound', 'pounded', 'poured', 'pours', 'pout', 'power', 'powerful', 'ppl', 'pple', 'pple700', 'ppm', 'ppm150', 'ppt150x3normal', 'prabha', 'pract', 'practical', 'practice', 'practicing', 'practicum', 'practising', 'praise', 'prakasam', 'prakasamanu', 'praps', 'prasad', 'pray', 'prayer', 'praying', 'prayingwill', 'pre', 'prebook', 'predict', 'predicting', 'prediction', 'predictive', 'prefer', 'preferably', 'prem', 'premium', 'prepaid', 'prepare', 'prepared', 'prepayment', 'preponed', 'prescribed', 'prescripiton', 'prescription', 'presence', 'present', 'presnts', 'press', 'pressies', 'pressure', 'prestige', 'pretend', 'pretsorginta', 'pretsovru', 'pretty', 'prevent', 'preview', 'previous', 'previously', 'prey', 'price', 'priceso', 'pride', 'priest', 'prin', 'prince', 'princeGN', 'princess', 'print', 'printed', 'printing', 'prior', 'priority', 'priscillas', 'privacy', 'private', 'prix', 'priya', 'prize', 'prizeTo', 'prizesWith', 'pro', 'prob', 'probably', 'problem', 'problematic', 'problembut', 'problemfree', 'problemi', 'problum', 'probs', 'process', 'processExcellent', 'processed', 'processits', 'processnetworking', 'prod', 'product', 'professional', 'professor', 'profile', 'profit', 'program', 'progress', 'project', 'prolly', 'prometazine', 'prominent', 'promise', 'promised', 'promoting', 'prompt', 'promptly', 'prone', 'proof', 'proove', 'proper', 'properly', 'property', 'propose', 'propsd', 'prospect', 'protect', 'prove', 'provided', 'provider', 'province', 'proze', 'prsn', 'ps3', 'pthis', 'pub', 'pubcafe', 'public', 'publish', 'pudunga', 'pull', 'pulling', 'pump', 'punch', 'punish', 'punishment', 'punto', 'puppy', 'pura', 'purchase', 'pure', 'purpose', 'purse', 'push', 'pussy', 'put', 'puttin', 'putting', 'puzzeles', 'puzzle', 'qatar', 'qbank', 'qet', 'qi', 'qing', 'quality', 'quarter', 'queen', 'question', 'questioned', 'questionstd', 'quick', 'quickly', 'quiet', 'quit', 'quite', 'quitting', 'quiz', 'quizclub', 'quote', 'quoting', 'r', 'racing', 'radiator', 'radio', 'raed', 'rael', 'raglan', 'rahul', 'raiden', 'railway', 'rain', 'raining', 'raise', 'raised', 'raja', 'rajini', 'rakhesh', 'raksha', 'ralphs', 'ramen', 'ran', 'random', 'randomlly', 'randomly', 'randy', 'rang', 'range', 'raping', 'rate', 'rateTCs', 'rather', 'ratio', 'rawring', 'ray', 'rayan', 'rcbbattle', 'rcd', 'rcv', 'rcvd', 'rd', 'rdy', 'reLation', 'reach', 'reache', 'reached', 'reaching', 'reacting', 'reaction', 'read', 'reader', 'readiness', 'reading', 'ready', 'readyall', 'real', 'realise', 'realised', 'realising', 'reality', 'realize', 'realized', 'realizes', 'really', 'realy', 'reapply', 'rearrange', 'reason', 'reasonable', 'reassurance', 'reassuring', 'reboot', 'rebooting', 'rebtel', 'rec', 'recd', 'recdthirtyeight', 'receipt', 'receive', 'receivea', 'received', 'receiving', 'recent', 'recently', 'reception', 'recession', 'recharge', 'rechargeRakhesh', 'recharged', 'recieve', 'reckon', 'recognise', 'recognises', 'record', 'recorded', 'recorder', 'recount', 'recovery', 'recreation', 'recycling', 'red', 'redeemable', 'redred', 'reduce', 'ree', 'ref', 'reference', 'referin', 'reffering', 'refilled', 'reflex', 'reformat', 'refreshed', 'refund', 'refundedThis', 'refused', 'reg', 'regard', 'regarding', 'register', 'registered', 'registration', 'regret', 'regretted', 'regular', 'rejected', 'related', 'relation', 'relationshipits', 'relative', 'relax', 'relaxing', 'released', 'reliant', 'relieved', 'religiously', 'relocate', 'reltnship', 'rem', 'remain', 'remains', 'remb', 'remember', 'remembered', 'remet', 'remind', 'reminded', 'reminder', 'reminding', 'reminds', 'removal', 'remove', 'removed', 'rencontre', 'renewal', 'renewed', 'renewing', 'rent', 'rental', 'renting', 'rentl', 'repair', 'repeat', 'repeating', 'repent', 'replace', 'replacement', 'replacing', 'replied', 'reply', 'replyBe', 'replying', 'report', 'reppurcussions', 'representative', 'republic', 'request', 'require', 'required', 'requirement', 'requires', 'reschedule', 'research', 'resend', 'resent', 'reservation', 'reserve', 'reserved', 'reset', 'residency', 'resizing', 'reslove', 'resolution', 'resolved', 'resort', 'respect', 'respectful', 'responcewhat', 'respond', 'responding', 'response', 'responsibility', 'responsible', 'rest', 'restUWud', 'restWish', 'restaurant', 'restock', 'restocked', 'restrict', 'restriction', 'resub', 'resubbing', 'resubmit', 'result', 'resume', 'resuming', 'retard', 'retired', 'retrieve', 'return', 'returned', 'returning', 'reunion', 'revealed', 'revealing', 'review', 'revision', 'reward', 'rewarding', 'rhode', 'rhythm', 'rice', 'rich', 'riddance', 'ridden', 'ride', 'right', 'rightly', 'riley', 'rimac', 'ring', 'ringing', 'ringtone', 'ringtoneget', 'ringtoneking', 'ringtones', 'rinu', 'rip', 'ripped', 'risk', 'rite', 'ritten', 'river', 'ro', 'road', 'roadsRVx', 'roast', 'rob', 'robinson', 'robs', 'rock', 'rocking', 'rofl', 'roger', 'role', 'rolled', 'roller', 'romantic', 'ron', 'room', 'roomate', 'roommate', 'rose', 'rough', 'round', 'rounderso', 'route', 'row', 'royal', 'rpl', 'rply', 'rr', 'rsi', 'ru', 'rub', 'rubber', 'rude', 'rugby', 'ruin', 'ruining', 'rule', 'rumbling', 'rummer', 'rumour', 'run', 'running', 'runninglets', 'rupaul', 'rush', 'rushing', 'ryan', 'ryans', 'sOOn', 'sachin', 'sachinjust', 'sack', 'sacked', 'sacrifice', 'sad', 'safe', 'safely', 'safety', 'saibaba', 'said', 'saidif', 'sake', 'salary', 'sale', 'salesman', 'salespee', 'salmon', 'salon', 'salt', 'samachara', 'samantha', 'sambarlife', 'sameso', 'samus', 'sandiago', 'sane', 'sang', 'sao', 'sapna', 'sar', 'sarasota', 'sarcasm', 'sarcastic', 'sariyag', 'sashimi', 'sat', 'satanic', 'sathy', 'sathya', 'satisfied', 'satisfy', 'satsgettin', 'saturday', 'satü', 'saucy', 'save', 'saved', 'saving', 'saw', 'say', 'sayask', 'sayhey', 'sayin', 'saying', 'sayy', 'sc', 'scallies', 'scammer', 'scarcasim', 'scared', 'scary', 'scenario', 'scenery', 'sch', 'schedule', 'school', 'science', 'scold', 'scorable', 'score', 'scotland', 'scouse', 'scraped', 'scrappy', 'scratch', 'scratching', 'scream', 'screamed', 'screaming', 'screen', 'screwd', 'scrounge', 'scrumptious', 'sculpture', 'sd', 'sdryb8i', 'se', 'sea', 'search', 'searching', 'season', 'seat', 'sec', 'second', 'secondary', 'secret', 'secretary', 'secretly', 'section', 'secure', 'sed', 'see', 'seed', 'seeing', 'seeker', 'seeking', 'seem', 'seemed', 'seems', 'seen', 'sef', 'seh', 'sehwag', 'seing', 'select', 'selected', 'selection', 'self', 'selfish', 'selflessness', 'sell', 'selling', 'sem', 'semester', 'semi', 'semiobscure', 'sen', 'send', 'sending', 'senor', 'senrddnot', 'sense', 'sensesrespect', 'sensible', 'sensitive', 'sent', 'sentence', 'senthil', 'senthilhsbc', 'seperated鈥', 'sept', 'september', 'series', 'serious', 'seriously', 'served', 'server', 'service', 'serving', 'set', 'setting', 'settle', 'settled', 'settling', 'seven', 'several', 'sex', 'sexiest', 'sextextukcom', 'sexual', 'sexy', 'sfirst', 'sh', 'sha', 'shade', 'shadow', 'shag', 'shagged', 'shakara', 'shake', 'shaking', 'shall', 'shame', 'shangela', 'shanghai', 'shaping', 'share', 'shared', 'sharing', 'shattered', 'shaved', 'shd', 'sheet', 'sheffield', 'shelf', 'shell', 'shes', 'shexy', 'shindig', 'shining', 'ship', 'shipped', 'shipping', 'shirt', 'shit', 'shite', 'shitload', 'shitstorm', 'shld', 'shldxxxx', 'shock', 'shocking', 'shoe', 'shoot', 'shop', 'shoppin', 'shopping', 'shopthe', 'shore', 'shoreThe', 'short', 'shortage', 'shortcode', 'shorter', 'shortly', 'shot', 'shoulder', 'shouldnt', 'shouted', 'shouting', 'shove', 'shoving', 'show', 'showed', 'shower', 'showered', 'showing', 'showroomscity', 'shrek', 'shrink', 'shrub', 'shu', 'shud', 'shuhui', 'shun', 'shut', 'shy', 'si', 'sian', 'sic', 'sick', 'sickness', 'side', 'sigh', 'sight', 'sign', 'signal', 'significance', 'significant', 'signin', 'signing', 'siguviri', 'silence', 'silent', 'silently', 'silly', 'silver', 'sim', 'simonwatson5120', 'simple', 'simpler', 'simply', 'simulate', 'since', 'sing', 'singapore', 'singing', 'single', 'sink', 'sip', 'sir', 'sister', 'sit', 'site', 'sitll', 'sitter', 'sittin', 'sitting', 'situation', 'sivatats', 'six', 'size', 'sized', 'skateboarding', 'skill', 'skin', 'skinny', 'skint', 'skip', 'skirt', 'sky', 'skye', 'skype', 'skyped', 'skyving', 'slacking', 'slap', 'slave', 'sleep', 'sleepin', 'sleeping', 'sleepingand', 'sleepy', 'slept', 'slice', 'slide', 'sliding', 'slightly', 'slip', 'slipper', 'slippery', 'slo', 'slob', 'slot', 'slovely', 'slow', 'slower', 'slowing', 'slowly', 'slurp', 'sm', 'smack', 'small', 'smaller', 'smart', 'smartThough', 'smarter', 'smash', 'smashed', 'smear', 'smell', 'smeone', 'smidgin', 'smile', 'smiled', 'smiling', 'smoke', 'smoked', 'smokin', 'smoking', 'smoothly', 'sms08718727870', 'smsd', 'smsing', 'smsshsexnetUN', 'smth', 'sn', 'snake', 'snappy', 'snatch', 'sneham', 'snickering', 'snogs', 'snow', 'snowball', 'snowboarding', 'snowman', 'snuggle', 'soc', 'sochte', 'social', 'sofa', 'soft', 'software', 'soil', 'soiree', 'soladha', 'solihull', 'solve', 'solved', 'some1', 'somebody', 'someday', 'someone', 'someonethat', 'someplace', 'somerset', 'somethin', 'something', 'somethings', 'sometime', 'sometimeRakheshvisitor', 'sometimes', 'sometme', 'somewhat', 'somewhere', 'somewhereSomeone', 'somone', 'somtimes', 'sonathaya', 'song', 'sonot', 'soo', 'soon', 'sooner', 'soonxxx', 'sooo', 'soooo', 'sooooo', 'sophas', 'sore', 'sorrow', 'sorrowsI', 'sorry', 'sorryi', 'sort', 'sorta', 'sorted', 'sorting', 'sory', 'sorydarealyfrm', 'soso', 'soul', 'sound', 'soundtrack', 'soup', 'source', 'south', 'southern', 'souveniers', 'space', 'spacebucks', 'spageddies', 'spanish', 'spare', 'spark', 'sparkling', 'spatula', 'speak', 'speaking', 'spec', 'special', 'specialcall', 'specialisation', 'specialise', 'specially', 'specific', 'specify', 'speechless', 'speed', 'speeding', 'speling', 'spell', 'spelled', 'spelling', 'spend', 'spending', 'spent', 'spice', 'spiffing', 'spile', 'spin', 'spirit', 'spiritual', 'spk', 'splash', 'splendid', 'split', 'splleing', 'splwat', 'spoil', 'spoiled', 'spoilt', 'spoke', 'spoken', 'sponsor', 'spontaneously', 'spoon', 'sporadically', 'sport', 'spot', 'spotty', 'spouse', 'spreadsheet', 'spree', 'spring', 'spy', 'sq825', 'squatting', 'squeezed', 'squid', 'sr', 'srsly', 'srt', 'sry', 'st', 'stability', 'stable', 'stadium', 'staff', 'staffsciencenusedusgphyhcmkteachingpc1323', 'stage', 'stagwood', 'stair', 'stalk', 'stalking', 'stamp', 'stamped', 'stand', 'standard', 'standing', 'star', 'starer', 'staring', 'starring', 'starshine', 'start', 'started', 'startedindia', 'starti', 'starting', 'starve', 'starving', 'stash', 'stated', 'statement', 'station', 'status', 'stay', 'stayed', 'stayin', 'staying', 'std', 'steak', 'steal', 'stealing', 'steam', 'steamboat', 'steed', 'steering', 'step', 'stereo', 'sterling', 'sterm', 'steve', 'stevelike', 'steyn', 'sth', 'stick', 'sticky', 'stifled', 'still', 'stillmaybe', 'stink', 'stitch', 'stock', 'stocked', 'stolen', 'stomach', 'stomp', 'stone', 'stoner', 'stool', 'stop', 'stopCost', 'stopped', 'stoptxtStop', 'stoptxtstop', 'store', 'storelike', 'story', 'str', 'str8', 'straight', 'strain', 'strange', 'stranger', 'strangersaw', 'street', 'streetshall', 'stress', 'stressed', 'stressful', 'stressfull', 'stretch', 'strewn', 'strict', 'strike', 'string', 'strip', 'stripe', 'strong', 'strongly', 'strt', 'strtd', 'struggling', 'sts', 'stubborn', 'stuck', 'studdying', 'student', 'studentsthis', 'studio', 'study', 'studying', 'studyn', 'stuff', 'stuff42moro', 'stuffed', 'stuffing', 'stuffleaving', 'stuffwhy', 'stunning', 'stupid', 'style', 'styling', 'stylish', 'sub', 'subject', 'subletting', 'submitted', 'submitting', 'subscribe', 'subscribed', 'subscriber', 'subscription', 'subscrition', 'subsequent', 'subtoitles', 'success', 'successful', 'successfully', 'suck', 'sucker', 'sudden', 'suddenly', 'sudn', 'sue', 'suffer', 'suffering', 'suffers', 'sufficient', 'sugar', 'sugardad', 'suggest', 'suggestion', 'suit', 'suite', 'suitemates', 'sum', 'sum1', 'sumfing', 'summer', 'summon', 'sumthin', 'sun', 'sun0819', 'sunday', 'sundayish', 'sunlight', 'sunny', 'sunoco', 'sunroof', 'sunshine', 'suntec', 'sup', 'super', 'superb', 'superior', 'supervisor', 'suply', 'supose', 'supplier', 'supply', 'support', 'supportproviding', 'supportvery', 'suppose', 'supposed', 'supreme', 'sura', 'sure', 'surely', 'surf', 'surfing', 'surgical', 'surname', 'surprise', 'surprised', 'surrender', 'surrounded', 'survey', 'surya', 'sutra', 'sux', 'suzy', 'svc', 'swalpa', 'swann', 'swashbuckling', 'swatch', 'sway', 'swear', 'sweater', 'sweatter', 'sweet', 'sweetie', 'swell', 'swhrt', 'swimming', 'swimsuit', 'swing', 'swiss', 'switch', 'swollen', 'swoop', 'swt', 'syd', 'syllabus', 'symbol', 'synced', 'syrup', 'system', 't', 'ta', 'table', 'tablet', 'tackle', 'taco', 'tactful', 'tactless', 'tag', 'tagged', 'tahan', 'tai', 'tait', 'take', 'taken', 'takenOnly', 'takin', 'taking', 'talent', 'talk', 'talking', 'tall', 'tallahassee', 'tallent', 'tamilnaduthen', 'tampa', 'tank', 'tantrum', 'tap', 'tape', 'tariff', 'tarpon', 'taste', 'tat', 'tattoo', 'tau', 'taught', 'taunton', 'tax', 'taxi', 'taxless', 'taxt', 'taylor', 'tb', 'tc', 'tddnewsletteremc1couk', 'tea', 'teach', 'teacher', 'teaching', 'teacoffee', 'team', 'tear', 'tease', 'teasing', 'tech', 'technical', 'technology', 'teenager', 'teeth', 'teethif', 'teethis', 'teju', 'tel', 'telephone', 'tell', 'telling', 'telly', 'telphone', 'telugu', 'teluguthts', 'temales', 'temp', 'temper', 'temple', 'ten', 'tendency', 'tensed', 'term', 'terrible', 'terrific', 'terrorist', 'tescos', 'test', 'testing', 'texas', 'text', 'textand', 'textbook', 'texted', 'textin', 'texting', 'textoperator', 'textsweekend', 'tgxxrz', 'th', 'thandiyachu', 'thangam', 'thangamits', 'thank', 'thanks', 'thanks2', 'thanksgiving', 'thanx', 'thanxxx', 'that2worzels', 'thatd', 'thatdont', 'thati', 'thatll', 'thatnow', 'thats', 'the4th', 'theKingshead', 'theater', 'theatre', 'themP', 'theme', 'themed', 'thenwill', 'theory', 'theplace', 'thepub', 'there', 'theredo', 'theregoodnight', 'therere', 'therexx', 'thesedays', 'thesis', 'thesmszonecom', 'theyll', 'theyre', 'thia', 'thin', 'thing', 'thinghow', 'think', 'thinkThis', 'thinked', 'thinkin', 'thinking', 'thinl', 'thirunelvali', 'thisdon', 'thk', 'thkin', 'thm', 'thnk', 'tho', 'thoso', 'thot', 'thou', 'though', 'thought', 'thoughtsI', 'thousand', 'thread', 'threat', 'three', 'threw', 'thriller', 'throat', 'throw', 'throwin', 'throwing', 'thrown', 'thru', 'thruRespect', 'tht', 'thts', 'thuglyfe', 'thurs', 'thursday', 'thus', 'thx', 'ti', 'tick', 'ticket', 'tiempo', 'tight', 'tightly', 'tigress', 'tihs', 'tiime', 'til', 'till', 'time', 'timeYour', 'timedhoni', 'timehope', 'timeslil', 'timeyou', 'timi', 'timin', 'timing', 'tiny', 'tip', 'tired', 'tiring', 'tirunelvai', 'tirunelvali', 'tirupur', 'titleso', 'tiwary', 'tix', 'tiz', 'tke', 'tkts', 'tlk', 'tm', 'tming', 'tmr', 'tmrw', 'tmw', 'toClaim', 'toDo', 'toa', 'toaday', 'tobacco', 'today', 'todayFrom', 'todayGood', 'todaybut', 'todaydo', 'todayhe', 'tog', 'together', 'tohar', 'toilet', 'tok', 'token', 'toking', 'tol', 'told', 'toldshe', 'tolerance', 'toleratbcs', 'tom', 'tomarrow', 'tomeandsaidTHIS', 'tomo', 'tomoCant', 'tomorro', 'tomorrow', 'tomorrowcall', 'tomorrowtoday', 'ton', 'tone', 'tones2youcouk', 'tonght', 'tongued', 'tonight', 'tonite', 'tonitebusy', 'tonitethings', 'tonsolitusaswell', 'tooLets', 'tooPray', 'took', 'tookplace', 'tool', 'tooo', 'toopray', 'toot', 'toothpaste', 'tootsie', 'top', 'topic', 'topicsorry', 'topped', 'toppoly', 'tor', 'torch', 'torrent', 'tortilla', 'torture', 'tosend', 'toshiba', 'toss', 'tot', 'total', 'totally', 'tote', 'touch', 'touched', 'tough', 'toughest', 'tour', 'towards', 'town', 'toyota', 'tp', 'track', 'trade', 'traffic', 'train', 'trained', 'training', 'trainners', 'tram', 'tranquility', 'transaction', 'transcribing', 'transfer', 'transferacc', 'transfered', 'transferred', 'transfr', 'transfred', 'transport', 'trash', 'trauma', 'travel', 'traveling', 'travelled', 'travelling', 'treacle', 'treadmill', 'treasure', 'treat', 'treated', 'treatin', 'treble', 'tree', 'trek', 'trend', 'trial', 'tried', 'trip', 'trishul', 'triumphed', 'tron', 'trouble', 'troubleshooting', 'trouser', 'truck', 'true', 'truekDo', 'truffle', 'truly', 'trust', 'trusting', 'truth', 'try', 'tryin', 'trying', 'tshirt', 'tsunami', 'tt', 'ttyl', 'tue', 'tues', 'tuesday', 'tui', 'tuition', 'tul', 'tune', 'turkey', 'turn', 'turned', 'turning', 'tuth', 'tv', 'tvhe', 'tvlol', 'twat', 'twelve', 'twenty', 'twice', 'twin', 'two', 'txt', 'txtX', 'txtin', 'txting', 'txtjourney', 'txts', 'tyler', 'type', 'typelyk', 'typical', 'u', 'uOthrwise', 'uSo', 'ubandu', 'ubi', 'ugos', 'uh', 'uif', 'uk', 'ull', 'ultimatum', 'um', 'umma', 'un', 'unable', 'unbelievable', 'unclaimed', 'uncle', 'uncomfortable', 'unconditionally', 'unconscious', 'unconsciously', 'unconvinced', 'uncountable', 'uncut', 'underdtand', 'understand', 'understanding', 'understood', 'underwear', 'undrstnd', 'undrstndng', 'unemployed', 'uneventful', 'unfolds', 'unfortunately', 'unfortuntly', 'unhappiness', 'unhappy', 'uni', 'uniform', 'unintentional', 'unintentionally', 'unique', 'uniqueI', 'unit', 'univ', 'university', 'unknown', 'unless', 'unlimited', 'unmits', 'unnecessarily', 'unrecognized', 'unredeemed', 'unsold', 'unsoldmike', 'unsoldnow', 'unspoken', 'unsubscribe', 'unsubscribed', 'unusual', 'upcharge', 'update', 'upgrade', 'upgrading', 'uphad', 'upload', 'uploaded', 'uploads', 'upon', 'upping', 'upset', 'upseti', 'upsetits', 'upstairs', 'upto', 'ur', 'ure', 'urgent', 'urgentbut', 'urgentlyits', 'urgnt', 'urination', 'url', 'urmomi', 'urself', 'usGET', 'usLET', 'usb', 'usc', 'uscedu', 'use', 'used', 'useful', 'useless', 'user', 'usf', 'using', 'usno', 'usps', 'usual', 'usualiam', 'usually', 'uterus', 'utter', 'uttered', 'uup', 'uv', 'uve', 'uwana', 'uwant', 'uworld', 'uxxxx', 'v', 'vaazhthukkal', 'vague', 'vaguely', 'vai', 'vale', 'valentine', 'valid', 'valuable', 'value', 'valueMorning', 'valued', 'valuing', 'varaya', 'vargu', 'various', 'varma', 'vary', 'vasai', 'vava', 'vday', 'vega', 'vegetable', 'veggie', 'vehicle', 'velachery', 'venaam', 'venugopal', 'verified', 'verify', 'verifying', 'version', 'versus', 'vewy', 'via', 'vibrant', 'vibrate', 'vibrator', 'vic', 'victor', 'victoria', 'vid', 'video', 'videochat', 'videopic', 'videosound', 'videosounds2', 'vidnot', 'view', 'vijay', 'vijaykanth', 'vikky', 'vikkyim', 'vilikkamt', 'vill', 'village', 'vinobanagar', 'violated', 'violence', 'virgil', 'virgin', 'virtual', 'visa', 'visionsmscom', 'visit', 'visiting', 'visitneed', 'visitor', 'vital', 'vitamin', 'vivek', 'viveki', 'vl', 'vldo', 'vodafone', 'vodka', 'voice', 'voicemail', 'volcano', 'vomit', 'vomitin', 'vomiting', 'vote', 'voted', 'voucher', 'vouchersText', 'vpist', 'vry', 'vth', 'vtired', 'w', 'w1t1jy', 'w8in', 'wa', 'wad', 'wadebridgeI', 'wahala', 'wahay', 'waheed', 'waheeda', 'waht', 'wait', 'waited', 'waitin', 'waiting', 'wake', 'waking', 'waliking', 'walk', 'walkabout', 'walked', 'walkin', 'walking', 'wall', 'wallet', 'wallpaper', 'wallpaperall', 'walmart', 'walsall', 'wamma', 'wan', 'wana', 'wanna', 'want', 'want2come', 'wanted', 'wanting', 'wap', 'warm', 'warming', 'warned', 'warner', 'warning', 'warranty', 'warwick', 'washob', 'wasnt', 'waste', 'wasted', 'wasting', 'wat', 'watch', 'watched', 'watchin', 'watching', 'watchng', 'water', 'watever', 'watevr', 'watll', 'wats', 'watt', 'wave', 'way', 'waythis', 'wc', 'wc1n3xx', 'weak', 'weakness', 'weapon', 'wear', 'wearing', 'weasel', 'weaseling', 'weather', 'web', 'web2mobile', 'webadres', 'website', 'websitenow', 'wed', 'weddin', 'wedding', 'wednesday', 'wee', 'weed', 'weeddeficient', 'week', 'weekday', 'weekend', 'weekly', 'weekstop', 'weigh', 'weighed', 'weight', 'weightHaha', 'weird', 'weirdest', 'weirdo', 'weirdy', 'welcome', 'well', 'welli', 'welltake', 'wellyou', 'welp', 'wen', 'wenever', 'went', 'wer', 'wereare', 'werent', 'wesley', 'west', 'western', 'westonzoyland', 'westshore', 'wet', 'wetherspoons', 'weve', 'whatever', 'whats', 'wheat', 'wheel', 'wheellock', 'whenever', 'whens', 'whereare', 'wherebtw', 'wheres', 'wherever', 'whether', 'whileamp', 'whillTake', 'whisper', 'white', 'whn', 'who', 'whole', 'whose', 'whr', 'wi', 'wicked', 'wicket', 'wid', 'widelivecomindex', 'wif', 'wife', 'wifedont', 'wifi', 'wihtuot', 'wikipediacom', 'wil', 'wildest', 'wildlife', 'willing', 'willpower', 'win', 'win150ppmx3age16', 'wind', 'window', 'windy', 'wine', 'wined', 'wining', 'winner', 'winning', 'winterstone', 'wipro', 'wiproyou', 'wisdom', 'wise', 'wish', 'wisheds', 'wishin', 'wishing', 'wishlist', 'wiskey', 'wit', 'withdraw', 'wither', 'within', 'without', 'witin', 'witot', 'witout', 'wiv', 'wizzle', 'wk', 'wkTXT', 'wkend', 'wkg', 'wkly', 'wknd', 'wks', 'wlcome', 'wld', 'wmlid1b6a5ecef91ff937819firsttrue180430JUL05', 'wmlid820554ad0a1705572711firsttrue', 'wnt', 'wo', 'woah', 'wocay', 'woke', 'woken', 'woman', 'womdarfull', 'wondar', 'wondarfull', 'wonder', 'wonderful', 'wondering', 'wont', 'woot', 'woould', 'woozles', 'worc', 'word', 'wordCOLLECT', 'wordSTART', 'wordnot', 'work', 'workAnd', 'workLove', 'workage', 'workin', 'working', 'workout', 'world', 'worldgnun', 'worldmay', 'worldvery', 'worm', 'worried', 'worry', 'worrying', 'worryuse', 'worse', 'worst', 'worth', 'worthless', 'wot', 'woul', 'would', 'woulda', 'wouldnt', 'wound', 'wow', 'wquestion', 'wrecked', 'wrench', 'wrenching', 'write', 'writhing', 'wrk', 'wrking', 'wrks', 'wrnog', 'wrong', 'wrongly', 'wrote', 'wt', 'wtc', 'wtf', 'wth', 'wthout', 'wud', 'wudnt', 'wuld', 'wuldnt', 'wun', 'www07781482378com', 'www4tcbiz', 'www80488biz', 'wwwApplausestorecom', 'wwwB4Utelecom', 'wwwIdewcom', 'wwwLdewcom', 'wwwLdewcom1win150ppmx3age16', 'wwwLdewcom1win150ppmx3age16subscription', 'wwwLdewcomsubs161win150ppmx3', 'wwwSMSacubootydelious', 'wwwSMSacugoldviking', 'wwwSMSacuhmmross', 'wwwSMSacunat27081980', 'wwwSMSacunatalie2k9', 'wwwareyouuniquecouk', 'wwwbridalpetticoatdreamscouk', 'wwwcashbincouk', 'wwwclubmobycom', 'wwwclubzedcouk', 'wwwcnupdatescomnewsletter', 'wwwcomuknet', 'wwwdbuknet', 'wwwflirtpartyus', 'wwwfullonsmscom', 'wwwgambtv', 'wwwgetzedcouk', 'wwwldewcom', 'wwwldewcom1win150ppmx3age16', 'wwwmovietriviatv', 'wwwmusictrivianet', 'wwworangecoukow', 'wwwphb1com', 'wwwregalportfoliocouk', 'wwwringtonekingcouk', 'wwwringtonescouk', 'wwwrtfsphostingcom', 'wwwsantacallingcom', 'wwwshortbreaksorguk', 'wwwsmsconet', 'wwwtcbiz', 'wwwtelediscountcouk', 'wwwtextcompcom', 'wwwtextpodnet', 'wwwtklscom', 'wwwtxt2shopcom', 'wwwtxt43com', 'wwwtxt82228com', 'wwwtxttowincouk', 'wwwwin82050couk', 'wylie', 'x', 'xafter', 'xam', 'xavier', 'xin', 'xins', 'xmas', 'xnet', 'xt', 'xuhui', 'xx', 'xxSP', 'xxx', 'xxxmobilemovieclubcomnQJKGIGHJJGCBL', 'xxxx', 'xxxxxxx', 'xxxxxxxx', 'xxxxxxxxxxxxxX', 'xy', 'ya', 'yah', 'yahoo', 'yalrigu', 'yam', 'yan', 'yard', 'yay', 'yck', 'yday', 'yeah', 'year', 'yelling', 'yellow', 'yeovil', 'yep', 'yer', 'yes', 'yest', 'yesterday', 'yet', 'yettys', 'yetunde', 'yi', 'yifeng', 'yijue', 'yijuehotmailcom', 'ym', 'yo', 'yoHere', 'yoga', 'yogasana', 'yor', 'yorge', 'youPhone', 'youTo', 'youany', 'youcarlos', 'youd', 'youdearwith', 'youdoing', 'youhow', 'youkwhere', 'yould', 'youll', 'youmoney', 'youmy', 'young', 'younger', 'youre', 'yourinclusive', 'youso', 'youthats', 'youuuuu', 'youve', 'youwanna', 'youwhen', 'yoville', 'yowifes', 'yr', 'ystrdayice', 'yummy', 'yun', 'yuo', 'yuou', 'zac', 'zealand', 'zed', 'zero', 'zhong', 'zoom', 'zyada', 'Ü', 'Üll', 'é', 'ü', 'üll', '〨ud']\n"
          ],
          "name": "stdout"
        }
      ]
    },
    {
      "cell_type": "code",
      "metadata": {
        "id": "RwkCFVj_KCuu",
        "colab_type": "code",
        "colab": {}
      },
      "source": [
        "data_sample=data[0:10]\n",
        "cv1=CountVectorizer(analyzer=lemmatization)"
      ],
      "execution_count": 0,
      "outputs": []
    },
    {
      "cell_type": "code",
      "metadata": {
        "id": "Lu-GWLHpKPmh",
        "colab_type": "code",
        "colab": {
          "base_uri": "https://localhost:8080/",
          "height": 34
        },
        "outputId": "139cc532-fa26-4842-b6a3-2495cb0cbbe5"
      },
      "source": [
        "X=cv1.fit_transform(data_sample[\"sms_tokenized\"])\n",
        "print(X.shape)"
      ],
      "execution_count": 495,
      "outputs": [
        {
          "output_type": "stream",
          "text": [
            "(10, 136)\n"
          ],
          "name": "stdout"
        }
      ]
    },
    {
      "cell_type": "code",
      "metadata": {
        "id": "nGQ5QeJVKwsU",
        "colab_type": "code",
        "colab": {}
      },
      "source": [
        "df=pd.DataFrame(X.toarray(), columns=cv1.get_feature_names())"
      ],
      "execution_count": 0,
      "outputs": []
    },
    {
      "cell_type": "code",
      "metadata": {
        "id": "hqLXLhuFK_Jw",
        "colab_type": "code",
        "colab": {
          "base_uri": "https://localhost:8080/",
          "height": 244
        },
        "outputId": "f4f7b583-9250-44ab-c151-601e625f21d8"
      },
      "source": [
        "df.head()"
      ],
      "execution_count": 497,
      "outputs": [
        {
          "output_type": "execute_result",
          "data": {
            "text/html": [
              "<div>\n",
              "<style scoped>\n",
              "    .dataframe tbody tr th:only-of-type {\n",
              "        vertical-align: middle;\n",
              "    }\n",
              "\n",
              "    .dataframe tbody tr th {\n",
              "        vertical-align: top;\n",
              "    }\n",
              "\n",
              "    .dataframe thead th {\n",
              "        text-align: right;\n",
              "    }\n",
              "</style>\n",
              "<table border=\"1\" class=\"dataframe\">\n",
              "  <thead>\n",
              "    <tr style=\"text-align: right;\">\n",
              "      <th></th>\n",
              "      <th>08002986030</th>\n",
              "      <th>08452810075over18s</th>\n",
              "      <th>09061701461</th>\n",
              "      <th>11</th>\n",
              "      <th>12</th>\n",
              "      <th>150</th>\n",
              "      <th>2</th>\n",
              "      <th>2005</th>\n",
              "      <th>21st</th>\n",
              "      <th>3</th>\n",
              "      <th>87121</th>\n",
              "      <th>9</th>\n",
              "      <th>900</th>\n",
              "      <th>As</th>\n",
              "      <th>Available</th>\n",
              "      <th>Call</th>\n",
              "      <th>Callers</th>\n",
              "      <th>Callertune</th>\n",
              "      <th>Cine</th>\n",
              "      <th>Claim</th>\n",
              "      <th>Co</th>\n",
              "      <th>Cup</th>\n",
              "      <th>Even</th>\n",
              "      <th>FA</th>\n",
              "      <th>FREE</th>\n",
              "      <th>Free</th>\n",
              "      <th>FreeMsg</th>\n",
              "      <th>Go</th>\n",
              "      <th>Had</th>\n",
              "      <th>Hey</th>\n",
              "      <th>I</th>\n",
              "      <th>Id</th>\n",
              "      <th>Joking</th>\n",
              "      <th>KL341</th>\n",
              "      <th>May</th>\n",
              "      <th>Melle</th>\n",
              "      <th>Minnaminunginte</th>\n",
              "      <th>Mobile</th>\n",
              "      <th>Nah</th>\n",
              "      <th>Nurungu</th>\n",
              "      <th>...</th>\n",
              "      <th>like</th>\n",
              "      <th>mobile</th>\n",
              "      <th>month</th>\n",
              "      <th>n</th>\n",
              "      <th>network</th>\n",
              "      <th>ok</th>\n",
              "      <th>oni</th>\n",
              "      <th>patent</th>\n",
              "      <th>per</th>\n",
              "      <th>point</th>\n",
              "      <th>prize</th>\n",
              "      <th>questionstd</th>\n",
              "      <th>rateTCs</th>\n",
              "      <th>rcv</th>\n",
              "      <th>receive</th>\n",
              "      <th>receivea</th>\n",
              "      <th>request</th>\n",
              "      <th>reward</th>\n",
              "      <th>say</th>\n",
              "      <th>selected</th>\n",
              "      <th>send</th>\n",
              "      <th>set</th>\n",
              "      <th>speak</th>\n",
              "      <th>std</th>\n",
              "      <th>still</th>\n",
              "      <th>think</th>\n",
              "      <th>though</th>\n",
              "      <th>tkts</th>\n",
              "      <th>treat</th>\n",
              "      <th>txt</th>\n",
              "      <th>u</th>\n",
              "      <th>usf</th>\n",
              "      <th>valued</th>\n",
              "      <th>wat</th>\n",
              "      <th>week</th>\n",
              "      <th>wif</th>\n",
              "      <th>win</th>\n",
              "      <th>wkly</th>\n",
              "      <th>word</th>\n",
              "      <th>world</th>\n",
              "    </tr>\n",
              "  </thead>\n",
              "  <tbody>\n",
              "    <tr>\n",
              "      <th>0</th>\n",
              "      <td>0</td>\n",
              "      <td>0</td>\n",
              "      <td>0</td>\n",
              "      <td>0</td>\n",
              "      <td>0</td>\n",
              "      <td>0</td>\n",
              "      <td>0</td>\n",
              "      <td>0</td>\n",
              "      <td>0</td>\n",
              "      <td>0</td>\n",
              "      <td>0</td>\n",
              "      <td>0</td>\n",
              "      <td>0</td>\n",
              "      <td>0</td>\n",
              "      <td>1</td>\n",
              "      <td>0</td>\n",
              "      <td>0</td>\n",
              "      <td>0</td>\n",
              "      <td>1</td>\n",
              "      <td>0</td>\n",
              "      <td>0</td>\n",
              "      <td>0</td>\n",
              "      <td>0</td>\n",
              "      <td>0</td>\n",
              "      <td>0</td>\n",
              "      <td>0</td>\n",
              "      <td>0</td>\n",
              "      <td>1</td>\n",
              "      <td>0</td>\n",
              "      <td>0</td>\n",
              "      <td>0</td>\n",
              "      <td>0</td>\n",
              "      <td>0</td>\n",
              "      <td>0</td>\n",
              "      <td>0</td>\n",
              "      <td>0</td>\n",
              "      <td>0</td>\n",
              "      <td>0</td>\n",
              "      <td>0</td>\n",
              "      <td>0</td>\n",
              "      <td>...</td>\n",
              "      <td>0</td>\n",
              "      <td>0</td>\n",
              "      <td>0</td>\n",
              "      <td>1</td>\n",
              "      <td>0</td>\n",
              "      <td>0</td>\n",
              "      <td>0</td>\n",
              "      <td>0</td>\n",
              "      <td>0</td>\n",
              "      <td>1</td>\n",
              "      <td>0</td>\n",
              "      <td>0</td>\n",
              "      <td>0</td>\n",
              "      <td>0</td>\n",
              "      <td>0</td>\n",
              "      <td>0</td>\n",
              "      <td>0</td>\n",
              "      <td>0</td>\n",
              "      <td>0</td>\n",
              "      <td>0</td>\n",
              "      <td>0</td>\n",
              "      <td>0</td>\n",
              "      <td>0</td>\n",
              "      <td>0</td>\n",
              "      <td>0</td>\n",
              "      <td>0</td>\n",
              "      <td>0</td>\n",
              "      <td>0</td>\n",
              "      <td>0</td>\n",
              "      <td>0</td>\n",
              "      <td>0</td>\n",
              "      <td>0</td>\n",
              "      <td>0</td>\n",
              "      <td>1</td>\n",
              "      <td>0</td>\n",
              "      <td>0</td>\n",
              "      <td>0</td>\n",
              "      <td>0</td>\n",
              "      <td>0</td>\n",
              "      <td>1</td>\n",
              "    </tr>\n",
              "    <tr>\n",
              "      <th>1</th>\n",
              "      <td>0</td>\n",
              "      <td>0</td>\n",
              "      <td>0</td>\n",
              "      <td>0</td>\n",
              "      <td>0</td>\n",
              "      <td>0</td>\n",
              "      <td>0</td>\n",
              "      <td>0</td>\n",
              "      <td>0</td>\n",
              "      <td>0</td>\n",
              "      <td>0</td>\n",
              "      <td>0</td>\n",
              "      <td>0</td>\n",
              "      <td>0</td>\n",
              "      <td>0</td>\n",
              "      <td>0</td>\n",
              "      <td>0</td>\n",
              "      <td>0</td>\n",
              "      <td>0</td>\n",
              "      <td>0</td>\n",
              "      <td>0</td>\n",
              "      <td>0</td>\n",
              "      <td>0</td>\n",
              "      <td>0</td>\n",
              "      <td>0</td>\n",
              "      <td>0</td>\n",
              "      <td>0</td>\n",
              "      <td>0</td>\n",
              "      <td>0</td>\n",
              "      <td>0</td>\n",
              "      <td>0</td>\n",
              "      <td>0</td>\n",
              "      <td>1</td>\n",
              "      <td>0</td>\n",
              "      <td>0</td>\n",
              "      <td>0</td>\n",
              "      <td>0</td>\n",
              "      <td>0</td>\n",
              "      <td>0</td>\n",
              "      <td>0</td>\n",
              "      <td>...</td>\n",
              "      <td>0</td>\n",
              "      <td>0</td>\n",
              "      <td>0</td>\n",
              "      <td>0</td>\n",
              "      <td>0</td>\n",
              "      <td>0</td>\n",
              "      <td>1</td>\n",
              "      <td>0</td>\n",
              "      <td>0</td>\n",
              "      <td>0</td>\n",
              "      <td>0</td>\n",
              "      <td>0</td>\n",
              "      <td>0</td>\n",
              "      <td>0</td>\n",
              "      <td>0</td>\n",
              "      <td>0</td>\n",
              "      <td>0</td>\n",
              "      <td>0</td>\n",
              "      <td>0</td>\n",
              "      <td>0</td>\n",
              "      <td>0</td>\n",
              "      <td>0</td>\n",
              "      <td>0</td>\n",
              "      <td>0</td>\n",
              "      <td>0</td>\n",
              "      <td>0</td>\n",
              "      <td>0</td>\n",
              "      <td>0</td>\n",
              "      <td>0</td>\n",
              "      <td>0</td>\n",
              "      <td>1</td>\n",
              "      <td>0</td>\n",
              "      <td>0</td>\n",
              "      <td>0</td>\n",
              "      <td>0</td>\n",
              "      <td>1</td>\n",
              "      <td>0</td>\n",
              "      <td>0</td>\n",
              "      <td>0</td>\n",
              "      <td>0</td>\n",
              "    </tr>\n",
              "    <tr>\n",
              "      <th>2</th>\n",
              "      <td>0</td>\n",
              "      <td>1</td>\n",
              "      <td>0</td>\n",
              "      <td>0</td>\n",
              "      <td>0</td>\n",
              "      <td>0</td>\n",
              "      <td>1</td>\n",
              "      <td>1</td>\n",
              "      <td>1</td>\n",
              "      <td>0</td>\n",
              "      <td>1</td>\n",
              "      <td>0</td>\n",
              "      <td>0</td>\n",
              "      <td>0</td>\n",
              "      <td>0</td>\n",
              "      <td>0</td>\n",
              "      <td>0</td>\n",
              "      <td>0</td>\n",
              "      <td>0</td>\n",
              "      <td>0</td>\n",
              "      <td>0</td>\n",
              "      <td>1</td>\n",
              "      <td>0</td>\n",
              "      <td>2</td>\n",
              "      <td>0</td>\n",
              "      <td>1</td>\n",
              "      <td>0</td>\n",
              "      <td>0</td>\n",
              "      <td>0</td>\n",
              "      <td>0</td>\n",
              "      <td>0</td>\n",
              "      <td>0</td>\n",
              "      <td>0</td>\n",
              "      <td>0</td>\n",
              "      <td>1</td>\n",
              "      <td>0</td>\n",
              "      <td>0</td>\n",
              "      <td>0</td>\n",
              "      <td>0</td>\n",
              "      <td>0</td>\n",
              "      <td>...</td>\n",
              "      <td>0</td>\n",
              "      <td>0</td>\n",
              "      <td>0</td>\n",
              "      <td>0</td>\n",
              "      <td>0</td>\n",
              "      <td>0</td>\n",
              "      <td>0</td>\n",
              "      <td>0</td>\n",
              "      <td>0</td>\n",
              "      <td>0</td>\n",
              "      <td>0</td>\n",
              "      <td>1</td>\n",
              "      <td>1</td>\n",
              "      <td>0</td>\n",
              "      <td>1</td>\n",
              "      <td>0</td>\n",
              "      <td>0</td>\n",
              "      <td>0</td>\n",
              "      <td>0</td>\n",
              "      <td>0</td>\n",
              "      <td>0</td>\n",
              "      <td>0</td>\n",
              "      <td>0</td>\n",
              "      <td>0</td>\n",
              "      <td>0</td>\n",
              "      <td>0</td>\n",
              "      <td>0</td>\n",
              "      <td>1</td>\n",
              "      <td>0</td>\n",
              "      <td>1</td>\n",
              "      <td>0</td>\n",
              "      <td>0</td>\n",
              "      <td>0</td>\n",
              "      <td>0</td>\n",
              "      <td>0</td>\n",
              "      <td>0</td>\n",
              "      <td>1</td>\n",
              "      <td>1</td>\n",
              "      <td>0</td>\n",
              "      <td>0</td>\n",
              "    </tr>\n",
              "    <tr>\n",
              "      <th>3</th>\n",
              "      <td>0</td>\n",
              "      <td>0</td>\n",
              "      <td>0</td>\n",
              "      <td>0</td>\n",
              "      <td>0</td>\n",
              "      <td>0</td>\n",
              "      <td>0</td>\n",
              "      <td>0</td>\n",
              "      <td>0</td>\n",
              "      <td>0</td>\n",
              "      <td>0</td>\n",
              "      <td>0</td>\n",
              "      <td>0</td>\n",
              "      <td>0</td>\n",
              "      <td>0</td>\n",
              "      <td>0</td>\n",
              "      <td>0</td>\n",
              "      <td>0</td>\n",
              "      <td>0</td>\n",
              "      <td>0</td>\n",
              "      <td>0</td>\n",
              "      <td>0</td>\n",
              "      <td>0</td>\n",
              "      <td>0</td>\n",
              "      <td>0</td>\n",
              "      <td>0</td>\n",
              "      <td>0</td>\n",
              "      <td>0</td>\n",
              "      <td>0</td>\n",
              "      <td>0</td>\n",
              "      <td>0</td>\n",
              "      <td>0</td>\n",
              "      <td>0</td>\n",
              "      <td>0</td>\n",
              "      <td>0</td>\n",
              "      <td>0</td>\n",
              "      <td>0</td>\n",
              "      <td>0</td>\n",
              "      <td>0</td>\n",
              "      <td>0</td>\n",
              "      <td>...</td>\n",
              "      <td>0</td>\n",
              "      <td>0</td>\n",
              "      <td>0</td>\n",
              "      <td>0</td>\n",
              "      <td>0</td>\n",
              "      <td>0</td>\n",
              "      <td>0</td>\n",
              "      <td>0</td>\n",
              "      <td>0</td>\n",
              "      <td>0</td>\n",
              "      <td>0</td>\n",
              "      <td>0</td>\n",
              "      <td>0</td>\n",
              "      <td>0</td>\n",
              "      <td>0</td>\n",
              "      <td>0</td>\n",
              "      <td>0</td>\n",
              "      <td>0</td>\n",
              "      <td>2</td>\n",
              "      <td>0</td>\n",
              "      <td>0</td>\n",
              "      <td>0</td>\n",
              "      <td>0</td>\n",
              "      <td>0</td>\n",
              "      <td>0</td>\n",
              "      <td>0</td>\n",
              "      <td>0</td>\n",
              "      <td>0</td>\n",
              "      <td>0</td>\n",
              "      <td>0</td>\n",
              "      <td>0</td>\n",
              "      <td>0</td>\n",
              "      <td>0</td>\n",
              "      <td>0</td>\n",
              "      <td>0</td>\n",
              "      <td>0</td>\n",
              "      <td>0</td>\n",
              "      <td>0</td>\n",
              "      <td>0</td>\n",
              "      <td>0</td>\n",
              "    </tr>\n",
              "    <tr>\n",
              "      <th>4</th>\n",
              "      <td>0</td>\n",
              "      <td>0</td>\n",
              "      <td>0</td>\n",
              "      <td>0</td>\n",
              "      <td>0</td>\n",
              "      <td>0</td>\n",
              "      <td>0</td>\n",
              "      <td>0</td>\n",
              "      <td>0</td>\n",
              "      <td>0</td>\n",
              "      <td>0</td>\n",
              "      <td>0</td>\n",
              "      <td>0</td>\n",
              "      <td>0</td>\n",
              "      <td>0</td>\n",
              "      <td>0</td>\n",
              "      <td>0</td>\n",
              "      <td>0</td>\n",
              "      <td>0</td>\n",
              "      <td>0</td>\n",
              "      <td>0</td>\n",
              "      <td>0</td>\n",
              "      <td>0</td>\n",
              "      <td>0</td>\n",
              "      <td>0</td>\n",
              "      <td>0</td>\n",
              "      <td>0</td>\n",
              "      <td>0</td>\n",
              "      <td>0</td>\n",
              "      <td>0</td>\n",
              "      <td>1</td>\n",
              "      <td>0</td>\n",
              "      <td>0</td>\n",
              "      <td>0</td>\n",
              "      <td>0</td>\n",
              "      <td>0</td>\n",
              "      <td>0</td>\n",
              "      <td>0</td>\n",
              "      <td>1</td>\n",
              "      <td>0</td>\n",
              "      <td>...</td>\n",
              "      <td>0</td>\n",
              "      <td>0</td>\n",
              "      <td>0</td>\n",
              "      <td>0</td>\n",
              "      <td>0</td>\n",
              "      <td>0</td>\n",
              "      <td>0</td>\n",
              "      <td>0</td>\n",
              "      <td>0</td>\n",
              "      <td>0</td>\n",
              "      <td>0</td>\n",
              "      <td>0</td>\n",
              "      <td>0</td>\n",
              "      <td>0</td>\n",
              "      <td>0</td>\n",
              "      <td>0</td>\n",
              "      <td>0</td>\n",
              "      <td>0</td>\n",
              "      <td>0</td>\n",
              "      <td>0</td>\n",
              "      <td>0</td>\n",
              "      <td>0</td>\n",
              "      <td>0</td>\n",
              "      <td>0</td>\n",
              "      <td>0</td>\n",
              "      <td>1</td>\n",
              "      <td>1</td>\n",
              "      <td>0</td>\n",
              "      <td>0</td>\n",
              "      <td>0</td>\n",
              "      <td>0</td>\n",
              "      <td>1</td>\n",
              "      <td>0</td>\n",
              "      <td>0</td>\n",
              "      <td>0</td>\n",
              "      <td>0</td>\n",
              "      <td>0</td>\n",
              "      <td>0</td>\n",
              "      <td>0</td>\n",
              "      <td>0</td>\n",
              "    </tr>\n",
              "  </tbody>\n",
              "</table>\n",
              "<p>5 rows × 136 columns</p>\n",
              "</div>"
            ],
            "text/plain": [
              "   08002986030  08452810075over18s  09061701461  11  ...  win  wkly  word  world\n",
              "0            0                   0            0   0  ...    0     0     0      1\n",
              "1            0                   0            0   0  ...    0     0     0      0\n",
              "2            0                   1            0   0  ...    1     1     0      0\n",
              "3            0                   0            0   0  ...    0     0     0      0\n",
              "4            0                   0            0   0  ...    0     0     0      0\n",
              "\n",
              "[5 rows x 136 columns]"
            ]
          },
          "metadata": {
            "tags": []
          },
          "execution_count": 497
        }
      ]
    }
  ]
}